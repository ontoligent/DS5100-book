{
 "cells": [
  {
   "cell_type": "markdown",
   "id": "f765969e",
   "metadata": {},
   "source": [
    "```\n",
    "title: \"M02 Python Basics\"\n",
    "author: R.C. Alvarado\n",
    "date: 21 June 2022 (Modified 28 January 2023)\n",
    "format: html\n",
    "```\n",
    "\n",
    "## Python Data Types\n",
    "\n",
    "We declare a number of variables with different value types.\n",
    "\n",
    "By 'type' we mean object type. \n",
    "\n",
    "Data types and data structures are both types of object.\n",
    "\n",
    "Data types are created by the way they are written or as keywords ...\n",
    "\n",
    "Here is a series of literal values (called **literals**):\n",
    "\n",
    "**Integers**\n"
   ]
  },
  {
   "cell_type": "code",
   "execution_count": 1,
   "id": "a5c7f20b",
   "metadata": {},
   "outputs": [
    {
     "data": {
      "text/plain": [
       "10"
      ]
     },
     "execution_count": 1,
     "metadata": {},
     "output_type": "execute_result"
    }
   ],
   "source": [
    "10"
   ]
  },
  {
   "cell_type": "markdown",
   "id": "e40f1715",
   "metadata": {},
   "source": [
    "**Floats (decimals)**\n"
   ]
  },
  {
   "cell_type": "code",
   "execution_count": 2,
   "id": "8dd5b93a",
   "metadata": {},
   "outputs": [
    {
     "data": {
      "text/plain": [
       "3.14"
      ]
     },
     "execution_count": 2,
     "metadata": {},
     "output_type": "execute_result"
    }
   ],
   "source": [
    "3.14 "
   ]
  },
  {
   "cell_type": "markdown",
   "id": "c3d38b7b",
   "metadata": {},
   "source": [
    "**Strings**\n",
    "\n",
    "Type of quote does not matter, but they must be straight quotes, not \"smart quotes\" that some word processors use.\n",
    "\n",
    "Note that there is no explicit **character** type as in Java and other languages.\n"
   ]
  },
  {
   "cell_type": "code",
   "execution_count": 3,
   "id": "e1834dea",
   "metadata": {},
   "outputs": [
    {
     "data": {
      "text/plain": [
       "'foo'"
      ]
     },
     "execution_count": 3,
     "metadata": {},
     "output_type": "execute_result"
    }
   ],
   "source": [
    "\"foo\" "
   ]
  },
  {
   "cell_type": "code",
   "execution_count": 4,
   "id": "d7d33fd2",
   "metadata": {},
   "outputs": [
    {
     "data": {
      "text/plain": [
       "'foo'"
      ]
     },
     "execution_count": 4,
     "metadata": {},
     "output_type": "execute_result"
    }
   ],
   "source": [
    "'foo'"
   ]
  },
  {
   "cell_type": "markdown",
   "id": "35f20c6f",
   "metadata": {},
   "source": [
    "**Boolean**\n"
   ]
  },
  {
   "cell_type": "code",
   "execution_count": 5,
   "id": "d81c2adf",
   "metadata": {},
   "outputs": [
    {
     "data": {
      "text/plain": [
       "(True, False)"
      ]
     },
     "execution_count": 5,
     "metadata": {},
     "output_type": "execute_result"
    }
   ],
   "source": [
    "True, False"
   ]
  },
  {
   "cell_type": "markdown",
   "id": "3484163f",
   "metadata": {},
   "source": [
    "**Nothing**\n",
    "\n",
    "It evaluates to nothing!\n"
   ]
  },
  {
   "cell_type": "code",
   "execution_count": 6,
   "id": "192f3c73",
   "metadata": {},
   "outputs": [],
   "source": [
    "None"
   ]
  },
  {
   "cell_type": "code",
   "execution_count": 7,
   "id": "dc19851f",
   "metadata": {},
   "outputs": [
    {
     "name": "stdout",
     "output_type": "stream",
     "text": [
      "None\n"
     ]
    }
   ],
   "source": [
    "print(None)"
   ]
  },
  {
   "cell_type": "markdown",
   "id": "645d1b01",
   "metadata": {},
   "source": [
    "**Complex**\n",
    "\n",
    "For the physicists and signal processors.\n"
   ]
  },
  {
   "cell_type": "code",
   "execution_count": 8,
   "id": "455a4447",
   "metadata": {},
   "outputs": [
    {
     "data": {
      "text/plain": [
       "(5+0j)"
      ]
     },
     "execution_count": 8,
     "metadata": {},
     "output_type": "execute_result"
    }
   ],
   "source": [
    "5+0j"
   ]
  },
  {
   "cell_type": "markdown",
   "id": "b2a17ad4",
   "metadata": {},
   "source": [
    "## Getting the type of a value\n",
    "\n",
    "You can always find out what kind of type you are working with by calling the `type()` function.\n"
   ]
  },
  {
   "cell_type": "code",
   "execution_count": 9,
   "id": "742267a1",
   "metadata": {},
   "outputs": [
    {
     "name": "stdout",
     "output_type": "stream",
     "text": [
      "<class 'float'>\n",
      "<class 'str'>\n",
      "<class 'str'>\n",
      "<class 'bool'>\n",
      "<class 'NoneType'>\n"
     ]
    }
   ],
   "source": [
    "print(type(3.14))\n",
    "print(type(\"foo\"))\n",
    "print(type('foo'))\n",
    "print(type(True))\n",
    "print(type(None))"
   ]
  },
  {
   "cell_type": "markdown",
   "id": "6e132fc0",
   "metadata": {},
   "source": [
    "## Assignment\n",
    "\n",
    "Data are assigned to **variables** using the assignment **operator** `=`.\n",
    "\n",
    "The variable is always on the **left**, the value assigned to it on the **right**.\n",
    "\n",
    "This is not the same as mathemtical equality.\n",
    "\n",
    "Variables are assigned types **dynamically**. \n",
    "\n",
    "This is in contrast to static typing, where you have define variables by asserting what kind of data values they can hold.\n",
    "\n",
    "Python figures out what type of data is being set to the variable and implicitly stores that info.\n"
   ]
  },
  {
   "cell_type": "code",
   "execution_count": 10,
   "id": "6246b2d0",
   "metadata": {},
   "outputs": [],
   "source": [
    "integerEx = 8\n",
    "longIntEx = 22000000000000000000000\n",
    "floatEx = 2.2\n",
    "stringEx = \"Hello\"\n",
    "booleanEx = True\n",
    "noneEx = None"
   ]
  },
  {
   "cell_type": "markdown",
   "id": "b7311f7e",
   "metadata": {},
   "source": [
    "**Note that `type()` returns the type of the value that a variable holds, not the type \"variable\".\n"
   ]
  },
  {
   "cell_type": "code",
   "execution_count": 11,
   "id": "85f8d05f",
   "metadata": {},
   "outputs": [
    {
     "name": "stdout",
     "output_type": "stream",
     "text": [
      "<class 'int'>\n"
     ]
    }
   ],
   "source": [
    "print(type(integerEx))"
   ]
  },
  {
   "cell_type": "markdown",
   "id": "4b6a7f58",
   "metadata": {},
   "source": [
    "## Deleting variables with `del()`\n"
   ]
  },
  {
   "cell_type": "code",
   "execution_count": 12,
   "id": "c9277b5b",
   "metadata": {},
   "outputs": [],
   "source": [
    "x = 101.25"
   ]
  },
  {
   "cell_type": "code",
   "execution_count": 13,
   "id": "8e7cf3c4",
   "metadata": {},
   "outputs": [
    {
     "data": {
      "text/plain": [
       "101.25"
      ]
     },
     "execution_count": 13,
     "metadata": {},
     "output_type": "execute_result"
    }
   ],
   "source": [
    "x"
   ]
  },
  {
   "cell_type": "code",
   "execution_count": 14,
   "id": "db09a68d",
   "metadata": {},
   "outputs": [],
   "source": [
    "del(x)  # delete the variable x"
   ]
  },
  {
   "cell_type": "code",
   "execution_count": 15,
   "id": "8577a0ee",
   "metadata": {},
   "outputs": [
    {
     "ename": "NameError",
     "evalue": "name 'x' is not defined",
     "output_type": "error",
     "traceback": [
      "\u001b[0;31m---------------------------------------------------------------------------\u001b[0m",
      "\u001b[0;31mNameError\u001b[0m                                 Traceback (most recent call last)",
      "Cell \u001b[0;32mIn[15], line 1\u001b[0m\n\u001b[0;32m----> 1\u001b[0m \u001b[43mx\u001b[49m\n",
      "\u001b[0;31mNameError\u001b[0m: name 'x' is not defined"
     ]
    }
   ],
   "source": [
    "x"
   ]
  },
  {
   "cell_type": "markdown",
   "id": "b07a6427",
   "metadata": {},
   "source": [
    "You can't delete values!\n"
   ]
  },
  {
   "cell_type": "code",
   "execution_count": null,
   "id": "2bf7038f",
   "metadata": {},
   "outputs": [],
   "source": [
    "del(\"foo\")"
   ]
  },
  {
   "cell_type": "markdown",
   "id": "3160eb4d",
   "metadata": {},
   "source": [
    "# Get Object Indenity with `id()`\n",
    "\n",
    "This function returns the identity of an object. \n",
    "\n",
    "The identity is a number that is guaranteed to be unique and constant for this object during its lifetime (during the program session).\n",
    "\n",
    "You can think of it as the address of the object in memory.\n"
   ]
  },
  {
   "cell_type": "code",
   "execution_count": null,
   "id": "58e470a8",
   "metadata": {},
   "outputs": [],
   "source": [
    "print(id(integerEx))"
   ]
  },
  {
   "cell_type": "markdown",
   "id": "8eca04e1",
   "metadata": {},
   "source": [
    "# Convert Types with Casting Functions\n",
    "\n",
    "It is possible to convert between types (when it makes sense to do so).\n",
    "\n",
    "Sometimes conversions are \"lossy\" -- you lose information in the process\n",
    "\n",
    "## `int()` \n"
   ]
  },
  {
   "cell_type": "code",
   "execution_count": 16,
   "id": "7b012ae9",
   "metadata": {},
   "outputs": [
    {
     "data": {
      "text/plain": [
       "\u001b[0;31mInit signature:\u001b[0m \u001b[0mint\u001b[0m\u001b[0;34m(\u001b[0m\u001b[0mself\u001b[0m\u001b[0;34m,\u001b[0m \u001b[0;34m/\u001b[0m\u001b[0;34m,\u001b[0m \u001b[0;34m*\u001b[0m\u001b[0margs\u001b[0m\u001b[0;34m,\u001b[0m \u001b[0;34m**\u001b[0m\u001b[0mkwargs\u001b[0m\u001b[0;34m)\u001b[0m\u001b[0;34m\u001b[0m\u001b[0;34m\u001b[0m\u001b[0m\n",
       "\u001b[0;31mDocstring:\u001b[0m     \n",
       "int([x]) -> integer\n",
       "int(x, base=10) -> integer\n",
       "\n",
       "Convert a number or string to an integer, or return 0 if no arguments\n",
       "are given.  If x is a number, return x.__int__().  For floating point\n",
       "numbers, this truncates towards zero.\n",
       "\n",
       "If x is not a number or if base is given, then x must be a string,\n",
       "bytes, or bytearray instance representing an integer literal in the\n",
       "given base.  The literal can be preceded by '+' or '-' and be surrounded\n",
       "by whitespace.  The base defaults to 10.  Valid bases are 0 and 2-36.\n",
       "Base 0 means to interpret the base from the string as an integer literal.\n",
       ">>> int('0b100', base=0)\n",
       "4\n",
       "\u001b[0;31mType:\u001b[0m           type\n",
       "\u001b[0;31mSubclasses:\u001b[0m     bool, IntEnum, IntFlag, _NamedIntConstant"
      ]
     },
     "metadata": {},
     "output_type": "display_data"
    }
   ],
   "source": [
    "int?"
   ]
  },
  {
   "cell_type": "markdown",
   "id": "e78adc63",
   "metadata": {},
   "source": [
    "**Float to Int**\n"
   ]
  },
  {
   "cell_type": "code",
   "execution_count": 17,
   "id": "04094e16",
   "metadata": {},
   "outputs": [
    {
     "name": "stdout",
     "output_type": "stream",
     "text": [
      "3.8 <class 'float'>\n"
     ]
    }
   ],
   "source": [
    "val = 3.8\n",
    "print(val, type(val))"
   ]
  },
  {
   "cell_type": "code",
   "execution_count": 18,
   "id": "f223a1c2",
   "metadata": {},
   "outputs": [
    {
     "name": "stdout",
     "output_type": "stream",
     "text": [
      "3 <class 'int'>\n"
     ]
    }
   ],
   "source": [
    "val_int = int(val)\n",
    "print(val_int, type(val_int))"
   ]
  },
  {
   "cell_type": "markdown",
   "id": "d533c411",
   "metadata": {},
   "source": [
    "**String to Float**\n"
   ]
  },
  {
   "cell_type": "code",
   "execution_count": 19,
   "id": "0bb20515",
   "metadata": {},
   "outputs": [
    {
     "name": "stdout",
     "output_type": "stream",
     "text": [
      "3.8 <class 'str'>\n"
     ]
    }
   ],
   "source": [
    "val = '3.8'\n",
    "print(val, type(val))"
   ]
  },
  {
   "cell_type": "code",
   "execution_count": 20,
   "id": "65723c06",
   "metadata": {},
   "outputs": [
    {
     "name": "stdout",
     "output_type": "stream",
     "text": [
      "3.8 <class 'float'>\n"
     ]
    }
   ],
   "source": [
    "val_int = float(val)\n",
    "print(val_int, type(val_int))"
   ]
  },
  {
   "cell_type": "markdown",
   "id": "2b0b6c47",
   "metadata": {},
   "source": [
    "**Converting string decimal to integer will fail:**\n"
   ]
  },
  {
   "cell_type": "code",
   "execution_count": 21,
   "id": "9324c5d8",
   "metadata": {},
   "outputs": [
    {
     "name": "stdout",
     "output_type": "stream",
     "text": [
      "3.8 <class 'str'>\n"
     ]
    }
   ],
   "source": [
    "val = '3.8'\n",
    "print(val, type(val))"
   ]
  },
  {
   "cell_type": "code",
   "execution_count": 22,
   "id": "6e4ad615",
   "metadata": {},
   "outputs": [
    {
     "ename": "ValueError",
     "evalue": "invalid literal for int() with base 10: '3.8'",
     "output_type": "error",
     "traceback": [
      "\u001b[0;31m---------------------------------------------------------------------------\u001b[0m",
      "\u001b[0;31mValueError\u001b[0m                                Traceback (most recent call last)",
      "Cell \u001b[0;32mIn[22], line 1\u001b[0m\n\u001b[0;32m----> 1\u001b[0m val_int \u001b[38;5;241m=\u001b[39m \u001b[38;5;28;43mint\u001b[39;49m\u001b[43m(\u001b[49m\u001b[43mval\u001b[49m\u001b[43m)\u001b[49m\n\u001b[1;32m      2\u001b[0m \u001b[38;5;28mprint\u001b[39m(val_int, \u001b[38;5;28mtype\u001b[39m(val_int))\n",
      "\u001b[0;31mValueError\u001b[0m: invalid literal for int() with base 10: '3.8'"
     ]
    }
   ],
   "source": [
    "val_int = int(val)\n",
    "print(val_int, type(val_int))"
   ]
  },
  {
   "cell_type": "markdown",
   "id": "7134a18b",
   "metadata": {},
   "source": [
    "## `ord()`\n",
    "\n",
    "**Converting a character to it's code point**\n"
   ]
  },
  {
   "cell_type": "code",
   "execution_count": 23,
   "id": "eed2c85c",
   "metadata": {},
   "outputs": [
    {
     "data": {
      "text/plain": [
       "\u001b[0;31mSignature:\u001b[0m \u001b[0mord\u001b[0m\u001b[0;34m(\u001b[0m\u001b[0mc\u001b[0m\u001b[0;34m,\u001b[0m \u001b[0;34m/\u001b[0m\u001b[0;34m)\u001b[0m\u001b[0;34m\u001b[0m\u001b[0;34m\u001b[0m\u001b[0m\n",
       "\u001b[0;31mDocstring:\u001b[0m Return the Unicode code point for a one-character string.\n",
       "\u001b[0;31mType:\u001b[0m      builtin_function_or_method"
      ]
     },
     "metadata": {},
     "output_type": "display_data"
    }
   ],
   "source": [
    "ord?"
   ]
  },
  {
   "cell_type": "code",
   "execution_count": 24,
   "id": "38cb7ca3",
   "metadata": {},
   "outputs": [
    {
     "data": {
      "text/plain": [
       "(97, 65)"
      ]
     },
     "execution_count": 24,
     "metadata": {},
     "output_type": "execute_result"
    }
   ],
   "source": [
    "ord('a'), ord('A')"
   ]
  },
  {
   "cell_type": "markdown",
   "id": "9a95e665",
   "metadata": {},
   "source": [
    "# Operators\n",
    "\n",
    "If variables are **nouns**, and values **meanings**, then operators are **verbs**.\n",
    "\n",
    "In effect, they are **elementary functions** that are expressed in sequential syntax.\n",
    "\n",
    "`a + b` could have been expressed as `add(a, b)`.\n",
    "\n",
    "Basically, **each data type is associated with a set of operators** that allow you to manipulate the data in way that makes sense for its type. Numeric data types are subject to mathematical operations, booleans to logical ones, and so forth.\n",
    "\n",
    "There are also **operations appropriate to structures**. For example, list-like things have membership.\n",
    "\n",
    "The relationship between types and operators is a microcosm of the relationship betweed data structures and algorithms. **Data structures imply algorithms and algorithms assume data structures.**\n",
    "\n",
    "The w3schools site has [a good summary](https://www.w3schools.com/python/python_operators.asp).\n",
    "\n",
    "Here are some you may not have seen.\n",
    "\n",
    "## Arithmetic Operators\n",
    "\n",
    "### floor division `//`\n"
   ]
  },
  {
   "cell_type": "code",
   "execution_count": 25,
   "id": "44a193f9",
   "metadata": {},
   "outputs": [
    {
     "data": {
      "text/plain": [
       "2"
      ]
     },
     "execution_count": 25,
     "metadata": {},
     "output_type": "execute_result"
    }
   ],
   "source": [
    "5 // 2"
   ]
  },
  {
   "cell_type": "code",
   "execution_count": 26,
   "id": "65034ed2",
   "metadata": {},
   "outputs": [
    {
     "data": {
      "text/plain": [
       "-3"
      ]
     },
     "execution_count": 26,
     "metadata": {},
     "output_type": "execute_result"
    }
   ],
   "source": [
    "-5 // 2"
   ]
  },
  {
   "cell_type": "code",
   "execution_count": 27,
   "id": "0296c036",
   "metadata": {},
   "outputs": [
    {
     "data": {
      "text/plain": [
       "2.0"
      ]
     },
     "execution_count": 27,
     "metadata": {},
     "output_type": "execute_result"
    }
   ],
   "source": [
    "5.5 // 2"
   ]
  },
  {
   "cell_type": "markdown",
   "id": "2301af20",
   "metadata": {},
   "source": [
    "### modulus `%`\n",
    "\n",
    "Returns the remainder\n"
   ]
  },
  {
   "cell_type": "code",
   "execution_count": 28,
   "id": "84703e32",
   "metadata": {},
   "outputs": [
    {
     "data": {
      "text/plain": [
       "1"
      ]
     },
     "execution_count": 28,
     "metadata": {},
     "output_type": "execute_result"
    }
   ],
   "source": [
    "5 % 2"
   ]
  },
  {
   "cell_type": "markdown",
   "id": "8465e704",
   "metadata": {},
   "source": [
    "odd integers % 2 = 1  \n",
    "even integers % 2 = 0\n",
    "\n",
    "Look at this ... \n"
   ]
  },
  {
   "cell_type": "code",
   "execution_count": 29,
   "id": "7495d316",
   "metadata": {},
   "outputs": [
    {
     "data": {
      "text/plain": [
       "(2.75, 2.0, 1.5)"
      ]
     },
     "execution_count": 29,
     "metadata": {},
     "output_type": "execute_result"
    }
   ],
   "source": [
    "5.5 / 2, 5.5 // 2, 5.5 % 2"
   ]
  },
  {
   "cell_type": "markdown",
   "id": "4f7c35c7",
   "metadata": {},
   "source": [
    "### exponentiation `**`\n"
   ]
  },
  {
   "cell_type": "code",
   "execution_count": 30,
   "id": "fedc516c",
   "metadata": {},
   "outputs": [
    {
     "data": {
      "text/plain": [
       "125"
      ]
     },
     "execution_count": 30,
     "metadata": {},
     "output_type": "execute_result"
    }
   ],
   "source": [
    "5**3"
   ]
  },
  {
   "cell_type": "markdown",
   "id": "0b9dbf8e",
   "metadata": {},
   "source": [
    "## String Operators\n",
    "\n",
    "### concatenation `+`\n",
    "\n",
    "The plus sign is an **ovderloaded** operator in Python.\n"
   ]
  },
  {
   "cell_type": "code",
   "execution_count": 31,
   "id": "c34fe6df",
   "metadata": {},
   "outputs": [],
   "source": [
    "myString = 'This: '"
   ]
  },
  {
   "cell_type": "code",
   "execution_count": 32,
   "id": "358ee5d1",
   "metadata": {},
   "outputs": [],
   "source": [
    "my2ndString = myString + ' Goodbye, world!'"
   ]
  },
  {
   "cell_type": "code",
   "execution_count": 33,
   "id": "dd727bcc",
   "metadata": {},
   "outputs": [
    {
     "data": {
      "text/plain": [
       "'This:  Goodbye, world!'"
      ]
     },
     "execution_count": 33,
     "metadata": {},
     "output_type": "execute_result"
    }
   ],
   "source": [
    "my2ndString"
   ]
  },
  {
   "cell_type": "markdown",
   "id": "212da468",
   "metadata": {},
   "source": [
    "### repetition `*`\n"
   ]
  },
  {
   "cell_type": "code",
   "execution_count": 34,
   "id": "649bcf28",
   "metadata": {},
   "outputs": [
    {
     "data": {
      "text/plain": [
       "'This: This: '"
      ]
     },
     "execution_count": 34,
     "metadata": {},
     "output_type": "execute_result"
    }
   ],
   "source": [
    "myString*2                     "
   ]
  },
  {
   "cell_type": "code",
   "execution_count": 35,
   "id": "62bf1143",
   "metadata": {},
   "outputs": [
    {
     "data": {
      "text/plain": [
       "'This: This: This: This: This: '"
      ]
     },
     "execution_count": 35,
     "metadata": {},
     "output_type": "execute_result"
    }
   ],
   "source": [
    "myString * 5"
   ]
  },
  {
   "cell_type": "code",
   "execution_count": 36,
   "id": "69ed0a13",
   "metadata": {},
   "outputs": [],
   "source": [
    "bart_S1E3 = 'I will not skateboard in the halls'"
   ]
  },
  {
   "cell_type": "code",
   "execution_count": 37,
   "id": "4a957143",
   "metadata": {},
   "outputs": [
    {
     "name": "stdout",
     "output_type": "stream",
     "text": [
      "I will not skateboard in the halls\n",
      "I will not skateboard in the halls\n",
      "I will not skateboard in the halls\n",
      "I will not skateboard in the halls\n",
      "I will not skateboard in the halls\n",
      "\n"
     ]
    }
   ],
   "source": [
    "print((bart_S1E3 + '\\n') * 5)"
   ]
  },
  {
   "cell_type": "code",
   "execution_count": 38,
   "id": "7c79d011",
   "metadata": {},
   "outputs": [
    {
     "name": "stdout",
     "output_type": "stream",
     "text": [
      "--------------------------------------------------------------------------------\n"
     ]
    }
   ],
   "source": [
    "print('-' * 80)"
   ]
  },
  {
   "cell_type": "markdown",
   "id": "31dd24bf",
   "metadata": {},
   "source": [
    "[See them all](https://simpsonswiki.com/wiki/List_of_chalkboard_gags) :-)\n",
    "\n",
    "## Assignment Operator `=`\n",
    "\n",
    "We've used this already, but it too is an operator.\n"
   ]
  },
  {
   "cell_type": "code",
   "execution_count": 39,
   "id": "24269b1c",
   "metadata": {},
   "outputs": [
    {
     "name": "stdout",
     "output_type": "stream",
     "text": [
      "epoch: 20\n"
     ]
    }
   ],
   "source": [
    "epoch = 20\n",
    "print('epoch:', epoch)"
   ]
  },
  {
   "cell_type": "markdown",
   "id": "17707ac2",
   "metadata": {},
   "source": [
    "## Comparison Operators\n",
    "\n",
    "Comparisons are questions.\n",
    "\n",
    "They return a boolean value. \n",
    "\n",
    "### equality `==`\n"
   ]
  },
  {
   "cell_type": "code",
   "execution_count": 40,
   "id": "16d89a9f",
   "metadata": {},
   "outputs": [
    {
     "data": {
      "text/plain": [
       "True"
      ]
     },
     "execution_count": 40,
     "metadata": {},
     "output_type": "execute_result"
    }
   ],
   "source": [
    "0 == (10 % 5)"
   ]
  },
  {
   "cell_type": "code",
   "execution_count": 41,
   "id": "4c50e95a",
   "metadata": {},
   "outputs": [
    {
     "data": {
      "text/plain": [
       "False"
      ]
     },
     "execution_count": 41,
     "metadata": {},
     "output_type": "execute_result"
    }
   ],
   "source": [
    "'Boo' == 'Hoo'"
   ]
  },
  {
   "cell_type": "markdown",
   "id": "d8d52d70",
   "metadata": {},
   "source": [
    "Can we compare strings\n"
   ]
  },
  {
   "cell_type": "code",
   "execution_count": 42,
   "id": "26afa3fc",
   "metadata": {},
   "outputs": [
    {
     "data": {
      "text/plain": [
       "True"
      ]
     },
     "execution_count": 42,
     "metadata": {},
     "output_type": "execute_result"
    }
   ],
   "source": [
    "'A' < 'B'"
   ]
  },
  {
   "cell_type": "code",
   "execution_count": 43,
   "id": "0be9028a",
   "metadata": {},
   "outputs": [
    {
     "data": {
      "text/plain": [
       "(65, 66)"
      ]
     },
     "execution_count": 43,
     "metadata": {},
     "output_type": "execute_result"
    }
   ],
   "source": [
    "ord('A'), ord('B')"
   ]
  },
  {
   "cell_type": "markdown",
   "id": "34dd6df8",
   "metadata": {},
   "source": [
    "### inequality `!=`\n"
   ]
  },
  {
   "cell_type": "code",
   "execution_count": 44,
   "id": "3a21a315",
   "metadata": {},
   "outputs": [
    {
     "data": {
      "text/plain": [
       "True"
      ]
     },
     "execution_count": 44,
     "metadata": {},
     "output_type": "execute_result"
    }
   ],
   "source": [
    "5/9 != 0.5555"
   ]
  },
  {
   "cell_type": "markdown",
   "id": "2f9c00fc",
   "metadata": {},
   "source": [
    "## Logical Operators\n",
    "\n",
    "Python uses words where other languages will use other symbols.\n",
    "\n",
    "### Conjunctions `and`, `or`, `not`\n",
    "\n",
    "Note the we group comparisons with parentheses.\n"
   ]
  },
  {
   "cell_type": "code",
   "execution_count": 45,
   "id": "e8a4917a",
   "metadata": {},
   "outputs": [
    {
     "data": {
      "text/plain": [
       "True"
      ]
     },
     "execution_count": 45,
     "metadata": {},
     "output_type": "execute_result"
    }
   ],
   "source": [
    "x = 10\n",
    "\n",
    "(x % 10 == 0) or (x < -1)"
   ]
  },
  {
   "cell_type": "code",
   "execution_count": 46,
   "id": "02831c46",
   "metadata": {},
   "outputs": [
    {
     "data": {
      "text/plain": [
       "False"
      ]
     },
     "execution_count": 46,
     "metadata": {},
     "output_type": "execute_result"
    }
   ],
   "source": [
    "(x % 10 == 0) and (x < -1)"
   ]
  },
  {
   "cell_type": "code",
   "execution_count": 47,
   "id": "275739b6",
   "metadata": {},
   "outputs": [
    {
     "data": {
      "text/plain": [
       "True"
      ]
     },
     "execution_count": 47,
     "metadata": {},
     "output_type": "execute_result"
    }
   ],
   "source": [
    "not x == 5"
   ]
  },
  {
   "cell_type": "markdown",
   "id": "2305f3dd",
   "metadata": {},
   "source": [
    "### Identity `is`\n",
    "\n",
    "The `is` keyword is used to test if two variables refer to the same object.\n",
    "\n",
    "The test returns `True` if the two objects are the same object.\n",
    "\n",
    "The test returns False if they are not the same object, even if the two objects are 100% equal.\n",
    "\n",
    "Use the `==` operator to test if two variables are equal.\n",
    "\n",
    "-- from [W3Schools on Identity Operators](https://www.w3schools.com/python/gloss_python_identity_operators.asp)\n",
    "\n",
    "`is`\n"
   ]
  },
  {
   "cell_type": "code",
   "execution_count": 48,
   "id": "26141e09",
   "metadata": {},
   "outputs": [],
   "source": [
    "x = 'fail'"
   ]
  },
  {
   "cell_type": "code",
   "execution_count": 49,
   "id": "58a8e034",
   "metadata": {},
   "outputs": [
    {
     "name": "stderr",
     "output_type": "stream",
     "text": [
      "<>:1: SyntaxWarning: \"is\" with a literal. Did you mean \"==\"?\n",
      "<>:1: SyntaxWarning: \"is\" with a literal. Did you mean \"==\"?\n",
      "/tmp/ipykernel_680097/1139635342.py:1: SyntaxWarning: \"is\" with a literal. Did you mean \"==\"?\n",
      "  x is 'fail'\n"
     ]
    },
    {
     "data": {
      "text/plain": [
       "True"
      ]
     },
     "execution_count": 49,
     "metadata": {},
     "output_type": "execute_result"
    }
   ],
   "source": [
    "x is 'fail'"
   ]
  },
  {
   "cell_type": "markdown",
   "id": "c6739ea9",
   "metadata": {},
   "source": [
    "`is not`\n"
   ]
  },
  {
   "cell_type": "code",
   "execution_count": 50,
   "id": "3a67df78",
   "metadata": {},
   "outputs": [
    {
     "name": "stderr",
     "output_type": "stream",
     "text": [
      "<>:1: SyntaxWarning: \"is not\" with a literal. Did you mean \"!=\"?\n",
      "<>:1: SyntaxWarning: \"is not\" with a literal. Did you mean \"!=\"?\n",
      "/tmp/ipykernel_680097/1754352910.py:1: SyntaxWarning: \"is not\" with a literal. Did you mean \"!=\"?\n",
      "  x is not 'fail'\n"
     ]
    },
    {
     "data": {
      "text/plain": [
       "False"
      ]
     },
     "execution_count": 50,
     "metadata": {},
     "output_type": "execute_result"
    }
   ],
   "source": [
    "x is not 'fail'"
   ]
  },
  {
   "cell_type": "code",
   "execution_count": 51,
   "id": "428b7351",
   "metadata": {},
   "outputs": [
    {
     "data": {
      "text/plain": [
       "True"
      ]
     },
     "execution_count": 51,
     "metadata": {},
     "output_type": "execute_result"
    }
   ],
   "source": [
    "x = 'foo'\n",
    "y = 'foo'\n",
    "x is y"
   ]
  },
  {
   "cell_type": "code",
   "execution_count": 52,
   "id": "955b1336",
   "metadata": {},
   "outputs": [
    {
     "data": {
      "text/plain": [
       "False"
      ]
     },
     "execution_count": 52,
     "metadata": {},
     "output_type": "execute_result"
    }
   ],
   "source": [
    "x = ['a']\n",
    "y = ['a']\n",
    "x is y"
   ]
  },
  {
   "cell_type": "markdown",
   "id": "4e3098db",
   "metadata": {},
   "source": [
    "### Negation `not`\n"
   ]
  },
  {
   "cell_type": "code",
   "execution_count": 53,
   "id": "f760a32d",
   "metadata": {},
   "outputs": [
    {
     "data": {
      "text/plain": [
       "(False, True, True, False, False, True)"
      ]
     },
     "execution_count": 53,
     "metadata": {},
     "output_type": "execute_result"
    }
   ],
   "source": [
    "not True, not False, not 0, not 1, not 1000, not None"
   ]
  },
  {
   "cell_type": "markdown",
   "id": "fbc8c056",
   "metadata": {},
   "source": [
    "# Unary Operators\n",
    "\n",
    "Python offers a short-cut for most operators. When updating a variable with an operation to that variable, such as:\n",
    "```python\n",
    "my_var = my_var + 1  # Incrementing\n",
    "```\n",
    "\n",
    "You can do this:\n",
    "```python\n",
    "my_var += 1\n",
    "```\n",
    "\n",
    "Python supports many operators this way. Here are some:\n",
    "```python\n",
    "a -= a\n",
    "a \\= a\n",
    "a \\\\= a\n",
    "a %= a\n",
    "a *= a\n",
    "a **= a\n",
    "```\n",
    "\n",
    "# Expressions\n",
    "\n",
    "Variables, literal values, and operators are the building blocks of ebxpressions.\n",
    "\n",
    "For example, the following combines three operators and four variables:\n"
   ]
  },
  {
   "cell_type": "code",
   "execution_count": 54,
   "id": "a493e9fd",
   "metadata": {},
   "outputs": [
    {
     "data": {
      "text/plain": [
       "4.0"
      ]
     },
     "execution_count": 54,
     "metadata": {},
     "output_type": "execute_result"
    }
   ],
   "source": [
    "1 + 2 * 3 / 2"
   ]
  },
  {
   "cell_type": "markdown",
   "id": "7e5d9a10",
   "metadata": {},
   "source": [
    "Python employs **operator precedence** when evaluating expressions:\n",
    "\n",
    "```\n",
    "P – Parentheses\n",
    "E – Exponentiation\n",
    "M – Multiplication\n",
    "D – Division\n",
    "A – Addition\n",
    "S – Subtraction\n",
    "```\n",
    "\n",
    "You can use parentheses to group them to force the order of operations you want:\n"
   ]
  },
  {
   "cell_type": "code",
   "execution_count": 55,
   "id": "358dfa4a",
   "metadata": {},
   "outputs": [
    {
     "data": {
      "text/plain": [
       "4.5"
      ]
     },
     "execution_count": 55,
     "metadata": {},
     "output_type": "execute_result"
    }
   ],
   "source": [
    "(1 + 2) * (3 / 2)"
   ]
  },
  {
   "cell_type": "markdown",
   "id": "b593255f",
   "metadata": {},
   "source": [
    "Variables and literal values can be combined:\n"
   ]
  },
  {
   "cell_type": "code",
   "execution_count": 56,
   "id": "749358d0",
   "metadata": {},
   "outputs": [],
   "source": [
    "y = 5\n",
    "m = 2.5\n",
    "b = 10"
   ]
  },
  {
   "cell_type": "code",
   "execution_count": 57,
   "id": "00b12b4c",
   "metadata": {},
   "outputs": [
    {
     "data": {
      "text/plain": [
       "35.0"
      ]
     },
     "execution_count": 57,
     "metadata": {},
     "output_type": "execute_result"
    }
   ],
   "source": [
    "y = m * 10 + b\n",
    "y"
   ]
  },
  {
   "cell_type": "code",
   "execution_count": 58,
   "id": "5ad0a69a",
   "metadata": {},
   "outputs": [
    {
     "data": {
      "text/plain": [
       "22.5"
      ]
     },
     "execution_count": 58,
     "metadata": {},
     "output_type": "execute_result"
    }
   ],
   "source": [
    "y = m * 5 + b\n",
    "y"
   ]
  },
  {
   "cell_type": "markdown",
   "id": "3562938c",
   "metadata": {},
   "source": [
    "Expresssion can be very complex.\n",
    "\n",
    "Expressions evaluate to a value, just as single variables do. \n",
    "\n",
    "Therefore, they can be put anywhere a value is accepted.\n"
   ]
  },
  {
   "cell_type": "code",
   "execution_count": 59,
   "id": "81ea7093",
   "metadata": {},
   "outputs": [
    {
     "data": {
      "text/plain": [
       "1244706300354"
      ]
     },
     "execution_count": 59,
     "metadata": {},
     "output_type": "execute_result"
    }
   ],
   "source": [
    "int((y + 10) ** 8)"
   ]
  }
 ],
 "metadata": {
  "kernelspec": {
   "display_name": "Python 3 (ipykernel)",
   "language": "python",
   "name": "python3"
  },
  "language_info": {
   "codemirror_mode": {
    "name": "ipython",
    "version": 3
   },
   "file_extension": ".py",
   "mimetype": "text/x-python",
   "name": "python",
   "nbconvert_exporter": "python",
   "pygments_lexer": "ipython3",
   "version": "3.11.4"
  }
 },
 "nbformat": 4,
 "nbformat_minor": 5
}
