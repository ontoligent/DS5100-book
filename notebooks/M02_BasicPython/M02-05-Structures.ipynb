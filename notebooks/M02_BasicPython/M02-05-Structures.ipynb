{
 "cells": [
  {
   "cell_type": "markdown",
   "id": "f60fd822-d184-4931-9ab2-26d60c6d362c",
   "metadata": {
    "slideshow": {
     "slide_type": "slide"
    },
    "tags": []
   },
   "source": [
    "# NB&colon; Data Structures\n",
    "\n",
    "Programming for Data Science"
   ]
  },
  {
   "cell_type": "markdown",
   "id": "495460ca-44e9-4f16-aa4d-b40cc0b44134",
   "metadata": {
    "slideshow": {
     "slide_type": "slide"
    },
    "tags": []
   },
   "source": [
    "In contrast to primitive data types,data structures\\\n",
    "organize types into structures that have certain properties,\\\n",
    "such as **order**, **mutability**, and an **addressing scheme**.\n",
    "\n",
    "Python provides the following primary data structures:\n",
    "\n",
    "- lists\n",
    "- dictionaries\n",
    "- tuples\n",
    "- sets\n",
    "- ranges"
   ]
  },
  {
   "cell_type": "markdown",
   "id": "18f574bb-0db7-40ac-9c0e-fb507024e171",
   "metadata": {
    "slideshow": {
     "slide_type": "slide"
    },
    "tags": []
   },
   "source": [
    "# Lists\n",
    "\n",
    "A list is an ordered sequence of items. \n",
    "\n",
    "Each element of a list is associated with an integer that represents the order in which the element appears.\n",
    "\n",
    "Lists are indexed with **brackets** `[]`. \n",
    "\n",
    "List elements are accessed by providing their order number in the brackets.\n",
    "\n",
    "Lists are **mutable**, meaning you can modify them after they have been created.\n",
    "\n",
    "They can contain mixed types."
   ]
  },
  {
   "cell_type": "markdown",
   "id": "518c5585-c5a7-4b26-92b7-e401908f2421",
   "metadata": {
    "slideshow": {
     "slide_type": "slide"
    },
    "tags": []
   },
   "source": [
    "## Constructors\n",
    "\n",
    "They can be **constructed** in several ways:"
   ]
  },
  {
   "cell_type": "code",
   "execution_count": 2,
   "id": "3f062d71-f2b7-4cab-96da-f27f4edd9fad",
   "metadata": {
    "tags": []
   },
   "outputs": [],
   "source": [
    "list1 = []\n",
    "list2 = list()\n",
    "list3 = \"some string\".split()\n",
    "numbers = [1,2,3,4] "
   ]
  },
  {
   "cell_type": "markdown",
   "id": "055206a8-4683-4903-8f2b-1d746c667d54",
   "metadata": {
    "slideshow": {
     "slide_type": "slide"
    },
    "tags": []
   },
   "source": [
    "## Indexing\n",
    "\n",
    "Indexing refers to how each element in a list is identified and addressed."
   ]
  },
  {
   "cell_type": "markdown",
   "id": "0f672f96-a3c6-4cc8-88aa-ea63a03ec33a",
   "metadata": {},
   "source": [
    "Python has what is called **zero-based indexing**.   \n",
    "\n",
    "This means that for a list `mylist`,\n",
    "\n",
    "- `mylist[0]` references the first element.\n",
    "- `mylist[1]` references the second element, etc."
   ]
  },
  {
   "cell_type": "markdown",
   "id": "19eb6474-82b9-4256-8ce4-82adb429a41d",
   "metadata": {
    "tags": []
   },
   "source": [
    "For any list of length $N$:  \n",
    "\n",
    "- `mylist[:n]` will return the first $n$ elements from index $0$ to $n-1$.  \n",
    "- `mylist[-n:]` will return the last $n$ elements from index $N - n$ to $N - 1$."
   ]
  },
  {
   "cell_type": "markdown",
   "id": "7643c13f-cbd2-46c3-91bc-92bfeb9d3376",
   "metadata": {
    "slideshow": {
     "slide_type": "slide"
    },
    "tags": []
   },
   "source": [
    "\n",
    "Let's look at an example.\n",
    "\n",
    "Here we access first element of `numbers`:"
   ]
  },
  {
   "cell_type": "code",
   "execution_count": 16,
   "id": "ec5d6a22-2c0a-448b-bc72-b6cb9367f8e5",
   "metadata": {
    "tags": []
   },
   "outputs": [
    {
     "data": {
      "text/plain": [
       "[1, 2, 3, 4]"
      ]
     },
     "execution_count": 16,
     "metadata": {},
     "output_type": "execute_result"
    }
   ],
   "source": [
    "numbers"
   ]
  },
  {
   "cell_type": "code",
   "execution_count": 17,
   "id": "9634cd89-fcdd-4e13-b953-17ec6d7e8feb",
   "metadata": {
    "tags": []
   },
   "outputs": [
    {
     "data": {
      "text/plain": [
       "1"
      ]
     },
     "execution_count": 17,
     "metadata": {},
     "output_type": "execute_result"
    }
   ],
   "source": [
    "numbers[0]"
   ]
  },
  {
   "cell_type": "markdown",
   "id": "f152cf33-7ea3-4a2f-b80d-9378ae83295f",
   "metadata": {},
   "source": [
    "And here we accesst the last element:"
   ]
  },
  {
   "cell_type": "code",
   "execution_count": 18,
   "id": "fa3daeae-4663-4adb-9a1e-7e04afceac94",
   "metadata": {
    "tags": []
   },
   "outputs": [
    {
     "data": {
      "text/plain": [
       "4"
      ]
     },
     "execution_count": 18,
     "metadata": {},
     "output_type": "execute_result"
    }
   ],
   "source": [
    "numbers[-1]"
   ]
  },
  {
   "cell_type": "markdown",
   "id": "8b2f51db-6509-4d79-9197-a9ece1bd1e87",
   "metadata": {
    "slideshow": {
     "slide_type": "slide"
    },
    "tags": []
   },
   "source": [
    "Note that the elements of a list are values that can be treated like individual variables:"
   ]
  },
  {
   "cell_type": "code",
   "execution_count": 19,
   "id": "721d2f80-c371-4a75-85ca-410b986c0f75",
   "metadata": {
    "tags": []
   },
   "outputs": [
    {
     "data": {
      "text/plain": [
       "5"
      ]
     },
     "execution_count": 19,
     "metadata": {},
     "output_type": "execute_result"
    }
   ],
   "source": [
    "numbers[0] + numbers[3]"
   ]
  },
  {
   "cell_type": "code",
   "execution_count": 20,
   "id": "e04c6a85-e5aa-47ea-be1c-17bc311fc15d",
   "metadata": {
    "tags": []
   },
   "outputs": [
    {
     "data": {
      "text/plain": [
       "(list, int)"
      ]
     },
     "execution_count": 20,
     "metadata": {},
     "output_type": "execute_result"
    }
   ],
   "source": [
    "type(numbers), type(numbers[0])"
   ]
  },
  {
   "cell_type": "markdown",
   "id": "ed32ea76-4431-407f-a7ea-a2a774cf8722",
   "metadata": {
    "slideshow": {
     "slide_type": "slide"
    },
    "tags": []
   },
   "source": [
    "## Slicing\n",
    "\n",
    "Slicing refers to the process of getting a sublist from a list. \n",
    "\n",
    "To do this, we use a colon `:` like so:"
   ]
  },
  {
   "cell_type": "code",
   "execution_count": 75,
   "id": "0eae24c3-6af0-45c7-a2df-7b0297c2e274",
   "metadata": {
    "tags": []
   },
   "outputs": [
    {
     "data": {
      "text/plain": [
       "[1, 2]"
      ]
     },
     "execution_count": 75,
     "metadata": {},
     "output_type": "execute_result"
    }
   ],
   "source": [
    "numbers[0:2]"
   ]
  },
  {
   "cell_type": "code",
   "execution_count": 76,
   "id": "f7b45918-72a5-4100-99cb-1bb35746d4ca",
   "metadata": {
    "tags": []
   },
   "outputs": [
    {
     "data": {
      "text/plain": [
       "[2, 3]"
      ]
     },
     "execution_count": 76,
     "metadata": {},
     "output_type": "execute_result"
    }
   ],
   "source": [
    "numbers[1:3]"
   ]
  },
  {
   "cell_type": "code",
   "execution_count": 9,
   "id": "0c3a816c-8c1e-44e6-a404-ab3258d45977",
   "metadata": {},
   "outputs": [
    {
     "data": {
      "text/plain": [
       "[3, 4]"
      ]
     },
     "execution_count": 9,
     "metadata": {},
     "output_type": "execute_result"
    }
   ],
   "source": [
    "numbers[2:]"
   ]
  },
  {
   "cell_type": "markdown",
   "id": "8b8b02f8-932a-42f9-91d2-f6f2741f6de8",
   "metadata": {
    "slideshow": {
     "slide_type": "slide"
    },
    "tags": []
   },
   "source": [
    "## Multiply lists by a scalar\n",
    "\n",
    "A scalar is a single value number."
   ]
  },
  {
   "cell_type": "code",
   "execution_count": 10,
   "id": "11796cce-2ca8-4663-9485-f549f57839a9",
   "metadata": {},
   "outputs": [
    {
     "data": {
      "text/plain": [
       "[1, 2, 3, 4, 1, 2, 3, 4]"
      ]
     },
     "execution_count": 10,
     "metadata": {},
     "output_type": "execute_result"
    }
   ],
   "source": [
    "numbers * 2"
   ]
  },
  {
   "cell_type": "markdown",
   "id": "cfae8f09-d591-4c5e-8047-4dd449e3aa82",
   "metadata": {
    "slideshow": {
     "slide_type": "slide"
    },
    "tags": []
   },
   "source": [
    "## Concatenate lists with `+`"
   ]
  },
  {
   "cell_type": "code",
   "execution_count": 11,
   "id": "8b489944-e470-4290-99c2-e96f61c5e77a",
   "metadata": {},
   "outputs": [],
   "source": [
    "numbers2 = [30, 40, 50]"
   ]
  },
  {
   "cell_type": "code",
   "execution_count": 12,
   "id": "273e0866-6b23-4f3e-af0a-70a0ca0e4184",
   "metadata": {},
   "outputs": [
    {
     "data": {
      "text/plain": [
       "[1, 2, 3, 4, 30, 40, 50]"
      ]
     },
     "execution_count": 12,
     "metadata": {},
     "output_type": "execute_result"
    }
   ],
   "source": [
    "numbers + numbers2"
   ]
  },
  {
   "cell_type": "markdown",
   "id": "fdca7e30-19de-4bf8-8864-d63f4170be25",
   "metadata": {
    "slideshow": {
     "slide_type": "slide"
    },
    "tags": []
   },
   "source": [
    "## Lists can mix types"
   ]
  },
  {
   "cell_type": "code",
   "execution_count": 21,
   "id": "17b45df0-66aa-489b-adea-968aa5b9bf0b",
   "metadata": {},
   "outputs": [],
   "source": [
    "myList = ['coconuts', 777, 7.25, 'Sir Robin', 80.0, True]"
   ]
  },
  {
   "cell_type": "code",
   "execution_count": 22,
   "id": "2a87c943-0787-46bb-a5b5-b154af5de805",
   "metadata": {
    "tags": []
   },
   "outputs": [
    {
     "data": {
      "text/plain": [
       "['coconuts', 777, 7.25, 'Sir Robin', 80.0, True]"
      ]
     },
     "execution_count": 22,
     "metadata": {},
     "output_type": "execute_result"
    }
   ],
   "source": [
    "myList"
   ]
  },
  {
   "cell_type": "markdown",
   "id": "a1eb1801-b619-44b8-8fea-f2e320e5a825",
   "metadata": {
    "slideshow": {
     "slide_type": "subslide"
    },
    "tags": []
   },
   "source": [
    "What happens if we multiply a list with strings?"
   ]
  },
  {
   "cell_type": "code",
   "execution_count": 23,
   "id": "ce38d67c-b371-4101-b1af-3bc47e0c3f7b",
   "metadata": {
    "slideshow": {
     "slide_type": "fragment"
    },
    "tags": []
   },
   "outputs": [
    {
     "data": {
      "text/plain": [
       "['coconuts',\n",
       " 777,\n",
       " 7.25,\n",
       " 'Sir Robin',\n",
       " 80.0,\n",
       " True,\n",
       " 'coconuts',\n",
       " 777,\n",
       " 7.25,\n",
       " 'Sir Robin',\n",
       " 80.0,\n",
       " True]"
      ]
     },
     "execution_count": 23,
     "metadata": {},
     "output_type": "execute_result"
    }
   ],
   "source": [
    "myList * 2"
   ]
  },
  {
   "cell_type": "markdown",
   "id": "1e72be7f-06cd-40f0-9453-36bd4960f38b",
   "metadata": {
    "slideshow": {
     "slide_type": "slide"
    },
    "tags": []
   },
   "source": [
    "## Lists can be nested"
   ]
  },
  {
   "cell_type": "code",
   "execution_count": 25,
   "id": "50bd184d-dd66-42cd-a0ec-a41840f48bbd",
   "metadata": {
    "tags": []
   },
   "outputs": [],
   "source": [
    "names = ['Darrell', 'Clayton', ['Billie', 'Arthur'], 'Samantha']"
   ]
  },
  {
   "cell_type": "code",
   "execution_count": 27,
   "id": "ad754d99-baad-49e7-852b-d469784ca40c",
   "metadata": {
    "tags": []
   },
   "outputs": [
    {
     "data": {
      "text/plain": [
       "'Darrell'"
      ]
     },
     "execution_count": 27,
     "metadata": {},
     "output_type": "execute_result"
    }
   ],
   "source": [
    "  names[0]"
   ]
  },
  {
   "cell_type": "code",
   "execution_count": 26,
   "id": "f5c78583-8544-40fe-a05d-4d7bfec7db5e",
   "metadata": {
    "tags": []
   },
   "outputs": [
    {
     "data": {
      "text/plain": [
       "['Billie', 'Arthur']"
      ]
     },
     "execution_count": 26,
     "metadata": {},
     "output_type": "execute_result"
    }
   ],
   "source": [
    "names[2]"
   ]
  },
  {
   "cell_type": "code",
   "execution_count": 28,
   "id": "5b747898-453c-4fba-8c0f-02b97ef0e963",
   "metadata": {
    "tags": []
   },
   "outputs": [
    {
     "data": {
      "text/plain": [
       "'Billie'"
      ]
     },
     "execution_count": 28,
     "metadata": {},
     "output_type": "execute_result"
    }
   ],
   "source": [
    "names[2][0]"
   ]
  },
  {
   "cell_type": "markdown",
   "id": "d83e4acc-1b7e-46aa-afec-8cc944d7dbcd",
   "metadata": {
    "slideshow": {
     "slide_type": "slide"
    },
    "tags": []
   },
   "source": [
    "# Strings are lists\n",
    "\n",
    "Actually, they are **list-like**. \n",
    "\n",
    "Like strings, their elements (i.e. individual characters) can be accessed by **indexing and slicing**.\n",
    "\n",
    "However, like tuples, they are **immutable** and cannot be altered.\n",
    "\n",
    "Here are some **functions** applicable to strings because they are lists."
   ]
  },
  {
   "cell_type": "markdown",
   "id": "6e28932e-70d2-4d2e-9d92-57c006b18f37",
   "metadata": {
    "slideshow": {
     "slide_type": "slide"
    },
    "tags": []
   },
   "source": [
    "## `len()` Length\n",
    "\n",
    "This is built-in length funciton tells us how many characters in the string. \n",
    "\n",
    "It also applys to any list-like object, including strings, lists, dicts, sets, and dataframes."
   ]
  },
  {
   "cell_type": "code",
   "execution_count": 69,
   "id": "9280eb79-3777-4a50-9256-a1cdba8ed0c9",
   "metadata": {
    "tags": []
   },
   "outputs": [],
   "source": [
    "my_new_tring = 'This is a string'"
   ]
  },
  {
   "cell_type": "code",
   "execution_count": 70,
   "id": "c1d00852-9674-4844-a7a7-9c17f3913505",
   "metadata": {
    "tags": []
   },
   "outputs": [
    {
     "data": {
      "text/plain": [
       "16"
      ]
     },
     "execution_count": 70,
     "metadata": {},
     "output_type": "execute_result"
    }
   ],
   "source": [
    "len(my_new_tring)"
   ]
  },
  {
   "cell_type": "markdown",
   "id": "963f82f2-f15d-41e9-a835-cd77ae01519a",
   "metadata": {
    "slideshow": {
     "slide_type": "slide"
    },
    "tags": []
   },
   "source": [
    "## Indexing\n",
    "\n",
    "Since strings are sequences in Python, each character of the string has a \n",
    "unique position that can be indexed.\n",
    "\n",
    "Indexes are indicated by suffixed brackets, e.g. `foo[]`"
   ]
  },
  {
   "cell_type": "markdown",
   "id": "56405aea-c653-4acf-a55c-c9f2092588ba",
   "metadata": {
    "tags": []
   },
   "source": [
    "This displays the first character of the string."
   ]
  },
  {
   "cell_type": "code",
   "execution_count": 71,
   "id": "871c93a2-2b7c-4bf1-80b3-e314cfe12f31",
   "metadata": {
    "tags": []
   },
   "outputs": [
    {
     "data": {
      "text/plain": [
       "'T'"
      ]
     },
     "execution_count": 71,
     "metadata": {},
     "output_type": "execute_result"
    }
   ],
   "source": [
    "my_new_tring[0]"
   ]
  },
  {
   "cell_type": "markdown",
   "id": "eb6d5b5f-ec06-42aa-accb-118135c0dc11",
   "metadata": {},
   "source": [
    "This displays the last character. Negatives count backwards."
   ]
  },
  {
   "cell_type": "code",
   "execution_count": 72,
   "id": "417644e6-e402-44cc-9cf0-cfb562a780ee",
   "metadata": {
    "tags": []
   },
   "outputs": [
    {
     "data": {
      "text/plain": [
       "'g'"
      ]
     },
     "execution_count": 72,
     "metadata": {},
     "output_type": "execute_result"
    }
   ],
   "source": [
    "my_new_tring[-1]"
   ]
  },
  {
   "cell_type": "markdown",
   "id": "69c12cee-a790-43a0-97f1-eed457db9168",
   "metadata": {
    "slideshow": {
     "slide_type": "slide"
    },
    "tags": []
   },
   "source": [
    "## Slicing\n",
    "\n",
    "We can use the colon to 'slice' strings (and lists)"
   ]
  },
  {
   "cell_type": "markdown",
   "id": "d93bfccb-de1d-4d0e-98fc-bccdbe55815c",
   "metadata": {},
   "source": [
    "The first four characters, i.e. index positions $0$ to $3$."
   ]
  },
  {
   "cell_type": "code",
   "execution_count": 73,
   "id": "76523976-6c3f-4cc3-8a63-0ae375678143",
   "metadata": {
    "tags": []
   },
   "outputs": [
    {
     "data": {
      "text/plain": [
       "'This'"
      ]
     },
     "execution_count": 73,
     "metadata": {},
     "output_type": "execute_result"
    }
   ],
   "source": [
    "my_new_tring[0:4]"
   ]
  },
  {
   "cell_type": "markdown",
   "id": "4745d4f0-a205-43be-b1bf-0a85acff974b",
   "metadata": {},
   "source": [
    "The same thing; $0$ is implied."
   ]
  },
  {
   "cell_type": "code",
   "execution_count": 74,
   "id": "aba91200-2cc5-4c73-9947-58050b5467d9",
   "metadata": {
    "tags": []
   },
   "outputs": [
    {
     "data": {
      "text/plain": [
       "'This'"
      ]
     },
     "execution_count": 74,
     "metadata": {},
     "output_type": "execute_result"
    }
   ],
   "source": [
    "my_new_tring[:4]"
   ]
  },
  {
   "cell_type": "markdown",
   "id": "c584c7d1-0741-42fe-bc39-dd595895edb3",
   "metadata": {},
   "source": [
    "The fifth character and onwards until the end of the string."
   ]
  },
  {
   "cell_type": "code",
   "execution_count": 75,
   "id": "bd0b4f8e-7693-4821-97bb-4d474a330be8",
   "metadata": {
    "tags": []
   },
   "outputs": [
    {
     "data": {
      "text/plain": [
       "' is a string'"
      ]
     },
     "execution_count": 75,
     "metadata": {},
     "output_type": "execute_result"
    }
   ],
   "source": [
    "my_new_tring[4:]"
   ]
  },
  {
   "cell_type": "markdown",
   "id": "613a2f7d-1afd-4ad3-b5b0-ad639badbb38",
   "metadata": {
    "slideshow": {
     "slide_type": "slide"
    },
    "tags": []
   },
   "source": [
    "Note that it is _not_ possible to re-assign elements of a string. \n",
    "\n",
    "This is because Python strings are **immutable**."
   ]
  },
  {
   "cell_type": "code",
   "execution_count": 78,
   "id": "52a3bbca-2e97-40c0-a585-93e2e7da7291",
   "metadata": {
    "tags": []
   },
   "outputs": [
    {
     "ename": "TypeError",
     "evalue": "'str' object does not support item assignment",
     "output_type": "error",
     "traceback": [
      "\u001b[0;31m---------------------------------------------------------------------------\u001b[0m",
      "\u001b[0;31mTypeError\u001b[0m                                 Traceback (most recent call last)",
      "Cell \u001b[0;32mIn[78], line 1\u001b[0m\n\u001b[0;32m----> 1\u001b[0m \u001b[43mmy_new_tring\u001b[49m\u001b[43m[\u001b[49m\u001b[38;5;241;43m0\u001b[39;49m\u001b[43m]\u001b[49m \u001b[38;5;241m=\u001b[39m \u001b[38;5;124m'\u001b[39m\u001b[38;5;124mt\u001b[39m\u001b[38;5;124m'\u001b[39m\n",
      "\u001b[0;31mTypeError\u001b[0m: 'str' object does not support item assignment"
     ]
    }
   ],
   "source": [
    "my_new_tring[0] = 't'"
   ]
  },
  {
   "cell_type": "markdown",
   "id": "38732195-9987-4845-8ef1-8154bcced82d",
   "metadata": {
    "slideshow": {
     "slide_type": "slide"
    },
    "tags": []
   },
   "source": [
    "# Dictionaries `dict` \n",
    "\n",
    "Dictionaries are like lists, but instead of implied numeric indexes, each element is addressed by **a name**.\n",
    "\n",
    "We say that dictionaries are made up of **key/value pairs**.\n",
    "\n",
    "Key names are **unique**. If you re-use a key, you overwrite its value.\n",
    "\n",
    "Keys are usually **strings**, but don't have to be. They can be numbers or tuples or expressions that evaluate to one of these.\n",
    "\n",
    "As with lists, elements are **indexed** using brackets `[]`.\n",
    "\n",
    "However, dictionaries are **constructed** with braces `{}`."
   ]
  },
  {
   "cell_type": "markdown",
   "id": "d0760dc2-ae63-4ab7-805c-d4ba6cfd143e",
   "metadata": {
    "slideshow": {
     "slide_type": "slide"
    },
    "tags": []
   },
   "source": [
    "## Constructors\n",
    "\n",
    "A list may be constructed by putting a sequence of colon-delimitted key/value pairs within a pair of braces:"
   ]
  },
  {
   "cell_type": "code",
   "execution_count": 30,
   "id": "3c40a687-9635-42e9-9590-6e5b608fe16d",
   "metadata": {
    "tags": []
   },
   "outputs": [],
   "source": [
    "dict1 = {\n",
    "    'a': 1,\n",
    "    'b': 2,\n",
    "    'c': 3\n",
    "}"
   ]
  },
  {
   "cell_type": "markdown",
   "id": "a38829e4-0a66-4d06-9061-c8b34b079dae",
   "metadata": {},
   "source": [
    "Or we may call the `dict()` function:"
   ]
  },
  {
   "cell_type": "code",
   "execution_count": 31,
   "id": "5a41a0f9-3a07-4c48-8702-7e66110abd19",
   "metadata": {
    "tags": []
   },
   "outputs": [],
   "source": [
    "dict2 = dict(x=55, y=29, z=99)"
   ]
  },
  {
   "cell_type": "markdown",
   "id": "6e2ca2ee-987f-4313-b009-5bdeac83ad0e",
   "metadata": {},
   "source": [
    "Note the absence of quotes around keys. "
   ]
  },
  {
   "cell_type": "code",
   "execution_count": 32,
   "id": "928109fa-925a-4dff-a090-476dc5f3cbec",
   "metadata": {
    "tags": []
   },
   "outputs": [
    {
     "data": {
      "text/plain": [
       "{'x': 55, 'y': 29, 'z': 99}"
      ]
     },
     "execution_count": 32,
     "metadata": {},
     "output_type": "execute_result"
    }
   ],
   "source": [
    "dict2"
   ]
  },
  {
   "cell_type": "markdown",
   "id": "277dc42f-f410-4d01-8334-390b249ca2b6",
   "metadata": {
    "slideshow": {
     "slide_type": "slide"
    },
    "tags": []
   },
   "source": [
    "Here we demonstrate the keys can be strings, numbers, or tuples:"
   ]
  },
  {
   "cell_type": "code",
   "execution_count": null,
   "id": "d6bc0b2d-34ab-46c4-9057-40649ead16cb",
   "metadata": {
    "tags": []
   },
   "outputs": [],
   "source": [
    "dict3 = {'A': 'foo', 99: 'bar', (1,2): 'baz'}"
   ]
  },
  {
   "cell_type": "code",
   "execution_count": null,
   "id": "0489d1f9-be2e-4d39-b30f-f15f00b5e919",
   "metadata": {
    "tags": []
   },
   "outputs": [
    {
     "data": {
      "text/plain": [
       "{'A': 'foo', 99: 'bar', (1, 2): 'baz'}"
      ]
     },
     "execution_count": 34,
     "metadata": {},
     "output_type": "execute_result"
    }
   ],
   "source": [
    "dict3"
   ]
  },
  {
   "cell_type": "markdown",
   "id": "c03f1c3e-75c2-4454-a612-d6dd76aa8299",
   "metadata": {
    "slideshow": {
     "slide_type": "slide"
    },
    "tags": []
   },
   "source": [
    "Note that values can be anything, just like the elements of a list."
   ]
  },
  {
   "cell_type": "code",
   "execution_count": 35,
   "id": "0333cd4f-c6f4-4e21-aa50-7820303ae2bc",
   "metadata": {
    "tags": []
   },
   "outputs": [],
   "source": [
    "dict4 = {'a': 1, 'b': dict3}"
   ]
  },
  {
   "cell_type": "code",
   "execution_count": 36,
   "id": "5010d949-3fc4-459d-b63d-1c57278d3d7d",
   "metadata": {
    "tags": []
   },
   "outputs": [
    {
     "data": {
      "text/plain": [
       "{'a': 1, 'b': {'A': 'foo', 99: 'bar', (1, 2): 'baz'}}"
      ]
     },
     "execution_count": 36,
     "metadata": {},
     "output_type": "execute_result"
    }
   ],
   "source": [
    "dict4"
   ]
  },
  {
   "cell_type": "markdown",
   "id": "624cd83e-4b7b-4bc0-9c76-d33bd40a1633",
   "metadata": {
    "slideshow": {
     "slide_type": "slide"
    },
    "tags": []
   },
   "source": [
    "## Retrieving a value\n",
    "\n",
    "Just use a key as the *index*."
   ]
  },
  {
   "cell_type": "code",
   "execution_count": 37,
   "id": "39bc8222-fe71-490f-8b53-fa1352221948",
   "metadata": {
    "tags": []
   },
   "outputs": [],
   "source": [
    "phonelist = {'Tom':123, 'Bob':456, 'Sam':897}"
   ]
  },
  {
   "cell_type": "code",
   "execution_count": 38,
   "id": "12ca56b5-2bb4-4482-9002-3449b6e68f04",
   "metadata": {
    "tags": []
   },
   "outputs": [
    {
     "data": {
      "text/plain": [
       "456"
      ]
     },
     "execution_count": 38,
     "metadata": {},
     "output_type": "execute_result"
    }
   ],
   "source": [
    "phonelist['Bob']"
   ]
  },
  {
   "cell_type": "markdown",
   "id": "21f76a54-54b4-4937-a262-c89d9cd936bf",
   "metadata": {
    "slideshow": {
     "slide_type": "slide"
    },
    "tags": []
   },
   "source": [
    "Getting a list of keys, values, or both.\n",
    "\n",
    "Use the `.keys()`, `.values()`, or `.items()` methods."
   ]
  },
  {
   "cell_type": "code",
   "execution_count": 46,
   "id": "47ed6e92-2c4c-4f3c-8435-7e27a191ccab",
   "metadata": {
    "tags": []
   },
   "outputs": [
    {
     "data": {
      "text/plain": [
       "dict_keys(['Tom', 'Bob', 'Sam'])"
      ]
     },
     "execution_count": 46,
     "metadata": {},
     "output_type": "execute_result"
    }
   ],
   "source": [
    "phonelist.keys()"
   ]
  },
  {
   "cell_type": "code",
   "execution_count": 47,
   "id": "ae19e277-e929-46ad-ab27-2715a05243a7",
   "metadata": {
    "tags": []
   },
   "outputs": [
    {
     "data": {
      "text/plain": [
       "dict_values([123, 456, 897])"
      ]
     },
     "execution_count": 47,
     "metadata": {},
     "output_type": "execute_result"
    }
   ],
   "source": [
    "phonelist.values()"
   ]
  },
  {
   "cell_type": "code",
   "execution_count": 48,
   "id": "292b5fee-68db-42b6-af5e-7c4ef14c384a",
   "metadata": {
    "tags": []
   },
   "outputs": [
    {
     "data": {
      "text/plain": [
       "dict_items([('Tom', 123), ('Bob', 456), ('Sam', 897)])"
      ]
     },
     "execution_count": 48,
     "metadata": {},
     "output_type": "execute_result"
    }
   ],
   "source": [
    "phonelist.items()"
   ]
  },
  {
   "cell_type": "code",
   "execution_count": 49,
   "id": "fa4bb854-314e-4226-af57-379ac722c0e8",
   "metadata": {
    "tags": []
   },
   "outputs": [
    {
     "data": {
      "text/plain": [
       "{'Tom': 123, 'Bob': 456, 'Sam': 897}"
      ]
     },
     "execution_count": 49,
     "metadata": {},
     "output_type": "execute_result"
    }
   ],
   "source": [
    "phonelist"
   ]
  },
  {
   "cell_type": "markdown",
   "id": "e1c90780-7058-4623-a1a1-c5301f5771c6",
   "metadata": {
    "slideshow": {
     "slide_type": "slide"
    },
    "tags": []
   },
   "source": [
    "# Tuples\n",
    "\n",
    "A tuple is like a list but with one big difference: **a tuple is an immutable object.**\n",
    "\n",
    "You can't change a tuple once it's created.\n",
    "\n",
    "Like lists, a tuple can contain any number of elements of any datatype.\n",
    "\n",
    "Elements are accessed with brackets `[]` but constructed with parentheses `()`."
   ]
  },
  {
   "cell_type": "markdown",
   "id": "59eb44f3-ff39-4285-a980-9a29eea56387",
   "metadata": {
    "slideshow": {
     "slide_type": "slide"
    },
    "tags": []
   },
   "source": [
    "## Constructors\n",
    "\n",
    "Tuples may be created with comma-separated values, with or without parenthesis."
   ]
  },
  {
   "cell_type": "code",
   "execution_count": 86,
   "id": "378ed89f-0e0b-4408-ad48-b1e5d56c0c48",
   "metadata": {
    "tags": []
   },
   "outputs": [],
   "source": [
    "letters = 'a', 'b', 'c', 'd'"
   ]
  },
  {
   "cell_type": "code",
   "execution_count": 87,
   "id": "626c8760-4ced-490b-8a99-58b087ec9563",
   "metadata": {
    "tags": []
   },
   "outputs": [
    {
     "data": {
      "text/plain": [
       "('a', 'b', 'c', 'd')"
      ]
     },
     "execution_count": 87,
     "metadata": {},
     "output_type": "execute_result"
    }
   ],
   "source": [
    "letters"
   ]
  },
  {
   "cell_type": "code",
   "execution_count": 88,
   "id": "2f2d72be-39d5-4495-8ac3-1f8aa18c28b6",
   "metadata": {
    "tags": []
   },
   "outputs": [],
   "source": [
    "numbers = (1, 2, 3, 4)"
   ]
  },
  {
   "cell_type": "code",
   "execution_count": 89,
   "id": "6f38972d-0c10-4725-ab9b-a253be105049",
   "metadata": {
    "tags": []
   },
   "outputs": [
    {
     "data": {
      "text/plain": [
       "(1, 2, 3, 4)"
      ]
     },
     "execution_count": 89,
     "metadata": {},
     "output_type": "execute_result"
    }
   ],
   "source": [
    "numbers"
   ]
  },
  {
   "cell_type": "code",
   "execution_count": 90,
   "id": "3ccc6107-adf9-4310-87a8-5c101481c253",
   "metadata": {
    "tags": []
   },
   "outputs": [
    {
     "data": {
      "text/plain": [
       "4"
      ]
     },
     "execution_count": 90,
     "metadata": {},
     "output_type": "execute_result"
    }
   ],
   "source": [
    "len(numbers)"
   ]
  },
  {
   "cell_type": "markdown",
   "id": "5559a519-ed9f-4ba1-b9cb-2014b4265f3f",
   "metadata": {
    "slideshow": {
     "slide_type": "slide"
    },
    "tags": []
   },
   "source": [
    "A single valued tuple must include a comma `,`. \n",
    "\n",
    "Otherwise, Python will interpret it as a simple expression."
   ]
  },
  {
   "cell_type": "code",
   "execution_count": 91,
   "id": "fd0488fa-7a8a-464c-ad0a-7bc6b328ca69",
   "metadata": {
    "tags": []
   },
   "outputs": [],
   "source": [
    "tuple0 = (29)"
   ]
  },
  {
   "cell_type": "code",
   "execution_count": 92,
   "id": "01420088-8f1b-480b-9961-109fb168100e",
   "metadata": {
    "tags": []
   },
   "outputs": [
    {
     "data": {
      "text/plain": [
       "(29, int)"
      ]
     },
     "execution_count": 92,
     "metadata": {},
     "output_type": "execute_result"
    }
   ],
   "source": [
    "tuple0, type(tuple0)"
   ]
  },
  {
   "cell_type": "code",
   "execution_count": 93,
   "id": "d975e57a-4598-433e-ac5d-f0a3b67dd77c",
   "metadata": {
    "tags": []
   },
   "outputs": [],
   "source": [
    "tuple1 = (29,)"
   ]
  },
  {
   "cell_type": "code",
   "execution_count": 94,
   "id": "f31b8940-ff95-4b99-a5cf-b7cb6d7fb0b9",
   "metadata": {
    "tags": []
   },
   "outputs": [
    {
     "data": {
      "text/plain": [
       "((29,), tuple)"
      ]
     },
     "execution_count": 94,
     "metadata": {},
     "output_type": "execute_result"
    }
   ],
   "source": [
    "tuple1, type(tuple1)"
   ]
  },
  {
   "cell_type": "markdown",
   "id": "45b671b2-07b6-4894-a53a-ff9d603013e1",
   "metadata": {
    "slideshow": {
     "slide_type": "slide"
    },
    "tags": []
   },
   "source": [
    "You can't re-assign a value to a tuple element. \n",
    "\n",
    "They are immutable."
   ]
  },
  {
   "cell_type": "code",
   "execution_count": 95,
   "id": "6698b95f-979e-45f4-a22a-421fb9519083",
   "metadata": {
    "jp-MarkdownHeadingCollapsed": true,
    "tags": []
   },
   "outputs": [
    {
     "ename": "TypeError",
     "evalue": "'tuple' object does not support item assignment",
     "output_type": "error",
     "traceback": [
      "\u001b[0;31m---------------------------------------------------------------------------\u001b[0m",
      "\u001b[0;31mTypeError\u001b[0m                                 Traceback (most recent call last)",
      "Cell \u001b[0;32mIn[95], line 1\u001b[0m\n\u001b[0;32m----> 1\u001b[0m \u001b[43mtuple1\u001b[49m\u001b[43m[\u001b[49m\u001b[38;5;241;43m0\u001b[39;49m\u001b[43m]\u001b[49m \u001b[38;5;241m=\u001b[39m \u001b[38;5;241m5\u001b[39m\n",
      "\u001b[0;31mTypeError\u001b[0m: 'tuple' object does not support item assignment"
     ]
    }
   ],
   "source": [
    "tuple1[0] = 5"
   ]
  },
  {
   "cell_type": "markdown",
   "id": "7ac8c7fc-9b22-4d08-9fd7-246cad70b649",
   "metadata": {
    "slideshow": {
     "slide_type": "slide"
    },
    "tags": []
   },
   "source": [
    "# Common functions and methods to all sequences\n",
    "\n",
    "Lists, distionaries, tuples, and other data structures are all members of a more general class of sequences.\n",
    "\n",
    "They therefore share some functions and operations.\n",
    "\n",
    "For example:\n",
    "\n",
    "```python\n",
    "len()\n",
    "in\n",
    "+ \n",
    "*\n",
    "```"
   ]
  },
  {
   "cell_type": "markdown",
   "id": "3973237c-7630-406b-bcd9-539952c102e8",
   "metadata": {
    "slideshow": {
     "slide_type": "slide"
    },
    "tags": []
   },
   "source": [
    "## `len()`"
   ]
  },
  {
   "cell_type": "code",
   "execution_count": 96,
   "id": "90fa4705-98cc-4503-bbe1-e006acbfec5f",
   "metadata": {
    "tags": []
   },
   "outputs": [
    {
     "data": {
      "text/plain": [
       "(4, 1, 3)"
      ]
     },
     "execution_count": 96,
     "metadata": {},
     "output_type": "execute_result"
    }
   ],
   "source": [
    "len(numbers), len(tuple1), len(dict1)"
   ]
  },
  {
   "cell_type": "markdown",
   "id": "8eb49046-abfc-4a29-8c15-24a2a2f25e85",
   "metadata": {
    "slideshow": {
     "slide_type": "slide"
    },
    "tags": []
   },
   "source": [
    "## Membership with `in`"
   ]
  },
  {
   "cell_type": "code",
   "execution_count": 95,
   "id": "ffda4677-405a-4479-81fe-0b274f0cf640",
   "metadata": {
    "tags": []
   },
   "outputs": [
    {
     "data": {
      "text/plain": [
       "True"
      ]
     },
     "execution_count": 95,
     "metadata": {},
     "output_type": "execute_result"
    }
   ],
   "source": [
    "'Sam' in phonelist"
   ]
  },
  {
   "cell_type": "markdown",
   "id": "d0bfdd0f-d38c-4121-b8fd-f3e3400af809",
   "metadata": {
    "slideshow": {
     "slide_type": "slide"
    },
    "tags": []
   },
   "source": [
    "# Sets\n",
    "\n",
    "A `set` is an unordered collection of unique objects.\n",
    "\n",
    "They are subject to set operations."
   ]
  },
  {
   "cell_type": "markdown",
   "id": "1ec39581-a090-4375-8bb7-11265fa0ef30",
   "metadata": {
    "slideshow": {
     "slide_type": "slide"
    },
    "tags": []
   },
   "source": [
    "## Constructors\n",
    "\n",
    "Like dictionaries, sets are constructed with braces `{}`, but unlike dictionaries elements are not key value pairs separated by a colon `:`."
   ]
  },
  {
   "cell_type": "code",
   "execution_count": 96,
   "id": "e67e33ff-7f03-4b99-a95e-fad0c80a04c3",
   "metadata": {
    "tags": []
   },
   "outputs": [],
   "source": [
    "peanuts = {'snoopy','snoopy','woodstock'}"
   ]
  },
  {
   "cell_type": "code",
   "execution_count": 97,
   "id": "197eebed-71a9-4a89-8dbf-3dd2d73a29ac",
   "metadata": {
    "tags": []
   },
   "outputs": [
    {
     "data": {
      "text/plain": [
       "{'snoopy', 'woodstock'}"
      ]
     },
     "execution_count": 97,
     "metadata": {},
     "output_type": "execute_result"
    }
   ],
   "source": [
    "peanuts"
   ]
  },
  {
   "cell_type": "markdown",
   "id": "09cb3d0d-d991-4437-8647-a83e491bc833",
   "metadata": {},
   "source": [
    "Note the set is \"de-duped.\""
   ]
  },
  {
   "cell_type": "markdown",
   "id": "f4dbec0a-e685-4cf7-a420-0d4b966e856d",
   "metadata": {
    "slideshow": {
     "slide_type": "slide"
    },
    "tags": []
   },
   "source": [
    "Sets also don't have an index. This will break:"
   ]
  },
  {
   "cell_type": "code",
   "execution_count": 98,
   "id": "65370579-21be-4623-9c45-f37bccee907a",
   "metadata": {
    "tags": []
   },
   "outputs": [
    {
     "ename": "TypeError",
     "evalue": "'set' object is not subscriptable",
     "output_type": "error",
     "traceback": [
      "\u001b[0;31m---------------------------------------------------------------------------\u001b[0m",
      "\u001b[0;31mTypeError\u001b[0m                                 Traceback (most recent call last)",
      "Cell \u001b[0;32mIn[98], line 1\u001b[0m\n\u001b[0;32m----> 1\u001b[0m \u001b[43mpeanuts\u001b[49m\u001b[43m[\u001b[49m\u001b[38;5;241;43m0\u001b[39;49m\u001b[43m]\u001b[49m\n",
      "\u001b[0;31mTypeError\u001b[0m: 'set' object is not subscriptable"
     ]
    }
   ],
   "source": [
    "peanuts[0]"
   ]
  },
  {
   "cell_type": "markdown",
   "id": "dbde2ea0-9891-4dc7-953a-39db86deb82a",
   "metadata": {
    "slideshow": {
     "slide_type": "slide"
    },
    "tags": []
   },
   "source": [
    "You can check if a value is in the set using `in`:"
   ]
  },
  {
   "cell_type": "code",
   "execution_count": 99,
   "id": "72495cad-a5c9-44b4-a023-4ee45086053e",
   "metadata": {
    "tags": []
   },
   "outputs": [
    {
     "data": {
      "text/plain": [
       "True"
      ]
     },
     "execution_count": 99,
     "metadata": {},
     "output_type": "execute_result"
    }
   ],
   "source": [
    "'snoopy' in peanuts"
   ]
  },
  {
   "cell_type": "markdown",
   "id": "b9e56f93-447f-4195-8460-d0b532375079",
   "metadata": {},
   "source": [
    "## Set operations"
   ]
  },
  {
   "cell_type": "markdown",
   "id": "34e5ace8-9af9-4589-b0c3-f800905e4f40",
   "metadata": {
    "slideshow": {
     "slide_type": "slide"
    },
    "tags": []
   },
   "source": [
    "To combine two sets to get their union:"
   ]
  },
  {
   "cell_type": "code",
   "execution_count": 43,
   "id": "0f99fdee-7f2c-4822-b236-01fd6bb00726",
   "metadata": {
    "tags": []
   },
   "outputs": [],
   "source": [
    "set1 = {'python','R'}\n",
    "set2 = {'R','SQL'}"
   ]
  },
  {
   "cell_type": "code",
   "execution_count": 44,
   "id": "3b941371-1958-42ff-9c87-48777ded63d8",
   "metadata": {
    "tags": []
   },
   "outputs": [
    {
     "data": {
      "text/plain": [
       "{'R', 'SQL', 'python'}"
      ]
     },
     "execution_count": 44,
     "metadata": {},
     "output_type": "execute_result"
    }
   ],
   "source": [
    "set1.union(set2)"
   ]
  },
  {
   "cell_type": "markdown",
   "id": "0893d41a-6185-43c7-a4c9-2fc82913fdc6",
   "metadata": {
    "slideshow": {
     "slide_type": "slide"
    },
    "tags": []
   },
   "source": [
    "Note that the `+` operator is not overloaded in this case."
   ]
  },
  {
   "cell_type": "markdown",
   "id": "e2752287-76ed-45f3-addf-516266f519ea",
   "metadata": {},
   "source": [
    "This fails:"
   ]
  },
  {
   "cell_type": "code",
   "execution_count": 45,
   "id": "7a962b44-b939-4b07-9266-458a1d6868c6",
   "metadata": {
    "tags": []
   },
   "outputs": [
    {
     "ename": "TypeError",
     "evalue": "unsupported operand type(s) for +: 'set' and 'set'",
     "output_type": "error",
     "traceback": [
      "\u001b[0;31m---------------------------------------------------------------------------\u001b[0m",
      "\u001b[0;31mTypeError\u001b[0m                                 Traceback (most recent call last)",
      "Cell \u001b[0;32mIn[45], line 1\u001b[0m\n\u001b[0;32m----> 1\u001b[0m \u001b[43mset1\u001b[49m\u001b[43m \u001b[49m\u001b[38;5;241;43m+\u001b[39;49m\u001b[43m \u001b[49m\u001b[43mset2\u001b[49m\n",
      "\u001b[0;31mTypeError\u001b[0m: unsupported operand type(s) for +: 'set' and 'set'"
     ]
    }
   ],
   "source": [
    "set1 + set2"
   ]
  },
  {
   "cell_type": "markdown",
   "id": "8f17e6aa-4155-4c63-a411-239d54273f42",
   "metadata": {
    "slideshow": {
     "slide_type": "slide"
    },
    "tags": []
   },
   "source": [
    "To get the set intersection, do this:"
   ]
  },
  {
   "cell_type": "code",
   "execution_count": 50,
   "id": "3b5f2b4e-06f8-48e5-a222-5344c5e489b1",
   "metadata": {
    "tags": []
   },
   "outputs": [
    {
     "data": {
      "text/plain": [
       "{'R'}"
      ]
     },
     "execution_count": 50,
     "metadata": {},
     "output_type": "execute_result"
    }
   ],
   "source": [
    "set1.intersection(set2)"
   ]
  },
  {
   "cell_type": "markdown",
   "id": "6b0bd090-350f-49f4-8921-b07bb158c9cd",
   "metadata": {
    "tags": []
   },
   "source": [
    "And the difference, i.e. removing from one set the shared elements in another set:"
   ]
  },
  {
   "cell_type": "code",
   "execution_count": 55,
   "id": "a1d2597f-c2f1-4d66-a011-7072ba3e20bf",
   "metadata": {
    "tags": []
   },
   "outputs": [
    {
     "data": {
      "text/plain": [
       "{'python'}"
      ]
     },
     "execution_count": 55,
     "metadata": {},
     "output_type": "execute_result"
    }
   ],
   "source": [
    "set1.difference(set2)"
   ]
  },
  {
   "cell_type": "code",
   "execution_count": 56,
   "id": "e7cdbe9a-713b-4bc5-9250-de87779ac2d3",
   "metadata": {
    "tags": []
   },
   "outputs": [
    {
     "data": {
      "text/plain": [
       "{'SQL'}"
      ]
     },
     "execution_count": 56,
     "metadata": {},
     "output_type": "execute_result"
    }
   ],
   "source": [
    "set2.difference(set1)"
   ]
  },
  {
   "cell_type": "markdown",
   "id": "451e46ef-036c-44d6-b683-c37bebbed489",
   "metadata": {},
   "source": [
    "Interestingly, the `-` operator _is_ overloaded to compute the difference:"
   ]
  },
  {
   "cell_type": "code",
   "execution_count": 57,
   "id": "7e8da052-3b03-4c9f-bec8-3f71986b1b56",
   "metadata": {
    "tags": []
   },
   "outputs": [
    {
     "data": {
      "text/plain": [
       "{'python'}"
      ]
     },
     "execution_count": 57,
     "metadata": {},
     "output_type": "execute_result"
    }
   ],
   "source": [
    "set1 - set2"
   ]
  },
  {
   "cell_type": "code",
   "execution_count": 58,
   "id": "5730198a-b65b-40e1-a458-f24c16682135",
   "metadata": {
    "tags": []
   },
   "outputs": [
    {
     "data": {
      "text/plain": [
       "{'SQL'}"
      ]
     },
     "execution_count": 58,
     "metadata": {},
     "output_type": "execute_result"
    }
   ],
   "source": [
    "set2 - set1"
   ]
  },
  {
   "cell_type": "markdown",
   "id": "2237ecae-9123-4151-ab14-63451d556aad",
   "metadata": {
    "slideshow": {
     "slide_type": "slide"
    },
    "tags": []
   },
   "source": [
    "# Ranges\n",
    "\n",
    "A range is a sequence of integers, from `start` to `stop` by `step`.\n",
    "- The `start` point is zero by default.  \n",
    "- The `step` is one by default.  \n",
    "- The `stop` point is NOT included.  "
   ]
  },
  {
   "cell_type": "markdown",
   "id": "7a3faa4d-b8d2-4d15-a23c-74fa656cd86c",
   "metadata": {},
   "source": [
    "Ranges can be assigned to a variable."
   ]
  },
  {
   "cell_type": "code",
   "execution_count": 59,
   "id": "60e92444-c947-4e06-890f-69098dc3ac52",
   "metadata": {},
   "outputs": [],
   "source": [
    "rng = range(5)"
   ]
  },
  {
   "cell_type": "markdown",
   "id": "68f9fc31-e4d4-435b-864b-3ffc8be02709",
   "metadata": {},
   "source": [
    "More often, ranges are used in **iterations** (loops), which we will cover later."
   ]
  },
  {
   "cell_type": "code",
   "execution_count": 60,
   "id": "1a2cc0db-3167-423e-b391-fa0a0a3eb1e7",
   "metadata": {},
   "outputs": [
    {
     "name": "stdout",
     "output_type": "stream",
     "text": [
      "0\n",
      "1\n",
      "2\n",
      "3\n",
      "4\n"
     ]
    }
   ],
   "source": [
    "for rn in rng:\n",
    "    print(rn)"
   ]
  },
  {
   "cell_type": "markdown",
   "id": "0cc0d38e-7e61-4e20-b991-b7bae5a36c90",
   "metadata": {},
   "source": [
    "Another range:"
   ]
  },
  {
   "cell_type": "code",
   "execution_count": 50,
   "id": "54b9d3ca-7e6f-4531-b514-10750087322c",
   "metadata": {
    "tags": []
   },
   "outputs": [
    {
     "name": "stdout",
     "output_type": "stream",
     "text": [
      "1\n",
      "3\n",
      "5\n",
      "7\n",
      "9\n"
     ]
    }
   ],
   "source": [
    "rangy = range(1, 11, 2)\n",
    "for rn in rangy:\n",
    "    print(rn)"
   ]
  },
  {
   "cell_type": "markdown",
   "id": "958e0411-05a1-4e21-895c-1ada20476949",
   "metadata": {
    "slideshow": {
     "slide_type": "slide"
    },
    "tags": []
   },
   "source": [
    "# Collections and `defaultdict`\n",
    "\n",
    "Very often you will want to build a dictionary from some data source, and add keys as they appear. The default `dict` type in Python, however, requires that the key exists before you can mutate it. The `defaultdict` type in the `collections` module solves this problem. "
   ]
  },
  {
   "cell_type": "markdown",
   "id": "846e842f-b099-444c-8fc3-81dffafc7519",
   "metadata": {
    "slideshow": {
     "slide_type": "slide"
    },
    "tags": []
   },
   "source": [
    "Here's an example where we try to count the number word instances in a paragraph."
   ]
  },
  {
   "cell_type": "code",
   "execution_count": 54,
   "id": "3d7360d9-7302-4315-a1d2-8537e5ea7a9b",
   "metadata": {
    "tags": []
   },
   "outputs": [],
   "source": [
    "source_data = \"\"\"\n",
    "Lorem Ipsum is simply dummy text of the printing and typesetting industry. \n",
    "Lorem Ipsum has been the industry's standard dummy text ever since the 1500s, \n",
    "when an unknown printer took a galley of type and scrambled it to make a type \n",
    "specimen book. It has survived not only five centuries, but also the leap \n",
    "into electronic typesetting, remaining essentially unchanged. It was \n",
    "popularised in the 1960s with the release of Letraset sheets containing \n",
    "Lorem Ipsum passages, and more recently with desktop publishing software \n",
    "like Aldus PageMaker including versions of Lorem Ipsum.\n",
    "\"\"\"[1:-1].split()"
   ]
  },
  {
   "cell_type": "code",
   "execution_count": 56,
   "id": "4d914c43-3d41-47c0-8d88-29caca20fe36",
   "metadata": {
    "tags": []
   },
   "outputs": [
    {
     "data": {
      "text/plain": [
       "['Lorem',\n",
       " 'Ipsum',\n",
       " 'is',\n",
       " 'simply',\n",
       " 'dummy',\n",
       " 'text',\n",
       " 'of',\n",
       " 'the',\n",
       " 'printing',\n",
       " 'and']"
      ]
     },
     "execution_count": 56,
     "metadata": {},
     "output_type": "execute_result"
    }
   ],
   "source": [
    "source_data[:10]"
   ]
  },
  {
   "cell_type": "markdown",
   "id": "3dfd023f-b8eb-4532-9de9-220f22a99bec",
   "metadata": {
    "slideshow": {
     "slide_type": "slide"
    },
    "tags": []
   },
   "source": [
    "## Try with `dict`"
   ]
  },
  {
   "cell_type": "code",
   "execution_count": 58,
   "id": "34a64814-7429-4f1d-bd51-08ce36be8f1a",
   "metadata": {
    "tags": []
   },
   "outputs": [
    {
     "ename": "KeyError",
     "evalue": "'Lorem'",
     "output_type": "error",
     "traceback": [
      "\u001b[0;31m---------------------------------------------------------------------------\u001b[0m",
      "\u001b[0;31mKeyError\u001b[0m                                  Traceback (most recent call last)",
      "Cell \u001b[0;32mIn[58], line 3\u001b[0m\n\u001b[1;32m      1\u001b[0m words \u001b[38;5;241m=\u001b[39m {}\n\u001b[1;32m      2\u001b[0m \u001b[38;5;28;01mfor\u001b[39;00m word \u001b[38;5;129;01min\u001b[39;00m source_data:\n\u001b[0;32m----> 3\u001b[0m     \u001b[43mwords\u001b[49m\u001b[43m[\u001b[49m\u001b[43mword\u001b[49m\u001b[43m]\u001b[49m \u001b[38;5;241m+\u001b[39m\u001b[38;5;241m=\u001b[39m \u001b[38;5;241m1\u001b[39m\n",
      "\u001b[0;31mKeyError\u001b[0m: 'Lorem'"
     ]
    }
   ],
   "source": [
    "words = {}\n",
    "for word in source_data:\n",
    "    words[word] += 1"
   ]
  },
  {
   "cell_type": "markdown",
   "id": "6b1d83bd-4085-4dcf-9517-70bb93b9155c",
   "metadata": {
    "slideshow": {
     "slide_type": "slide"
    },
    "tags": []
   },
   "source": [
    "## Use `try` and `except`\n",
    "\n",
    "This is how we \"trap\" errors.\n",
    "\n",
    "We'll cover this later in the course."
   ]
  },
  {
   "cell_type": "code",
   "execution_count": 61,
   "id": "e1e041db-c531-4c7b-8717-3eec1e0d06a3",
   "metadata": {
    "tags": []
   },
   "outputs": [],
   "source": [
    "for word in source_data:\n",
    "    try:\n",
    "        words[word] += 1\n",
    "    except KeyError:\n",
    "        words[word] = 1"
   ]
  },
  {
   "cell_type": "code",
   "execution_count": 62,
   "id": "4c840feb-b577-4b4c-a836-649cd5dd6b19",
   "metadata": {
    "tags": []
   },
   "outputs": [
    {
     "name": "stdout",
     "output_type": "stream",
     "text": [
      "{'Lorem': 8, 'Ipsum': 6, 'is': 2, 'simply': 2, 'dummy': 4, 'text': 4, 'of': 8, 'the': 12, 'printing': 2, 'and': 6, 'typesetting': 2, 'industry.': 2, 'has': 4, 'been': 2, \"industry's\": 2, 'standard': 2, 'ever': 2, 'since': 2, '1500s,': 2, 'when': 2, 'an': 2, 'unknown': 2, 'printer': 2, 'took': 2, 'a': 4, 'galley': 2, 'type': 4, 'scrambled': 2, 'it': 2, 'to': 2, 'make': 2, 'specimen': 2, 'book.': 2, 'It': 4, 'survived': 2, 'not': 2, 'only': 2, 'five': 2, 'centuries,': 2, 'but': 2, 'also': 2, 'leap': 2, 'into': 2, 'electronic': 2, 'typesetting,': 2, 'remaining': 2, 'essentially': 2, 'unchanged.': 2, 'was': 2, 'popularised': 2, 'in': 2, '1960s': 2, 'with': 4, 'release': 2, 'Letraset': 2, 'sheets': 2, 'containing': 2, 'passages,': 2, 'more': 2, 'recently': 2, 'desktop': 2, 'publishing': 2, 'software': 2, 'like': 2, 'Aldus': 2, 'PageMaker': 2, 'including': 2, 'versions': 2, 'Ipsum.': 2}\n"
     ]
    }
   ],
   "source": [
    "print(words)"
   ]
  },
  {
   "cell_type": "markdown",
   "id": "febcaae9-8d57-476c-bab9-51e7193018ad",
   "metadata": {
    "slideshow": {
     "slide_type": "slide"
    },
    "tags": []
   },
   "source": [
    "## Use `.get()`"
   ]
  },
  {
   "cell_type": "code",
   "execution_count": 69,
   "id": "4a4543b8-bee1-4e10-a991-d3eac4530a91",
   "metadata": {},
   "outputs": [],
   "source": [
    "for word in source_data:\n",
    "    words[word] = words.get(word, 0) + 1"
   ]
  },
  {
   "cell_type": "markdown",
   "id": "71fe41b1-4333-442d-9193-b31f78ce7f42",
   "metadata": {
    "slideshow": {
     "slide_type": "slide"
    },
    "tags": []
   },
   "source": [
    "## Use `collections.defaultdict`"
   ]
  },
  {
   "cell_type": "code",
   "execution_count": 64,
   "id": "db4b75b2-6343-4813-8836-7fc1d3f8a3fb",
   "metadata": {
    "tags": []
   },
   "outputs": [],
   "source": [
    "from collections import defaultdict"
   ]
  },
  {
   "cell_type": "code",
   "execution_count": 65,
   "id": "fbdfb35d-227c-4866-ae12-8558b3e6aefa",
   "metadata": {
    "tags": []
   },
   "outputs": [],
   "source": [
    "words2 = defaultdict(int) # Note the data type must be set"
   ]
  },
  {
   "cell_type": "code",
   "execution_count": 66,
   "id": "eb76ba39-7ad8-4473-ab0f-804afb18550a",
   "metadata": {
    "tags": []
   },
   "outputs": [],
   "source": [
    "for word in source_data:\n",
    "    words2[word] += 1"
   ]
  },
  {
   "cell_type": "code",
   "execution_count": 67,
   "id": "6c886610-45b7-4554-9b50-30263735a203",
   "metadata": {
    "tags": []
   },
   "outputs": [
    {
     "name": "stdout",
     "output_type": "stream",
     "text": [
      "defaultdict(<class 'int'>, {'Lorem': 4, 'Ipsum': 3, 'is': 1, 'simply': 1, 'dummy': 2, 'text': 2, 'of': 4, 'the': 6, 'printing': 1, 'and': 3, 'typesetting': 1, 'industry.': 1, 'has': 2, 'been': 1, \"industry's\": 1, 'standard': 1, 'ever': 1, 'since': 1, '1500s,': 1, 'when': 1, 'an': 1, 'unknown': 1, 'printer': 1, 'took': 1, 'a': 2, 'galley': 1, 'type': 2, 'scrambled': 1, 'it': 1, 'to': 1, 'make': 1, 'specimen': 1, 'book.': 1, 'It': 2, 'survived': 1, 'not': 1, 'only': 1, 'five': 1, 'centuries,': 1, 'but': 1, 'also': 1, 'leap': 1, 'into': 1, 'electronic': 1, 'typesetting,': 1, 'remaining': 1, 'essentially': 1, 'unchanged.': 1, 'was': 1, 'popularised': 1, 'in': 1, '1960s': 1, 'with': 2, 'release': 1, 'Letraset': 1, 'sheets': 1, 'containing': 1, 'passages,': 1, 'more': 1, 'recently': 1, 'desktop': 1, 'publishing': 1, 'software': 1, 'like': 1, 'Aldus': 1, 'PageMaker': 1, 'including': 1, 'versions': 1, 'Ipsum.': 1})\n"
     ]
    }
   ],
   "source": [
    "print(words2)"
   ]
  },
  {
   "cell_type": "code",
   "execution_count": null,
   "id": "6c94b870-c0ba-466c-841a-c5a055665dcb",
   "metadata": {},
   "outputs": [],
   "source": []
  }
 ],
 "metadata": {
  "kernelspec": {
   "display_name": "Python 3 (ipykernel)",
   "language": "python",
   "name": "python3"
  },
  "language_info": {
   "codemirror_mode": {
    "name": "ipython",
    "version": 3
   },
   "file_extension": ".py",
   "mimetype": "text/x-python",
   "name": "python",
   "nbconvert_exporter": "python",
   "pygments_lexer": "ipython3",
   "version": "3.11.4"
  },
  "vscode": {
   "interpreter": {
    "hash": "c3b963de08c47c3b6758389c5e0978ad73698a111eb508d4e16b558edb8f4cbf"
   }
  },
  "widgets": {
   "application/vnd.jupyter.widget-state+json": {
    "state": {},
    "version_major": 2,
    "version_minor": 0
   }
  }
 },
 "nbformat": 4,
 "nbformat_minor": 5
}
