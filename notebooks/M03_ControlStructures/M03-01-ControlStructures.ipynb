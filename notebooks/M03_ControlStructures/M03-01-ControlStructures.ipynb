{
 "cells": [
  {
   "cell_type": "markdown",
   "metadata": {
    "tags": []
   },
   "source": [
    "# NB: Control Structures\n",
    "\n",
    "Programming for Data Science"
   ]
  },
  {
   "cell_type": "markdown",
   "metadata": {
    "slideshow": {
     "slide_type": "slide"
    },
    "tags": []
   },
   "source": [
    "## Introducing Control Structures\n",
    "\n",
    "Python includes **structures** to control the **flow** of data in a program.\n",
    "\n",
    "These structures are made of code blocks that provide **looping and branching** capabilities to your code, based on **boolean conditions**.\n",
    "\n",
    "Control structures are **fundamental** to creating algorithms that can process and respond to data as it flows through and is transformed by a program."
   ]
  },
  {
   "cell_type": "markdown",
   "metadata": {
    "slideshow": {
     "slide_type": "slide"
    },
    "tags": []
   },
   "source": [
    "## Conditions\n",
    "\n",
    "Conditions are **boolean** checkpoints in a program, switching a process based on whether some condition is true or not.\n",
    "\n",
    "The `if` and `else` keywords can be used to create branches in your code based on conditions.\n",
    "\n",
    "This is called conditional processing."
   ]
  },
  {
   "cell_type": "markdown",
   "metadata": {
    "slideshow": {
     "slide_type": "slide"
    },
    "tags": []
   },
   "source": [
    "Here is a very simple example."
   ]
  },
  {
   "cell_type": "code",
   "execution_count": 10,
   "metadata": {
    "tags": []
   },
   "outputs": [
    {
     "name": "stdout",
     "output_type": "stream",
     "text": [
      "2\n"
     ]
    }
   ],
   "source": [
    "val = -2\n",
    "\n",
    "if val >= 0:\n",
    "    print(val)\n",
    "else:\n",
    "    print(-val)"
   ]
  },
  {
   "cell_type": "markdown",
   "metadata": {
    "slideshow": {
     "slide_type": "slide"
    },
    "tags": []
   },
   "source": [
    "### A Note about Indentation\n",
    "\n",
    "Note the indentation pattern in the code:\n",
    "\n",
    "```python\n",
    "if val >= 0:\n",
    "    print(val)\n",
    "else:\n",
    "    print(-val)\n",
    "```\n",
    "\n",
    "This is where **Python differs** from most languages. \n",
    "\n",
    "To define control structures, \n",
    "and functional blocks of code in general, most languages use either characters \n",
    "like braces `{` and `}` or key words like `IF ... END IF`. "
   ]
  },
  {
   "cell_type": "markdown",
   "metadata": {
    "slideshow": {
     "slide_type": "slide"
    },
    "tags": []
   },
   "source": [
    "For example, here is how this control structure might look in other languages:\n",
    "\n",
    "```java\n",
    "\n",
    "if (val <= 0) {\n",
    "    print(val);\n",
    "} \n",
    "else {\n",
    "    print(-val);\n",
    "}\n",
    "```\n",
    "\n",
    "Or:\n",
    "\n",
    "```basic\n",
    "IF val <= 0\n",
    "    PRINT val\n",
    "ELSE\n",
    "    PRINT -val\n",
    "END IF\n",
    "```\n",
    "\n",
    "Python uses tabs &mdash; spaces, actually &mdash; to signify logical blocks of code.\n",
    "\n",
    "It is therefore imperative to understand and get a feel for indentation. \n",
    "\n",
    "<!-- For more information, see [Lutz 2019, \"A Tale of Two Ifs.\"](https://learning.oreilly.com/library/view/learning-python-5th/9781449355722/ch10s03.html) -->"
   ]
  },
  {
   "cell_type": "markdown",
   "metadata": {
    "slideshow": {
     "slide_type": "slide"
    },
    "tags": []
   },
   "source": [
    "### `elif`\n",
    "\n",
    "`elif` is reached when the previous statements are not.\n",
    "\n",
    "Note that if one succeeds, those \n",
    "that follow are not processed.\n",
    "\n",
    "This is unlike a series of `if` statements."
   ]
  },
  {
   "cell_type": "code",
   "execution_count": 11,
   "metadata": {
    "tags": []
   },
   "outputs": [
    {
     "name": "stdout",
     "output_type": "stream",
     "text": [
      "bucket 3\n"
     ]
    }
   ],
   "source": [
    "val = -2\n",
    "\n",
    "if -10 < val < -5:\n",
    "    print('bucket 1')\n",
    "elif -5 <= val < -2:\n",
    "    print('bucket 2')\n",
    "elif val == -2:\n",
    "    print('bucket 3')"
   ]
  },
  {
   "cell_type": "markdown",
   "metadata": {
    "slideshow": {
     "slide_type": "slide"
    },
    "tags": []
   },
   "source": [
    "### `else`\n",
    "\n",
    "`else` can be used as a catch-all for situation when no condition is met."
   ]
  },
  {
   "cell_type": "code",
   "execution_count": 12,
   "metadata": {
    "tags": []
   },
   "outputs": [
    {
     "name": "stdout",
     "output_type": "stream",
     "text": [
      "bucket 4\n"
     ]
    }
   ],
   "source": [
    "val = 5\n",
    "\n",
    "if -10 < val < -5:\n",
    "    print('bucket 1')\n",
    "elif -5 <= val < -2:\n",
    "    print('bucket 2')\n",
    "elif val == -2:\n",
    "    print('bucket 3')\n",
    "else:\n",
    "    print('bucket 4')"
   ]
  },
  {
   "cell_type": "markdown",
   "metadata": {
    "tags": []
   },
   "source": [
    "It's a good practice to include an `else` statement."
   ]
  },
  {
   "cell_type": "markdown",
   "metadata": {
    "slideshow": {
     "slide_type": "slide"
    },
    "tags": []
   },
   "source": [
    "### `if` and `else` as one-liners\n",
    "\n",
    "Python provides a short-hand way of defining `if` statements."
   ]
  },
  {
   "cell_type": "code",
   "execution_count": 13,
   "metadata": {
    "tags": []
   },
   "outputs": [
    {
     "name": "stdout",
     "output_type": "stream",
     "text": [
      "odd\n"
     ]
    }
   ],
   "source": [
    "x = 3\n",
    "\n",
    "print('odd') if x % 2 == 1 else print('even')"
   ]
  },
  {
   "cell_type": "markdown",
   "metadata": {
    "tags": []
   },
   "source": [
    "The general form:\n",
    "```\n",
    "ACTION1 if CONDITION else ACTION2\n",
    "```"
   ]
  },
  {
   "cell_type": "markdown",
   "metadata": {},
   "source": [
    "Both `if` and `else` are required. This breaks:"
   ]
  },
  {
   "cell_type": "code",
   "execution_count": 14,
   "metadata": {
    "tags": []
   },
   "outputs": [
    {
     "ename": "SyntaxError",
     "evalue": "expected 'else' after 'if' expression (471325368.py, line 1)",
     "output_type": "error",
     "traceback": [
      "\u001b[0;36m  Cell \u001b[0;32mIn[14], line 1\u001b[0;36m\u001b[0m\n\u001b[0;31m    print('odd') if x % 2 == 1\u001b[0m\n\u001b[0m    ^\u001b[0m\n\u001b[0;31mSyntaxError\u001b[0m\u001b[0;31m:\u001b[0m expected 'else' after 'if' expression\n"
     ]
    }
   ],
   "source": [
    "print('odd') if x % 2 == 1"
   ]
  },
  {
   "cell_type": "markdown",
   "metadata": {},
   "source": [
    "Essentially, then, this is an either/or construct."
   ]
  },
  {
   "cell_type": "markdown",
   "metadata": {
    "slideshow": {
     "slide_type": "slide"
    },
    "tags": []
   },
   "source": [
    "### Using multiple conditions\n",
    "\n",
    "If statements can be complex combinations of expressions. Use parentheses to keep order of operations correct."
   ]
  },
  {
   "cell_type": "markdown",
   "metadata": {},
   "source": [
    "Correct:"
   ]
  },
  {
   "cell_type": "code",
   "execution_count": 15,
   "metadata": {
    "tags": []
   },
   "outputs": [
    {
     "name": "stdout",
     "output_type": "stream",
     "text": [
      "2\n"
     ]
    }
   ],
   "source": [
    "print(1) if (-2 < val < 2) or (val > 10) else print(2)"
   ]
  },
  {
   "cell_type": "markdown",
   "metadata": {},
   "source": [
    "Incorrect:"
   ]
  },
  {
   "cell_type": "code",
   "execution_count": 16,
   "metadata": {
    "tags": []
   },
   "outputs": [
    {
     "name": "stdout",
     "output_type": "stream",
     "text": [
      "1\n"
     ]
    }
   ],
   "source": [
    "print(1) if (-2 < val) < 2 or val > 10 else print(2)"
   ]
  },
  {
   "cell_type": "markdown",
   "metadata": {
    "jp-MarkdownHeadingCollapsed": true,
    "tags": []
   },
   "source": [
    "The problem is that the condition line is interpreted as `True < 2`, where `True` is cast to integer value $1$."
   ]
  },
  {
   "cell_type": "markdown",
   "metadata": {
    "slideshow": {
     "slide_type": "slide"
    },
    "tags": []
   },
   "source": [
    "## Loops\n",
    "\n",
    "Loops are **fundamental** constructs in programming.\n",
    "\n",
    "They allow for the repeated application of a set of operations on a series of values to compute a result.\n",
    "\n",
    "The repetition of a process as the data changes is called **iteration**.\n",
    "\n",
    "A loop is an **algorithmic pattern** designed to process data stored in a **seqeuence** of some kind, such as provided by a list or range.\n",
    "\n",
    "Loops exemplify a **premise** of this course that data structures imply algorithms. Using the term 'list' broadly, we may say that **Lists imply loops**.\n",
    "\n",
    "There are two main kinds of loops in Python: `while` and `for`."
   ]
  },
  {
   "cell_type": "markdown",
   "metadata": {
    "slideshow": {
     "slide_type": "slide"
    },
    "tags": []
   },
   "source": [
    "### `while` loops\n",
    "\n",
    "While loops iterate while some condition is true. It stops when the condition is false.\n",
    "\n",
    "Here is a simple example:"
   ]
  },
  {
   "cell_type": "code",
   "execution_count": 29,
   "metadata": {
    "tags": []
   },
   "outputs": [
    {
     "name": "stdout",
     "output_type": "stream",
     "text": [
      "16\n",
      "[2, 4, 8, 16]\n",
      "16\n"
     ]
    }
   ],
   "source": [
    "ix = 1\n",
    "ix_list = []\n",
    "while ix < 10:\n",
    "    ix *= 2\n",
    "    ix_list.append(ix)\n",
    "print(ix)\n",
    "print(ix_list)\n",
    "print(ix_list[-1])"
   ]
  },
  {
   "cell_type": "markdown",
   "metadata": {
    "slideshow": {
     "slide_type": "slide"
    },
    "tags": []
   },
   "source": [
    "Note that it is possible for `while` loops to be unending.\n",
    "\n",
    "For example:\n",
    "\n",
    "```python\n",
    "while 1:\n",
    "    print(\"This is so annoying\")\n",
    "```\n",
    "\n",
    "This is why it is important to make sure that your looping condition can be met. \n",
    "\n",
    "You may also break out of a loop by other means."
   ]
  },
  {
   "cell_type": "markdown",
   "metadata": {
    "slideshow": {
     "slide_type": "slide"
    },
    "tags": []
   },
   "source": [
    "### `break`\n",
    "\n",
    "Sometimes you want to quit the loop early, if some condition is met. \n",
    "\n",
    "To do this, put `break` in an `if` statement."
   ]
  },
  {
   "cell_type": "code",
   "execution_count": 31,
   "metadata": {
    "tags": []
   },
   "outputs": [
    {
     "name": "stdout",
     "output_type": "stream",
     "text": [
      "4\n"
     ]
    }
   ],
   "source": [
    "ix = 1\n",
    "while ix < 10:\n",
    "    ix = ix * 2\n",
    "    if ix == 4:\n",
    "        break\n",
    "print(ix)"
   ]
  },
  {
   "cell_type": "markdown",
   "metadata": {},
   "source": [
    "The `break` causes the loop to end early"
   ]
  },
  {
   "cell_type": "markdown",
   "metadata": {
    "slideshow": {
     "slide_type": "slide"
    },
    "tags": []
   },
   "source": [
    "### `continue`\n",
    "\n",
    "Sometimes you want to introduce skipping behavior in the loop.  \n",
    "\n",
    "To do this, put `continue` in an `if` statement."
   ]
  },
  {
   "cell_type": "code",
   "execution_count": 32,
   "metadata": {
    "tags": []
   },
   "outputs": [
    {
     "name": "stdout",
     "output_type": "stream",
     "text": [
      "2\n",
      "skipping 4...\n",
      "8\n",
      "16\n"
     ]
    }
   ],
   "source": [
    "ix = 1\n",
    "while ix < 10:\n",
    "    ix = ix * 2\n",
    "    if ix == 4:\n",
    "        print('skipping 4...')\n",
    "        continue\n",
    "    print(ix)"
   ]
  },
  {
   "cell_type": "markdown",
   "metadata": {
    "tags": []
   },
   "source": [
    "See how `continue` causes the loop to skip printing $4$."
   ]
  },
  {
   "cell_type": "markdown",
   "metadata": {
    "slideshow": {
     "slide_type": "slide"
    },
    "tags": []
   },
   "source": [
    "### `for`   \n",
    "\n",
    "In contrast to `while` loops, `for` loops iterate over an iterable data structure, such as a list.\n",
    "\n",
    "They stop when the list is finished."
   ]
  },
  {
   "cell_type": "code",
   "execution_count": 40,
   "metadata": {
    "tags": []
   },
   "outputs": [
    {
     "name": "stdout",
     "output_type": "stream",
     "text": [
      "\"charlottesville\" \"new york\" \"sf\" \"bos\" \"la\" "
     ]
    }
   ],
   "source": [
    "cities = ['Charlottesville','New York','SF','BOS','LA']\n",
    "\n",
    "for city in cities:\n",
    "    print(f'\"{city.lower()}\"', end=' ')"
   ]
  },
  {
   "cell_type": "markdown",
   "metadata": {
    "slideshow": {
     "slide_type": "slide"
    },
    "tags": []
   },
   "source": [
    "Conditions can be used inside of `if` statements to skip within or stop the loop.\n",
    "\n",
    "Quit early if `SF` reached, using **break**:"
   ]
  },
  {
   "cell_type": "code",
   "execution_count": 41,
   "metadata": {
    "tags": []
   },
   "outputs": [
    {
     "name": "stdout",
     "output_type": "stream",
     "text": [
      "\"charlottesville\" \"new york\" "
     ]
    }
   ],
   "source": [
    "cities = ['Charlottesville','New York','SF','BOS','LA']\n",
    "\n",
    "for city in cities:  \n",
    "    if city == 'SF':\n",
    "        break\n",
    "    print(f'\"{city.lower()}\"', end=' ')"
   ]
  },
  {
   "cell_type": "markdown",
   "metadata": {
    "tags": []
   },
   "source": [
    "Skip over `SF` if reached, using **continue**:"
   ]
  },
  {
   "cell_type": "code",
   "execution_count": 42,
   "metadata": {
    "tags": []
   },
   "outputs": [
    {
     "name": "stdout",
     "output_type": "stream",
     "text": [
      "\"charlottesville\" \"new york\" \"bos\" \"la\" "
     ]
    }
   ],
   "source": [
    "cities = ['Charlottesville','New York','SF','BOS','LA']\n",
    "\n",
    "for city in cities:\n",
    "    if city == 'SF':\n",
    "        continue\n",
    "    print(f'\"{city.lower()}\"', end=' ')        "
   ]
  },
  {
   "cell_type": "markdown",
   "metadata": {
    "slideshow": {
     "slide_type": "slide"
    },
    "tags": []
   },
   "source": [
    "## `while` vs `for`\n",
    "\n",
    "When choosing between `for` and `while` loops, consider this:\n",
    "\n",
    "- `for` loops are used to loop through a list of values or an operation in which the number of iterations is **known** in advance.\n",
    "\n",
    "- `while` loops are when **you don't know** how many interations it will take &mdash; you are depending on some condition to be met.\n",
    "\n",
    "The former is often used when **processing** data, the latter when performing algorithmic **modeling** tasks, such as optimization and convergence. "
   ]
  }
 ],
 "metadata": {
  "kernelspec": {
   "display_name": "Python 3 (ipykernel)",
   "language": "python",
   "name": "python3"
  },
  "language_info": {
   "codemirror_mode": {
    "name": "ipython",
    "version": 3
   },
   "file_extension": ".py",
   "mimetype": "text/x-python",
   "name": "python",
   "nbconvert_exporter": "python",
   "pygments_lexer": "ipython3",
   "version": "3.11.4"
  },
  "widgets": {
   "application/vnd.jupyter.widget-state+json": {
    "state": {},
    "version_major": 2,
    "version_minor": 0
   }
  }
 },
 "nbformat": 4,
 "nbformat_minor": 4
}
