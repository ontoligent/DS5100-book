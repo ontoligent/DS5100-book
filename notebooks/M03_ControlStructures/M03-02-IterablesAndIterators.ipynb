{
 "cells": [
  {
   "cell_type": "markdown",
   "metadata": {
    "slideshow": {
     "slide_type": "slide"
    },
    "tags": []
   },
   "source": [
    "# NB: Iterables and Iterators\n",
    "\n",
    "Programming for Data Science"
   ]
  },
  {
   "cell_type": "markdown",
   "metadata": {
    "slideshow": {
     "slide_type": "slide"
    },
    "tags": []
   },
   "source": [
    "## Iterables and Iteration\n",
    "\n",
    "We have seen that sequential data structures like lists and tuples have a **natural affinity** to loops. \n",
    "\n",
    "Sequences imply loops and loops expect sequences.\n",
    "\n",
    "In Python, this relationship is captured by the resonance between the words **iteration** and **iterables**.\n",
    "\n",
    "**Iterable data structures** that can be iterated over, meaning they can return their elements one at a time. \n",
    "\n",
    "**Examples** of iterable objects include lists, tuples, sets, dictionaries, and strings. \n",
    "\n",
    "Typically we iterate over iterables using **`for` loops**, as we saw when we reviewed control structures."
   ]
  },
  {
   "cell_type": "markdown",
   "metadata": {
    "slideshow": {
     "slide_type": "slide"
    },
    "tags": []
   },
   "source": [
    "## Lists"
   ]
  },
  {
   "cell_type": "markdown",
   "metadata": {
    "slideshow": {
     "slide_type": "slide"
    },
    "tags": []
   },
   "source": [
    "## iterating using `for`\n",
    "\n",
    "First, let's review iteration by means of a `for` loop."
   ]
  },
  {
   "cell_type": "code",
   "execution_count": 107,
   "metadata": {
    "tags": []
   },
   "outputs": [
    {
     "name": "stdout",
     "output_type": "stream",
     "text": [
      "living room\n",
      "was\n",
      "quite\n",
      "large\n"
     ]
    }
   ],
   "source": [
    "tokens = ['living room', 'was', 'quite', 'large']\n",
    "for tok in tokens:\n",
    "    print(tok)"
   ]
  },
  {
   "cell_type": "markdown",
   "metadata": {
    "slideshow": {
     "slide_type": "slide"
    },
    "tags": []
   },
   "source": [
    "## Iterators\n",
    "\n",
    "Python introduces a kind of object called an **iterator** designed to make iteration &mdash; sequence processing &mdash; fast and efficient.\n",
    "\n",
    "An **iterator** is a specific object that represents an interable **stream** of data. \n",
    "\n",
    "It is used to iterate over iterable objects by removing one element at a time from the iterables."
   ]
  },
  {
   "cell_type": "markdown",
   "metadata": {
    "slideshow": {
     "slide_type": "slide"
    },
    "tags": []
   },
   "source": [
    "## Iterating with Iterators\n",
    "\n",
    "An iterator works by popping out and removing a value at each iteration.\n",
    "\n",
    "This means that when iterating through an iterable object, you empty it as you go, leaving an empty data structure at the end.\n",
    "\n",
    "This is useful in situations where you want to save memory.\n",
    "\n",
    "Many functions in Python return iterables so it's helpful to understand them even if you don't create any yourself.\n"
   ]
  },
  {
   "cell_type": "markdown",
   "metadata": {
    "slideshow": {
     "slide_type": "slide"
    },
    "tags": []
   },
   "source": [
    "### Using `iter()` and `next()`\n",
    "\n",
    "To use an iterator, you convert a sequence to an iterator object using `iter()`.\n",
    "\n",
    "Then you use `next()` to get the next item from the iterator."
   ]
  },
  {
   "cell_type": "code",
   "execution_count": 2,
   "metadata": {
    "tags": []
   },
   "outputs": [
    {
     "name": "stdout",
     "output_type": "stream",
     "text": [
      "living room\n",
      "was\n",
      "quite\n",
      "large\n"
     ]
    }
   ],
   "source": [
    "tokens = ['living room','was','quite','large']\n",
    "myit = iter(tokens)\n",
    "print(next(myit)) \n",
    "print(next(myit)) \n",
    "print(next(myit)) \n",
    "print(next(myit)) "
   ]
  },
  {
   "cell_type": "markdown",
   "metadata": {
    "slideshow": {
     "slide_type": "slide"
    },
    "tags": []
   },
   "source": [
    "Calling `next()` when the iterator has reached the end of the list produces an exception:"
   ]
  },
  {
   "cell_type": "code",
   "execution_count": 3,
   "metadata": {
    "tags": []
   },
   "outputs": [
    {
     "ename": "StopIteration",
     "evalue": "",
     "output_type": "error",
     "traceback": [
      "\u001b[0;31m---------------------------------------------------------------------------\u001b[0m",
      "\u001b[0;31mStopIteration\u001b[0m                             Traceback (most recent call last)",
      "Cell \u001b[0;32mIn[3], line 1\u001b[0m\n\u001b[0;32m----> 1\u001b[0m \u001b[38;5;28;43mnext\u001b[39;49m\u001b[43m(\u001b[49m\u001b[43mmyit\u001b[49m\u001b[43m)\u001b[49m\n",
      "\u001b[0;31mStopIteration\u001b[0m: "
     ]
    }
   ],
   "source": [
    "next(myit)"
   ]
  },
  {
   "cell_type": "markdown",
   "metadata": {
    "slideshow": {
     "slide_type": "slide"
    },
    "tags": []
   },
   "source": [
    "Note that when used with an iterable created by `iter()`, `for` implicitly executes `next()` on each loop iteration. "
   ]
  },
  {
   "cell_type": "code",
   "execution_count": 4,
   "metadata": {
    "tags": []
   },
   "outputs": [
    {
     "name": "stdout",
     "output_type": "stream",
     "text": [
      "living room\n",
      "was\n",
      "quite\n",
      "large\n"
     ]
    }
   ],
   "source": [
    "myit = iter(tokens) # Reset the iterator\n",
    "for next_it in myit:\n",
    "    print(next_it)"
   ]
  },
  {
   "cell_type": "markdown",
   "metadata": {
    "slideshow": {
     "slide_type": "slide"
    },
    "tags": []
   },
   "source": [
    "## Sequences and Collections\n",
    "\n",
    "So far, we iterated over a list. \n",
    "\n",
    "Now let's look at sets, strings, tuples, dictionaries, and ranges.\n",
    "\n",
    "Lists, tuples, and strings are **sequences**. Sequences are designed so that elements come out of them in the same order they were put in.\n",
    "\n",
    "Sets and dictionaries are not sequences per se, since the order of their elements is not as important as their names. They are called **collections**.\n",
    "\n",
    "Note that prior to Python 3.7, the order of elements in sets and dictionaries was arbitrary. Now, dictionaries preserve the order in which they were populated, and sets are sorted."
   ]
  },
  {
   "cell_type": "markdown",
   "metadata": {
    "slideshow": {
     "slide_type": "slide"
    },
    "tags": []
   },
   "source": [
    "## Sets"
   ]
  },
  {
   "cell_type": "markdown",
   "metadata": {},
   "source": [
    "Iterating using `for`:"
   ]
  },
  {
   "cell_type": "code",
   "execution_count": 20,
   "metadata": {
    "tags": []
   },
   "outputs": [
    {
     "name": "stdout",
     "output_type": "stream",
     "text": [
      "rapunzel\n",
      "belle\n",
      "cinderella\n"
     ]
    }
   ],
   "source": [
    "princesses = {'belle', 'cinderella', 'rapunzel'}\n",
    "for princess in princesses:\n",
    "    print(princess)"
   ]
  },
  {
   "cell_type": "markdown",
   "metadata": {},
   "source": [
    "Iterating using `iter()` and `next()`:"
   ]
  },
  {
   "cell_type": "code",
   "execution_count": 21,
   "metadata": {
    "tags": []
   },
   "outputs": [
    {
     "name": "stdout",
     "output_type": "stream",
     "text": [
      "rapunzel\n",
      "belle\n",
      "cinderella\n"
     ]
    }
   ],
   "source": [
    "princesses_i = iter(princesses)\n",
    "print(next(princesses_i))\n",
    "print(next(princesses_i))\n",
    "print(next(princesses_i))"
   ]
  },
  {
   "cell_type": "code",
   "execution_count": 22,
   "metadata": {
    "tags": []
   },
   "outputs": [
    {
     "data": {
      "text/plain": [
       "set_iterator"
      ]
     },
     "execution_count": 22,
     "metadata": {},
     "output_type": "execute_result"
    }
   ],
   "source": [
    "type(princesses_i)"
   ]
  },
  {
   "cell_type": "markdown",
   "metadata": {
    "slideshow": {
     "slide_type": "slide"
    },
    "tags": []
   },
   "source": [
    "## Strings"
   ]
  },
  {
   "cell_type": "markdown",
   "metadata": {},
   "source": [
    "Iterating using `for`:"
   ]
  },
  {
   "cell_type": "code",
   "execution_count": 12,
   "metadata": {
    "tags": []
   },
   "outputs": [
    {
     "name": "stdout",
     "output_type": "stream",
     "text": [
      "d\n",
      "a\n",
      "t\n",
      "a\n"
     ]
    }
   ],
   "source": [
    "str1 = 'data'\n",
    "for my_char in str1:\n",
    "    print(my_char)"
   ]
  },
  {
   "cell_type": "markdown",
   "metadata": {},
   "source": [
    "Iterating using `iter()` and `next()`:"
   ]
  },
  {
   "cell_type": "code",
   "execution_count": 18,
   "metadata": {
    "tags": []
   },
   "outputs": [
    {
     "name": "stdout",
     "output_type": "stream",
     "text": [
      "d\n",
      "a\n",
      "t\n",
      "a\n"
     ]
    }
   ],
   "source": [
    "str1_i = iter(str1)\n",
    "print(next(str1_i))\n",
    "print(next(str1_i))\n",
    "print(next(str1_i))\n",
    "print(next(str1_i))"
   ]
  },
  {
   "cell_type": "code",
   "execution_count": 19,
   "metadata": {
    "tags": []
   },
   "outputs": [
    {
     "data": {
      "text/plain": [
       "str_ascii_iterator"
      ]
     },
     "execution_count": 19,
     "metadata": {},
     "output_type": "execute_result"
    }
   ],
   "source": [
    "type(str1_i)"
   ]
  },
  {
   "cell_type": "markdown",
   "metadata": {
    "slideshow": {
     "slide_type": "slide"
    },
    "tags": []
   },
   "source": [
    "## Tuples"
   ]
  },
  {
   "cell_type": "markdown",
   "metadata": {},
   "source": [
    "Iterating using `for`:"
   ]
  },
  {
   "cell_type": "code",
   "execution_count": 24,
   "metadata": {
    "tags": []
   },
   "outputs": [
    {
     "name": "stdout",
     "output_type": "stream",
     "text": [
      "auc\n",
      "recall\n",
      "precision\n",
      "support\n"
     ]
    }
   ],
   "source": [
    "metrics = ('auc','recall','precision','support')\n",
    "for met in metrics:\n",
    "    print(met)"
   ]
  },
  {
   "cell_type": "markdown",
   "metadata": {},
   "source": [
    "Iterating using `iter()` and `next()`:"
   ]
  },
  {
   "cell_type": "code",
   "execution_count": 37,
   "metadata": {
    "tags": []
   },
   "outputs": [
    {
     "name": "stdout",
     "output_type": "stream",
     "text": [
      "auc\n",
      "recall\n",
      "precision\n",
      "support\n"
     ]
    }
   ],
   "source": [
    "metrics = ('auc','recall','precision','support')\n",
    "metrics_i = iter(metrics)\n",
    "print(next(metrics_i))\n",
    "print(next(metrics_i))\n",
    "print(next(metrics_i))\n",
    "print(next(metrics_i))"
   ]
  },
  {
   "cell_type": "code",
   "execution_count": 35,
   "metadata": {
    "tags": []
   },
   "outputs": [
    {
     "data": {
      "text/plain": [
       "tuple_iterator"
      ]
     },
     "execution_count": 35,
     "metadata": {},
     "output_type": "execute_result"
    }
   ],
   "source": [
    "type(metrics_i)"
   ]
  },
  {
   "cell_type": "markdown",
   "metadata": {
    "slideshow": {
     "slide_type": "slide"
    },
    "tags": []
   },
   "source": [
    "## Dictionaries"
   ]
  },
  {
   "cell_type": "markdown",
   "metadata": {},
   "source": [
    "Iterating using `for`:"
   ]
  },
  {
   "cell_type": "code",
   "execution_count": 38,
   "metadata": {
    "tags": []
   },
   "outputs": [],
   "source": [
    "courses = {'fall': ['regression','python'], 'spring': ['capstone','pyspark','nlp']}"
   ]
  },
  {
   "cell_type": "code",
   "execution_count": 42,
   "metadata": {
    "tags": []
   },
   "outputs": [
    {
     "name": "stdout",
     "output_type": "stream",
     "text": [
      "fall\n",
      "spring\n"
     ]
    }
   ],
   "source": [
    "for k in courses:\n",
    "    print(k)"
   ]
  },
  {
   "cell_type": "code",
   "execution_count": 43,
   "metadata": {
    "tags": []
   },
   "outputs": [
    {
     "name": "stdout",
     "output_type": "stream",
     "text": [
      "fall\n",
      "spring\n"
     ]
    }
   ],
   "source": [
    "for k in courses.keys():\n",
    "    print(k)"
   ]
  },
  {
   "cell_type": "code",
   "execution_count": 44,
   "metadata": {
    "tags": []
   },
   "outputs": [
    {
     "name": "stdout",
     "output_type": "stream",
     "text": [
      "['regression', 'python']\n",
      "['capstone', 'pyspark', 'nlp']\n"
     ]
    }
   ],
   "source": [
    "for v in courses.values():\n",
    "    print(v)"
   ]
  },
  {
   "cell_type": "code",
   "execution_count": 46,
   "metadata": {
    "slideshow": {
     "slide_type": "subslide"
    },
    "tags": []
   },
   "outputs": [
    {
     "name": "stdout",
     "output_type": "stream",
     "text": [
      "FALL:\tregression, python\n",
      "SPRING:\tcapstone, pyspark, nlp\n"
     ]
    }
   ],
   "source": [
    "for k, v in courses.items():\n",
    "    print(f\"{k.upper()}:\\t{', '.join(v)}\")"
   ]
  },
  {
   "cell_type": "code",
   "execution_count": 48,
   "metadata": {
    "tags": []
   },
   "outputs": [
    {
     "name": "stdout",
     "output_type": "stream",
     "text": [
      "FALL:\tregression, python\n",
      "SPRING:\tcapstone, pyspark, nlp\n"
     ]
    }
   ],
   "source": [
    "for k in courses.keys():\n",
    "    print(f\"{k.upper()}:\\t{', '.join(courses[k])}\") # index into the dict with the key"
   ]
  },
  {
   "cell_type": "markdown",
   "metadata": {
    "slideshow": {
     "slide_type": "slide"
    },
    "tags": []
   },
   "source": [
    "## Ranges"
   ]
  },
  {
   "cell_type": "markdown",
   "metadata": {},
   "source": [
    "Iterating using `for`:"
   ]
  },
  {
   "cell_type": "code",
   "execution_count": 51,
   "metadata": {
    "tags": []
   },
   "outputs": [
    {
     "name": "stdout",
     "output_type": "stream",
     "text": [
      "01 |\n",
      "02 ||||\n",
      "03 |||||||||\n",
      "04 ||||||||||||||||\n",
      "05 |||||||||||||||||||||||||\n",
      "06 ||||||||||||||||||||||||||||||||||||\n",
      "07 |||||||||||||||||||||||||||||||||||||||||||||||||\n",
      "08 ||||||||||||||||||||||||||||||||||||||||||||||||||||||||||||||||\n",
      "09 |||||||||||||||||||||||||||||||||||||||||||||||||||||||||||||||||||||||||||||||||\n",
      "10 ||||||||||||||||||||||||||||||||||||||||||||||||||||||||||||||||||||||||||||||||||||||||||||||||||||\n"
     ]
    }
   ],
   "source": [
    "for i in range(10):\n",
    "    print(str(i+1).zfill(2), (i+1)**2 * '|')"
   ]
  },
  {
   "cell_type": "markdown",
   "metadata": {
    "slideshow": {
     "slide_type": "slide"
    },
    "tags": []
   },
   "source": [
    "## Get iteration number with `enumerate()`"
   ]
  },
  {
   "cell_type": "markdown",
   "metadata": {},
   "source": [
    "Very often you will want to know what iteration number you are on in a loop. \n",
    "\n",
    "This can be used to name files or dict keys, for example.\n",
    "\n",
    "`enumerate()` will return the index and key for each iteration."
   ]
  },
  {
   "cell_type": "code",
   "execution_count": 52,
   "metadata": {
    "tags": []
   },
   "outputs": [
    {
     "data": {
      "text/plain": [
       "{'fall': ['regression', 'python'], 'spring': ['capstone', 'pyspark', 'nlp']}"
      ]
     },
     "execution_count": 52,
     "metadata": {},
     "output_type": "execute_result"
    }
   ],
   "source": [
    "courses"
   ]
  },
  {
   "cell_type": "code",
   "execution_count": 54,
   "metadata": {
    "tags": []
   },
   "outputs": [
    {
     "name": "stdout",
     "output_type": "stream",
     "text": [
      "00_fall:\tregression-python\n",
      "01_spring:\tcapstone-pyspark-nlp\n"
     ]
    }
   ],
   "source": [
    "for i, semester in enumerate(courses):\n",
    "    course_name = f\"{str(i).zfill(2)}_{semester}:\\t{'-'.join(courses[semester])}\"\n",
    "    print(course_name)"
   ]
  },
  {
   "cell_type": "markdown",
   "metadata": {
    "slideshow": {
     "slide_type": "slide"
    },
    "tags": []
   },
   "source": [
    "## Nested Loops\n",
    "\n",
    "Iterations can be nested &mdash; this is very powerful.\n",
    "\n",
    "This works well with nested data structures, like dictionaries within dictionaries.\n",
    "\n",
    "This is basically how `JSON` files are handled, BTW.\n",
    "\n",
    "Be careful, though -- these can get deep and complicated.\n"
   ]
  },
  {
   "cell_type": "code",
   "execution_count": 21,
   "metadata": {},
   "outputs": [
    {
     "name": "stdout",
     "output_type": "stream",
     "text": [
      "1. FALL:\n",
      "\t1.1. regression\n",
      "\t1.2. python\n",
      "2. SPRING:\n",
      "\t2.1. capstone\n",
      "\t2.2. pyspark\n",
      "\t2.3. nlp\n"
     ]
    }
   ],
   "source": [
    "for i, semester in enumerate(courses):\n",
    "    print(f\"{i+1}. {semester.upper()}:\")\n",
    "    for j, course in enumerate(courses[semester]):\n",
    "        print(f\"\\t{i+1}.{j+1}. {course}\")"
   ]
  },
  {
   "cell_type": "markdown",
   "metadata": {
    "slideshow": {
     "slide_type": "slide"
    },
    "tags": []
   },
   "source": [
    "Used nested loops to get the cartesian product."
   ]
  },
  {
   "cell_type": "code",
   "execution_count": 106,
   "metadata": {
    "tags": []
   },
   "outputs": [
    {
     "name": "stdout",
     "output_type": "stream",
     "text": [
      "[(1, 1), (1, 2), (1, 3), (1, 4), (1, 5), (1, 6), (2, 1), (2, 2), (2, 3), (2, 4), (2, 5), (2, 6), (3, 1), (3, 2), (3, 3), (3, 4), (3, 5), (3, 6), (4, 1), (4, 2), (4, 3), (4, 4), (4, 5), (4, 6), (5, 1), (5, 2), (5, 3), (5, 4), (5, 5), (5, 6), (6, 1), (6, 2), (6, 3), (6, 4), (6, 5), (6, 6)]\n"
     ]
    }
   ],
   "source": [
    "die = range(1,7)\n",
    "die_rolls = []\n",
    "for face1 in die:\n",
    "    for face2 in die:\n",
    "        die_rolls.append((face1, face2))\n",
    "print(die_rolls)"
   ]
  },
  {
   "cell_type": "markdown",
   "metadata": {
    "slideshow": {
     "slide_type": "fragment"
    },
    "tags": []
   },
   "source": [
    "Now get the frequency of die roll sums."
   ]
  },
  {
   "cell_type": "code",
   "execution_count": 101,
   "metadata": {
    "tags": []
   },
   "outputs": [],
   "source": [
    "die_roll_sums = {}"
   ]
  },
  {
   "cell_type": "code",
   "execution_count": 102,
   "metadata": {
    "tags": []
   },
   "outputs": [],
   "source": [
    "for my_die_roll in die_rolls:\n",
    "    my_die_roll_sum = sum(my_die_roll)\n",
    "    die_roll_sums[my_die_roll_sum] = die_roll_sums.get(my_die_roll_sum, 0) + 1"
   ]
  },
  {
   "cell_type": "code",
   "execution_count": 130,
   "metadata": {
    "tags": []
   },
   "outputs": [
    {
     "name": "stdout",
     "output_type": "stream",
     "text": [
      "02 1 |\n",
      "03 2 ||\n",
      "04 3 |||\n",
      "05 4 ||||\n",
      "06 5 |||||\n",
      "07 6 ||||||\n",
      "08 5 |||||\n",
      "09 4 ||||\n",
      "10 3 |||\n",
      "11 2 ||\n",
      "12 1 |\n"
     ]
    }
   ],
   "source": [
    "for k, v in die_roll_sums.items():\n",
    "    print(str(k).zfill(2), v, '|' * v)"
   ]
  }
 ],
 "metadata": {
  "anaconda-cloud": {},
  "kernelspec": {
   "display_name": "Python 3 (ipykernel)",
   "language": "python",
   "name": "python3"
  },
  "language_info": {
   "codemirror_mode": {
    "name": "ipython",
    "version": 3
   },
   "file_extension": ".py",
   "mimetype": "text/x-python",
   "name": "python",
   "nbconvert_exporter": "python",
   "pygments_lexer": "ipython3",
   "version": "3.11.4"
  },
  "widgets": {
   "application/vnd.jupyter.widget-state+json": {
    "state": {},
    "version_major": 2,
    "version_minor": 0
   }
  }
 },
 "nbformat": 4,
 "nbformat_minor": 4
}
