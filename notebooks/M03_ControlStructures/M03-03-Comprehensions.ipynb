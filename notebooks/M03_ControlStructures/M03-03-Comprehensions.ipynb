{
 "cells": [
  {
   "cell_type": "markdown",
   "metadata": {
    "slideshow": {
     "slide_type": "slide"
    },
    "tags": []
   },
   "source": [
    "# NB: Comprehensions\n",
    "\n",
    "Programming for Data Science"
   ]
  },
  {
   "cell_type": "markdown",
   "metadata": {
    "slideshow": {
     "slide_type": "slide"
    },
    "tags": []
   },
   "source": [
    "# List Comprehensions\n",
    "\n",
    "Consider the following task.\n",
    "\n",
    "Check if each integer in a list is odd and save the results (true or false) in a list.\n",
    "\n",
    "With a standard for loop, you could do this:"
   ]
  },
  {
   "cell_type": "code",
   "execution_count": 18,
   "metadata": {
    "tags": []
   },
   "outputs": [],
   "source": [
    "vals = [1,5,6,8,12,15]\n",
    "is_odd = []\n",
    "for val in vals:   \n",
    "    if val % 2:\n",
    "        is_odd.append(True)\n",
    "    else:       \n",
    "        is_odd.append(False)"
   ]
  },
  {
   "cell_type": "code",
   "execution_count": 19,
   "metadata": {
    "tags": []
   },
   "outputs": [
    {
     "data": {
      "text/plain": [
       "[True, True, False, False, False, True]"
      ]
     },
     "execution_count": 19,
     "metadata": {},
     "output_type": "execute_result"
    }
   ],
   "source": [
    "is_odd"
   ]
  },
  {
   "cell_type": "markdown",
   "metadata": {
    "slideshow": {
     "slide_type": "slide"
    },
    "tags": []
   },
   "source": [
    "Now let's do the same thing with a list comprehension:"
   ]
  },
  {
   "cell_type": "code",
   "execution_count": 24,
   "metadata": {
    "tags": []
   },
   "outputs": [],
   "source": [
    "is_odd_comp = [val % 2 == 1 for val in vals]"
   ]
  },
  {
   "cell_type": "code",
   "execution_count": 25,
   "metadata": {
    "tags": []
   },
   "outputs": [
    {
     "data": {
      "text/plain": [
       "[True, True, False, False, False, True]"
      ]
     },
     "execution_count": 25,
     "metadata": {},
     "output_type": "execute_result"
    }
   ],
   "source": [
    "is_odd_comp"
   ]
  },
  {
   "cell_type": "markdown",
   "metadata": {},
   "source": [
    "Much shorter, and if you understand the syntax, quicker to interpet."
   ]
  },
  {
   "cell_type": "markdown",
   "metadata": {
    "slideshow": {
     "slide_type": "slide"
    },
    "tags": []
   },
   "source": [
    "Here's how you might save all the even numbers in a list:"
   ]
  },
  {
   "cell_type": "code",
   "execution_count": 26,
   "metadata": {
    "tags": []
   },
   "outputs": [
    {
     "data": {
      "text/plain": [
       "[1, 5, 15]"
      ]
     },
     "execution_count": 26,
     "metadata": {},
     "output_type": "execute_result"
    }
   ],
   "source": [
    "odd_vals = [val for val in vals if val % 2 == 1]\n",
    "odd_vals"
   ]
  },
  {
   "cell_type": "markdown",
   "metadata": {
    "tags": []
   },
   "source": [
    "This introduces how comprehensions may include a boolean condition to filter what gets included in the result."
   ]
  },
  {
   "cell_type": "markdown",
   "metadata": {
    "slideshow": {
     "slide_type": "slide"
    },
    "tags": []
   },
   "source": [
    "# Comprehensions in General\n",
    "\n",
    "Comprehensions provide a concise method for iterating over any iterable object to a new iterable object.\n",
    "\n",
    "There are comprehensions for each type of iterable:\n",
    "\n",
    "* List comprehensions\n",
    "* Dictionary comprehensions\n",
    "* Set comprehensions\n",
    "\n",
    "Note there is no tuple comprehension.\n",
    "\n",
    "Comprehensions are essentially concise `for` loops that address the use case of transforming one iterable into another. \n",
    "\n",
    "They are also are more efficient than loops."
   ]
  },
  {
   "cell_type": "markdown",
   "metadata": {
    "slideshow": {
     "slide_type": "slide"
    },
    "tags": []
   },
   "source": [
    "All comprehensions have the form:\n",
    "\n",
    "listlike_result = `[ expression + context + condition]` \n",
    "\n",
    "For example, in the comprehension above we can see these parts by breaking up the code into three lines:\n",
    "\n",
    "```python\n",
    "odd_vals = [\n",
    "    val \n",
    "    for val in vals \n",
    "    if val % 2 == 1\n",
    "]\n",
    "```\n",
    "\n",
    "Note this is syntactically legit."
   ]
  },
  {
   "cell_type": "markdown",
   "metadata": {
    "slideshow": {
     "slide_type": "slide"
    },
    "tags": []
   },
   "source": [
    "The type of comprehension is indicated by the use of enclosing pairs, just like anonymous constructors:\n",
    "\n",
    "* List comprehensions       `[expression + context + condition]`\n",
    "* Dictionary comprehensions `{expression + context + condition}`\n",
    "* Set comprehensions        `{expression + context + condition}`\n",
    "\n",
    "Parts:\n",
    "\n",
    "- **Expression** defines what to do with each element in the list. \n",
    "\n",
    "  - This can be a complex expression, or it may not include the iterated value at all.\n",
    "\n",
    "  - For dictionaries, the expression is actually conplex; it must be a key/value pair.\n",
    "\n",
    "- **Context** defines which iterable elements to select. \n",
    "\n",
    "- **Conidtion** defines a boolean condition on the iterated value that determines if it gets included in the expression.\n",
    "\n",
    "Note the that you can include comprehensions within comprehensions.\n",
    "\n",
    "And you can include multiple context + condition statements."
   ]
  },
  {
   "cell_type": "markdown",
   "metadata": {
    "slideshow": {
     "slide_type": "slide"
    },
    "tags": []
   },
   "source": [
    "# Examples\n",
    "\n",
    "## Removing Stopwords\n",
    "\n",
    "Define a sentence and a list of stop words.  \n",
    "\n",
    "Filter out the stop words (considered not important)."
   ]
  },
  {
   "cell_type": "code",
   "execution_count": 4,
   "metadata": {
    "tags": []
   },
   "outputs": [],
   "source": [
    "sentence = \"I am not a fan of this film\"\n",
    "stop_words = ['a','am','an','i','the','of']"
   ]
  },
  {
   "cell_type": "code",
   "execution_count": 5,
   "metadata": {
    "tags": []
   },
   "outputs": [
    {
     "data": {
      "text/plain": [
       "['not', 'fan', 'this', 'film']"
      ]
     },
     "execution_count": 5,
     "metadata": {},
     "output_type": "execute_result"
    }
   ],
   "source": [
    "clean_words = [word for word in sentence.split() if word.lower() not in stop_words]\n",
    "clean_words"
   ]
  },
  {
   "cell_type": "markdown",
   "metadata": {},
   "source": [
    "Here is a color-coded version of the list comprehension to show its parts:\n",
    "\n",
    "[<span style=\"color:green\">word </span> <span style=\"color:blue\"> for word in sentence.split() </span> \n",
    "<span style=\"color:red\">if word not in stop_words</span>]"
   ]
  },
  {
   "cell_type": "markdown",
   "metadata": {
    "slideshow": {
     "slide_type": "slide"
    },
    "tags": []
   },
   "source": [
    "**Side note**: This task can also be done with sets, if you are not concerned with mulitple instances of the same word:"
   ]
  },
  {
   "cell_type": "code",
   "execution_count": 6,
   "metadata": {
    "tags": []
   },
   "outputs": [],
   "source": [
    "s1 = set(stop_words)\n",
    "s2 = set(sentence.lower().split())\n",
    "s3 = s2 - s1"
   ]
  },
  {
   "cell_type": "code",
   "execution_count": 7,
   "metadata": {
    "tags": []
   },
   "outputs": [
    {
     "data": {
      "text/plain": [
       "{'fan', 'film', 'not', 'this'}"
      ]
     },
     "execution_count": 7,
     "metadata": {},
     "output_type": "execute_result"
    }
   ],
   "source": [
    "s3"
   ]
  },
  {
   "cell_type": "markdown",
   "metadata": {
    "slideshow": {
     "slide_type": "slide"
    },
    "tags": []
   },
   "source": [
    "## Selecting Tokens Containing Units\n",
    "\n",
    "Given a list of measurements, retain elements containing $mmHg$ (millimeters of mercury)"
   ]
  },
  {
   "cell_type": "code",
   "execution_count": 8,
   "metadata": {
    "tags": []
   },
   "outputs": [],
   "source": [
    "units = 'mmHg'\n",
    "measures = ['20', '115mmHg', '5mg', '10 mg', '7.5dl', '120 mmHg']\n",
    "measures_mmhg = [measure for measure in measures if units in measure]"
   ]
  },
  {
   "cell_type": "code",
   "execution_count": 9,
   "metadata": {
    "tags": []
   },
   "outputs": [
    {
     "data": {
      "text/plain": [
       "['115mmHg', '120 mmHg']"
      ]
     },
     "execution_count": 9,
     "metadata": {},
     "output_type": "execute_result"
    }
   ],
   "source": [
    "measures_mmhg   "
   ]
  },
  {
   "cell_type": "markdown",
   "metadata": {},
   "source": [
    "*Filtering on two conditions*"
   ]
  },
  {
   "cell_type": "code",
   "execution_count": 10,
   "metadata": {
    "tags": []
   },
   "outputs": [],
   "source": [
    "units1 = 'mmHg'\n",
    "units2 = 'dl'\n",
    "meas_mmhg_dl = [meas for meas in measures if units1 in meas or units2 in meas]"
   ]
  },
  {
   "cell_type": "code",
   "execution_count": 11,
   "metadata": {
    "tags": []
   },
   "outputs": [
    {
     "data": {
      "text/plain": [
       "['115mmHg', '7.5dl', '120 mmHg']"
      ]
     },
     "execution_count": 11,
     "metadata": {},
     "output_type": "execute_result"
    }
   ],
   "source": [
    "meas_mmhg_dl"
   ]
  },
  {
   "cell_type": "markdown",
   "metadata": {},
   "source": [
    "This can be written differently for clarity:"
   ]
  },
  {
   "cell_type": "code",
   "execution_count": 12,
   "metadata": {
    "tags": []
   },
   "outputs": [
    {
     "data": {
      "text/plain": [
       "['115mmHg', '7.5dl', '120 mmHg']"
      ]
     },
     "execution_count": 12,
     "metadata": {},
     "output_type": "execute_result"
    }
   ],
   "source": [
    "[meas \n",
    " for meas in measures \n",
    " if units1 in meas \n",
    " or units2 in meas]"
   ]
  },
  {
   "cell_type": "markdown",
   "metadata": {
    "slideshow": {
     "slide_type": "slide"
    },
    "tags": []
   },
   "source": [
    "# Dictionary Comprehensions\n",
    "\n",
    "**Dictionary comprehensions** provide a concise method for iterating over a dictionary to create a new dictionary.\n",
    "\n",
    "This is common when data is structured as key-value pairs, and we'd like to filter the dict."
   ]
  },
  {
   "cell_type": "markdown",
   "metadata": {
    "tags": []
   },
   "source": [
    "Here we define various deep learning models and their depths (in layers)."
   ]
  },
  {
   "cell_type": "code",
   "execution_count": 13,
   "metadata": {
    "tags": []
   },
   "outputs": [],
   "source": [
    "model_arch = {'cnn_1': 15, 'cnn_2': 20, 'rnn': 10}"
   ]
  },
  {
   "cell_type": "markdown",
   "metadata": {
    "tags": []
   },
   "source": [
    "We use a comprehension to create a new dict containing only key-value pairs where the key contains the string `cnn`."
   ]
  },
  {
   "cell_type": "code",
   "execution_count": 14,
   "metadata": {
    "tags": []
   },
   "outputs": [],
   "source": [
    "cnns = {key:model_arch[key] for key in model_arch.keys() if 'cnn' in key}"
   ]
  },
  {
   "cell_type": "code",
   "execution_count": 15,
   "metadata": {
    "tags": []
   },
   "outputs": [
    {
     "data": {
      "text/plain": [
       "{'cnn_1': 15, 'cnn_2': 20}"
      ]
     },
     "execution_count": 15,
     "metadata": {},
     "output_type": "execute_result"
    }
   ],
   "source": [
    "cnns"
   ]
  },
  {
   "cell_type": "markdown",
   "metadata": {},
   "source": [
    "We build the key-value pairs using `key:model_arch[key]`, where the key indexes into the dict `model_arch`."
   ]
  }
 ],
 "metadata": {
  "anaconda-cloud": {},
  "kernelspec": {
   "display_name": "Python 3 (ipykernel)",
   "language": "python",
   "name": "python3"
  },
  "language_info": {
   "codemirror_mode": {
    "name": "ipython",
    "version": 3
   },
   "file_extension": ".py",
   "mimetype": "text/x-python",
   "name": "python",
   "nbconvert_exporter": "python",
   "pygments_lexer": "ipython3",
   "version": "3.11.4"
  },
  "widgets": {
   "application/vnd.jupyter.widget-state+json": {
    "state": {},
    "version_major": 2,
    "version_minor": 0
   }
  }
 },
 "nbformat": 4,
 "nbformat_minor": 4
}
