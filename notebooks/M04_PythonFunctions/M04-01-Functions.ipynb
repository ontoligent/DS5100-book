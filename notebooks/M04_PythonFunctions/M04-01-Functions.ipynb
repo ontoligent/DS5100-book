{
 "cells": [
  {
   "cell_type": "markdown",
   "metadata": {
    "slideshow": {
     "slide_type": "slide"
    },
    "tags": []
   },
   "source": [
    "# NB: Introduction to Functions\n",
    "\n",
    "Programming for Data Science\n",
    "\n",
    "<!--\n",
    "**Objectives**\n",
    "- Explain the benefits of functions\n",
    "- Illustrate how to use built-in functions\n",
    "- Illustrate how to create and use your own (user-defined) functions\n",
    "- Demonstrate the scope and lifetime of a variable\n",
    "- Illustrate global and local nature of variables through functions\n",
    "- Demonstrate function parameter use\n",
    "- Provide recommendations on how to create and document functions\n",
    "- Show how to print and write docstrings\n",
    "\n",
    "**Concepts**\n",
    "- functions\n",
    "- built-in functions\n",
    "- user-defined functions\n",
    "- variable scope\n",
    "- global versus local variables\n",
    "- default arguments\n",
    "- *args\n",
    "- function call\n",
    "- docstring\n",
    "-->"
   ]
  },
  {
   "cell_type": "markdown",
   "metadata": {
    "slideshow": {
     "slide_type": "slide"
    },
    "tags": []
   },
   "source": [
    "## What is a Function?\n",
    "\n",
    "A function is piece of code, separate from the larger program, that **performs a specific task**. \n",
    "\n",
    "This piece of code is given a **name** and can be **called** from the main program.\n",
    "\n",
    "Functions are the **verbs** of a programming language. They signify **action**, and take subjects and objects (as it were)."
   ]
  },
  {
   "cell_type": "markdown",
   "metadata": {
    "slideshow": {
     "slide_type": "slide"
    },
    "tags": []
   },
   "source": [
    "## How do they Work?\n",
    "\n",
    "Functions take **input** data and produce **output** data. \n",
    "\n",
    "- Function inputs are called both **parameters** and **arguments**.\n",
    "- Outputs are called **return** values\n",
    "\n",
    "Functions are always written with **parentheses** at the end of their names, e.g.\n",
    "\n",
    "`len(some_list)`\n",
    "\n",
    "`time()`\n",
    "\n",
    "Internally, they contain a block of code to do their work.  \n",
    "\n",
    "Often they produce a **transformation** ... e.g. from simple to complex.\n",
    "\n",
    "When you use a function, we say you **call** a function. Programmers speak of \"function calls\" and \"callbacks.\""
   ]
  },
  {
   "cell_type": "markdown",
   "metadata": {
    "slideshow": {
     "slide_type": "slide"
    },
    "tags": []
   },
   "source": [
    "## Why Use Them?\n",
    "\n",
    "Reduce **complex** tasks into **simpler** tasks.\n",
    "\n",
    "Eliminate **duplicate code** &mdash; no need to re-write, reuse function as needed.\n",
    "\n",
    "Make code **reusable**. Once function is written, you can reuse it in any other program.\n",
    "\n",
    "**Distribute** tasks to multiple programmers. For example, each function can be written by someone.\n",
    "\n",
    "Hide implementation details, i.e. **abstraction**. \n",
    "\n",
    "Increase code **readability**.\n",
    "\n",
    "Improve **debugging** by improving traceability. Things are easier to follow; you can jump from function to function."
   ]
  },
  {
   "cell_type": "markdown",
   "metadata": {
    "slideshow": {
     "slide_type": "slide"
    },
    "tags": []
   },
   "source": [
    "## Built-in Functions\n",
    "\n",
    "Python provides many **built-in** functions. See [Python built-in functions](https://docs.python.org/3/library/functions.html).\n",
    "\n",
    "We've looked at many of these already.\n",
    "\n",
    "These are functions that are available to use any time your are running Python.\n",
    "\n",
    "To take one simple example, this is a built-in function: `bool()`. \n",
    "\n",
    "Takes an argument $x$ and returns a boolean value, i.e. `True` or `False`.  "
   ]
  },
  {
   "cell_type": "code",
   "execution_count": 1,
   "metadata": {},
   "outputs": [
    {
     "data": {
      "text/plain": [
       "(False, True)"
      ]
     },
     "execution_count": 1,
     "metadata": {},
     "output_type": "execute_result"
    }
   ],
   "source": [
    "bool(0), bool(500)"
   ]
  },
  {
   "cell_type": "markdown",
   "metadata": {
    "slideshow": {
     "slide_type": "slide"
    },
    "tags": []
   },
   "source": [
    "## Imported Functions\n",
    "\n",
    "Python is meant to be a highly **modular** language.\n",
    "\n",
    "It is not designed to have a lot of special purpose functions built into it.\n",
    "\n",
    "This keeps Python light and highly **customizable**.\n",
    "\n",
    "Many functions can be **imported** into a program to add to the functions that you can call in a script."
   ]
  },
  {
   "cell_type": "code",
   "execution_count": 3,
   "metadata": {
    "tags": []
   },
   "outputs": [
    {
     "data": {
      "text/plain": [
       "8.0"
      ]
     },
     "execution_count": 3,
     "metadata": {},
     "output_type": "execute_result"
    }
   ],
   "source": [
    "import math\n",
    "\n",
    "math.log(256, 2)"
   ]
  },
  {
   "cell_type": "markdown",
   "metadata": {
    "slideshow": {
     "slide_type": "slide"
    },
    "tags": []
   },
   "source": [
    "## User-Defined Functions\n",
    "\n",
    "Python makes it easy for you to write your own functions. These are called **user-defined** functions.\n",
    "\n",
    "Let's write a function to compare the list against a threshold."
   ]
  },
  {
   "cell_type": "code",
   "execution_count": 10,
   "metadata": {
    "tags": []
   },
   "outputs": [],
   "source": [
    "def vals_greater_than_or_equal_to_threshold(vals, thresh):\n",
    "    '''\n",
    "    This is the \"docstring\" of a function. It is optional but expected. It describes it's \n",
    "    purpose and the nature of the input and return values, as well as a sense of what it does.\n",
    "    More elaborate information should appear in external documentation packages with the function.\n",
    "    \n",
    "    PURPOSE: Given a list of values, compare each value against a threshold\n",
    "    \n",
    "    INPUTS\n",
    "    vals    list of ints or floats\n",
    "    thresh  int or float\n",
    "    \n",
    "    OUTPUT\n",
    "    bools  list of booleans\n",
    "    '''\n",
    "    \n",
    "    filtered_vals = [val >= thresh for val in vals]\n",
    "    \n",
    "    return filtered_vals"
   ]
  },
  {
   "cell_type": "markdown",
   "metadata": {
    "slideshow": {
     "slide_type": "slide"
    },
    "tags": []
   },
   "source": [
    "**Let's break down the components**\n",
    "\n",
    "The function definition starts with `def`, followed by name, one or more arguments in parenthesis, and then a colon.\n",
    "\n",
    "Next comes a **docstring** to provide information to users about how and why to use the function.\n",
    "\n",
    "The function **body** follows.\n",
    "\n",
    "Lastly is a `return` statement\n",
    "\n",
    "The **function call** allows for the function to be used. \\\n",
    "It consists of function name and required arguments:\n",
    "\n",
    "`vals_greater_than_or_equal_to_threshold(arg1, arg2)` where `arg1`, `arg2` are arbitrary names."
   ]
  },
  {
   "cell_type": "markdown",
   "metadata": {
    "slideshow": {
     "slide_type": "slide"
    },
    "tags": []
   },
   "source": [
    "## About the docstring\n",
    "\n",
    "A **docstring** occurs as first statement in module, function, class, or method definition.\n",
    "\n",
    "Internally, it is saved in `__doc__` attribute of the function object.\n",
    "\n",
    "It needs to be indented, i.e. part of the code block associated with the function. \n",
    "\n",
    "It can be a single line or a multi-line string."
   ]
  },
  {
   "cell_type": "markdown",
   "metadata": {
    "slideshow": {
     "slide_type": "slide"
    },
    "tags": []
   },
   "source": [
    "## Users can print the docstring"
   ]
  },
  {
   "cell_type": "code",
   "execution_count": 11,
   "metadata": {
    "tags": []
   },
   "outputs": [
    {
     "name": "stdout",
     "output_type": "stream",
     "text": [
      "\n",
      "    This is the \"docstring\" of a function. It is optional but expected. It describes it's \n",
      "    purpose and the nature of the input and return values, as well as a sense of what it does.\n",
      "    More elaborate information should appear in external documentation packages with the function.\n",
      "    \n",
      "    PURPOSE: Given a list of values, compare each value against a threshold\n",
      "    \n",
      "    INPUTS\n",
      "    vals    list of ints or floats\n",
      "    thresh  int or float\n",
      "    \n",
      "    OUTPUT\n",
      "    bools  list of booleans\n",
      "    \n"
     ]
    }
   ],
   "source": [
    "print(vals_greater_than_or_equal_to_threshold.__doc__)"
   ]
  },
  {
   "cell_type": "markdown",
   "metadata": {
    "slideshow": {
     "slide_type": "slide"
    },
    "tags": []
   },
   "source": [
    "Print the docstring using `help()`:"
   ]
  },
  {
   "cell_type": "code",
   "execution_count": 12,
   "metadata": {
    "tags": []
   },
   "outputs": [
    {
     "name": "stdout",
     "output_type": "stream",
     "text": [
      "Help on function vals_greater_than_or_equal_to_threshold in module __main__:\n",
      "\n",
      "vals_greater_than_or_equal_to_threshold(vals, thresh)\n",
      "    This is the \"docstring\" of a function. It is optional but expected. It describes it's \n",
      "    purpose and the nature of the input and return values, as well as a sense of what it does.\n",
      "    More elaborate information should appear in external documentation packages with the function.\n",
      "    \n",
      "    PURPOSE: Given a list of values, compare each value against a threshold\n",
      "    \n",
      "    INPUTS\n",
      "    vals    list of ints or floats\n",
      "    thresh  int or float\n",
      "    \n",
      "    OUTPUT\n",
      "    bools  list of booleans\n",
      "\n"
     ]
    }
   ],
   "source": [
    "help(vals_greater_than_or_equal_to_threshold)"
   ]
  },
  {
   "cell_type": "markdown",
   "metadata": {
    "slideshow": {
     "slide_type": "slide"
    },
    "tags": []
   },
   "source": [
    "Or, use the `?` prefix in a Jupyter notebook:"
   ]
  },
  {
   "cell_type": "code",
   "execution_count": 13,
   "metadata": {
    "tags": []
   },
   "outputs": [
    {
     "data": {
      "text/plain": [
       "\u001b[0;31mSignature:\u001b[0m \u001b[0mvals_greater_than_or_equal_to_threshold\u001b[0m\u001b[0;34m(\u001b[0m\u001b[0mvals\u001b[0m\u001b[0;34m,\u001b[0m \u001b[0mthresh\u001b[0m\u001b[0;34m)\u001b[0m\u001b[0;34m\u001b[0m\u001b[0;34m\u001b[0m\u001b[0m\n",
       "\u001b[0;31mDocstring:\u001b[0m\n",
       "This is the \"docstring\" of a function. It is optional but expected. It describes it's \n",
       "purpose and the nature of the input and return values, as well as a sense of what it does.\n",
       "More elaborate information should appear in external documentation packages with the function.\n",
       "\n",
       "PURPOSE: Given a list of values, compare each value against a threshold\n",
       "\n",
       "INPUTS\n",
       "vals    list of ints or floats\n",
       "thresh  int or float\n",
       "\n",
       "OUTPUT\n",
       "bools  list of booleans\n",
       "\u001b[0;31mFile:\u001b[0m      /tmp/ipykernel_133200/392258855.py\n",
       "\u001b[0;31mType:\u001b[0m      function"
      ]
     },
     "metadata": {},
     "output_type": "display_data"
    }
   ],
   "source": [
    "?vals_greater_than_or_equal_to_threshold"
   ]
  },
  {
   "cell_type": "markdown",
   "metadata": {},
   "source": [
    "Or suffix ..."
   ]
  },
  {
   "cell_type": "code",
   "execution_count": 14,
   "metadata": {
    "slideshow": {
     "slide_type": "slide"
    },
    "tags": []
   },
   "outputs": [
    {
     "data": {
      "text/plain": [
       "\u001b[0;31mSignature:\u001b[0m \u001b[0mvals_greater_than_or_equal_to_threshold\u001b[0m\u001b[0;34m(\u001b[0m\u001b[0mvals\u001b[0m\u001b[0;34m,\u001b[0m \u001b[0mthresh\u001b[0m\u001b[0;34m)\u001b[0m\u001b[0;34m\u001b[0m\u001b[0;34m\u001b[0m\u001b[0m\n",
       "\u001b[0;31mDocstring:\u001b[0m\n",
       "This is the \"docstring\" of a function. It is optional but expected. It describes it's \n",
       "purpose and the nature of the input and return values, as well as a sense of what it does.\n",
       "More elaborate information should appear in external documentation packages with the function.\n",
       "\n",
       "PURPOSE: Given a list of values, compare each value against a threshold\n",
       "\n",
       "INPUTS\n",
       "vals    list of ints or floats\n",
       "thresh  int or float\n",
       "\n",
       "OUTPUT\n",
       "bools  list of booleans\n",
       "\u001b[0;31mFile:\u001b[0m      /tmp/ipykernel_133200/392258855.py\n",
       "\u001b[0;31mType:\u001b[0m      function"
      ]
     },
     "metadata": {},
     "output_type": "display_data"
    }
   ],
   "source": [
    "vals_greater_than_or_equal_to_threshold?"
   ]
  },
  {
   "cell_type": "markdown",
   "metadata": {
    "slideshow": {
     "slide_type": "slide"
    },
    "tags": []
   },
   "source": [
    "## Calling Our Function\n",
    "\n",
    "Let's use, or \"call,\" our function.\n",
    "\n",
    "The function body uses a `list comprehension`to perform a filtering operation:\n",
    "\n",
    "`[val >= thresh for val in vals]` "
   ]
  },
  {
   "cell_type": "markdown",
   "metadata": {
    "tags": []
   },
   "source": [
    "Validate that it works for integers:"
   ]
  },
  {
   "cell_type": "code",
   "execution_count": 15,
   "metadata": {
    "tags": []
   },
   "outputs": [
    {
     "data": {
      "text/plain": [
       "[False, True]"
      ]
     },
     "execution_count": 15,
     "metadata": {},
     "output_type": "execute_result"
    }
   ],
   "source": [
    "x = [3, 4]\n",
    "thr = 4\n",
    "\n",
    "vals_greater_than_or_equal_to_threshold(x, thr)"
   ]
  },
  {
   "cell_type": "markdown",
   "metadata": {
    "slideshow": {
     "slide_type": "fragment"
    },
    "tags": []
   },
   "source": [
    "Validate that it works for floats:"
   ]
  },
  {
   "cell_type": "code",
   "execution_count": 7,
   "metadata": {
    "tags": []
   },
   "outputs": [
    {
     "data": {
      "text/plain": [
       "[False, True]"
      ]
     },
     "execution_count": 7,
     "metadata": {},
     "output_type": "execute_result"
    }
   ],
   "source": [
    "x = [3.0, 4.2]\n",
    "thr = 4.2\n",
    "\n",
    "vals_greater_than_or_equal_to_threshold(x, thr)"
   ]
  },
  {
   "cell_type": "markdown",
   "metadata": {},
   "source": [
    "This gives correct results and does exactly what we want.  "
   ]
  },
  {
   "cell_type": "markdown",
   "metadata": {
    "slideshow": {
     "slide_type": "slide"
    },
    "tags": []
   },
   "source": [
    "## Passing Parameters\n",
    "\n",
    "All functions may take $0$ or more **arguments**, also called **parameters**.\n",
    "\n",
    "Functions need to be called with correct number of parameters.\n",
    "\n",
    "This function requires two parameters, but the function call includes only one parameter."
   ]
  },
  {
   "cell_type": "code",
   "execution_count": 20,
   "metadata": {
    "tags": []
   },
   "outputs": [],
   "source": [
    "def func_with_args(x, y):\n",
    "    return x + y"
   ]
  },
  {
   "cell_type": "code",
   "execution_count": 21,
   "metadata": {
    "tags": []
   },
   "outputs": [
    {
     "ename": "TypeError",
     "evalue": "func_with_args() missing 1 required positional argument: 'y'",
     "output_type": "error",
     "traceback": [
      "\u001b[0;31m---------------------------------------------------------------------------\u001b[0m",
      "\u001b[0;31mTypeError\u001b[0m                                 Traceback (most recent call last)",
      "Cell \u001b[0;32mIn[21], line 1\u001b[0m\n\u001b[0;32m----> 1\u001b[0m \u001b[43mfunc_with_args\u001b[49m\u001b[43m(\u001b[49m\u001b[38;5;241;43m10\u001b[39;49m\u001b[43m)\u001b[49m\n",
      "\u001b[0;31mTypeError\u001b[0m: func_with_args() missing 1 required positional argument: 'y'"
     ]
    }
   ],
   "source": [
    "func_with_args(10)"
   ]
  },
  {
   "cell_type": "markdown",
   "metadata": {
    "slideshow": {
     "slide_type": "slide"
    },
    "tags": []
   },
   "source": [
    "## Parameter Order\n",
    "\n",
    "When calling a function, **parameter order matters**."
   ]
  },
  {
   "cell_type": "code",
   "execution_count": 23,
   "metadata": {
    "tags": []
   },
   "outputs": [],
   "source": [
    "def fcn_swapped_args(x, y):\n",
    "    out = 5 * x + y\n",
    "    return out"
   ]
  },
  {
   "cell_type": "code",
   "execution_count": 24,
   "metadata": {
    "tags": []
   },
   "outputs": [],
   "source": [
    "x = 1\n",
    "y = 2"
   ]
  },
  {
   "cell_type": "code",
   "execution_count": 25,
   "metadata": {
    "tags": []
   },
   "outputs": [
    {
     "data": {
      "text/plain": [
       "7"
      ]
     },
     "execution_count": 25,
     "metadata": {},
     "output_type": "execute_result"
    }
   ],
   "source": [
    "fcn_swapped_args(x, y)"
   ]
  },
  {
   "cell_type": "code",
   "execution_count": 26,
   "metadata": {
    "tags": []
   },
   "outputs": [
    {
     "data": {
      "text/plain": [
       "11"
      ]
     },
     "execution_count": 26,
     "metadata": {},
     "output_type": "execute_result"
    }
   ],
   "source": [
    "fcn_swapped_args(y, x)"
   ]
  },
  {
   "cell_type": "markdown",
   "metadata": {
    "slideshow": {
     "slide_type": "slide"
    },
    "tags": []
   },
   "source": [
    "## Named Parameters"
   ]
  },
  {
   "cell_type": "markdown",
   "metadata": {},
   "source": [
    "Generally it's best to keep parameters in order.  \n",
    "\n",
    "**However,** You can swap the order by putting the **parameter names** in the function call."
   ]
  },
  {
   "cell_type": "code",
   "execution_count": null,
   "metadata": {},
   "outputs": [],
   "source": [
    "fcn_swapped_args(y=y, x=x)"
   ]
  },
  {
   "cell_type": "markdown",
   "metadata": {
    "slideshow": {
     "slide_type": "slide"
    },
    "tags": []
   },
   "source": [
    "## Weirdness Alert\n",
    "\n",
    "Note that the same name can be used for the parameter names and the variables passed to them. \n",
    "\n",
    "The names themselves have nothng to do with each other! \n",
    "\n",
    "In other words, just because a function names an argument `foo`, \\\n",
    "the variables passed to it don't have to name `foo` or anything like it. \\\n",
    "They can even be named the same thing---it does not matter."
   ]
  },
  {
   "cell_type": "markdown",
   "metadata": {
    "slideshow": {
     "slide_type": "slide"
    },
    "tags": []
   },
   "source": [
    "## Default Arguments\n",
    "\n",
    "Use default arguments to set the value of arguments.\n",
    "\n",
    "This allows users to call functions with fewer (or no) arguments.\n",
    "\n",
    "Defaults are often set for the most common cases."
   ]
  },
  {
   "cell_type": "code",
   "execution_count": 27,
   "metadata": {
    "tags": []
   },
   "outputs": [],
   "source": [
    "def show_results(precision, printing=True):\n",
    "    precision = round(precision, 2)\n",
    "    if printing:\n",
    "      print('precision =', precision)\n",
    "    return precision"
   ]
  },
  {
   "cell_type": "code",
   "execution_count": 28,
   "metadata": {
    "tags": []
   },
   "outputs": [
    {
     "name": "stdout",
     "output_type": "stream",
     "text": [
      "precision = 0.91\n"
     ]
    }
   ],
   "source": [
    "pr = 0.912\n",
    "res = show_results(pr)"
   ]
  },
  {
   "cell_type": "markdown",
   "metadata": {},
   "source": [
    "The function call didn't specify `printing`, so it defaulted to True."
   ]
  },
  {
   "cell_type": "code",
   "execution_count": 29,
   "metadata": {
    "tags": []
   },
   "outputs": [],
   "source": [
    "foo = show_results(pr, False)"
   ]
  },
  {
   "cell_type": "markdown",
   "metadata": {
    "slideshow": {
     "slide_type": "slide"
    },
    "tags": []
   },
   "source": [
    "**NOTE:** Default arguments must follow non-default arguments in function definition. \n",
    "\n",
    "This causes trouble:"
   ]
  },
  {
   "cell_type": "code",
   "execution_count": 30,
   "metadata": {
    "tags": []
   },
   "outputs": [
    {
     "ename": "SyntaxError",
     "evalue": "non-default argument follows default argument (830346004.py, line 1)",
     "output_type": "error",
     "traceback": [
      "\u001b[0;36m  Cell \u001b[0;32mIn[30], line 1\u001b[0;36m\u001b[0m\n\u001b[0;31m    def show_results(precision, printing=True, uhoh):\u001b[0m\n\u001b[0m                                               ^\u001b[0m\n\u001b[0;31mSyntaxError\u001b[0m\u001b[0;31m:\u001b[0m non-default argument follows default argument\n"
     ]
    }
   ],
   "source": [
    "def show_results(precision, printing=True, uhoh):\n",
    "    precision = round(precision, 2)\n",
    "    if printing:\n",
    "      print('precision =', precision)\n",
    "    return precision"
   ]
  },
  {
   "cell_type": "markdown",
   "metadata": {
    "slideshow": {
     "slide_type": "slide"
    },
    "tags": []
   },
   "source": [
    "## Returning Values\n",
    "\n",
    "Functions are not required to have return statement but it is a good idea to have one.\n",
    "\n",
    "If there is no return statement, a function returns `None`.  \n",
    "\n",
    "Functions can return no value (`None`), one value, or many.  \n",
    "\n",
    "Many values are returned as a tuple.\n",
    "\n",
    "Any Python object can be returned.  "
   ]
  },
  {
   "cell_type": "markdown",
   "metadata": {
    "slideshow": {
     "slide_type": "slide"
    },
    "tags": []
   },
   "source": [
    "This returns `None`."
   ]
  },
  {
   "cell_type": "code",
   "execution_count": 32,
   "metadata": {
    "tags": []
   },
   "outputs": [],
   "source": [
    "def fcn_nothing_to_return(x, y):\n",
    "    out = 'nothing to see here!'\n",
    "    print(out)"
   ]
  },
  {
   "cell_type": "code",
   "execution_count": 33,
   "metadata": {
    "tags": []
   },
   "outputs": [
    {
     "name": "stdout",
     "output_type": "stream",
     "text": [
      "nothing to see here!\n"
     ]
    }
   ],
   "source": [
    "fcn_nothing_to_return(x, y)"
   ]
  },
  {
   "cell_type": "code",
   "execution_count": 36,
   "metadata": {
    "tags": []
   },
   "outputs": [
    {
     "name": "stdout",
     "output_type": "stream",
     "text": [
      "nothing to see here!\n"
     ]
    }
   ],
   "source": [
    "r = fcn_nothing_to_return(1, 1)"
   ]
  },
  {
   "cell_type": "code",
   "execution_count": 39,
   "metadata": {
    "tags": []
   },
   "outputs": [],
   "source": [
    "r"
   ]
  },
  {
   "cell_type": "code",
   "execution_count": 40,
   "metadata": {
    "tags": []
   },
   "outputs": [
    {
     "name": "stdout",
     "output_type": "stream",
     "text": [
      "None\n"
     ]
    }
   ],
   "source": [
    "print(r)"
   ]
  },
  {
   "cell_type": "markdown",
   "metadata": {
    "jp-MarkdownHeadingCollapsed": true,
    "slideshow": {
     "slide_type": "slide"
    },
    "tags": []
   },
   "source": [
    "This returns three values."
   ]
  },
  {
   "cell_type": "code",
   "execution_count": 42,
   "metadata": {
    "tags": []
   },
   "outputs": [],
   "source": [
    "def negate_coords(x, y, z):\n",
    "    return -x, -y, -z "
   ]
  },
  {
   "cell_type": "code",
   "execution_count": 47,
   "metadata": {
    "tags": []
   },
   "outputs": [],
   "source": [
    "a, b, c = negate_coords(10, 20, 30)"
   ]
  },
  {
   "cell_type": "code",
   "execution_count": 49,
   "metadata": {
    "tags": []
   },
   "outputs": [
    {
     "data": {
      "text/plain": [
       "(-10, -20, -30)"
      ]
     },
     "execution_count": 49,
     "metadata": {},
     "output_type": "execute_result"
    }
   ],
   "source": [
    "a, b, c"
   ]
  },
  {
   "cell_type": "code",
   "execution_count": 44,
   "metadata": {
    "tags": []
   },
   "outputs": [],
   "source": [
    "foo = negate_coords(10, 20, 30)"
   ]
  },
  {
   "cell_type": "code",
   "execution_count": 46,
   "metadata": {
    "tags": []
   },
   "outputs": [
    {
     "data": {
      "text/plain": [
       "(-10, -20, -30)"
      ]
     },
     "execution_count": 46,
     "metadata": {},
     "output_type": "execute_result"
    }
   ],
   "source": [
    "foo"
   ]
  },
  {
   "cell_type": "markdown",
   "metadata": {
    "slideshow": {
     "slide_type": "slide"
    },
    "tags": []
   },
   "source": [
    "If you don't need an output, use the dummy variable `_`."
   ]
  },
  {
   "cell_type": "code",
   "execution_count": 52,
   "metadata": {
    "tags": []
   },
   "outputs": [],
   "source": [
    "d, e, _ = negate_coords(10,20,30)"
   ]
  },
  {
   "cell_type": "code",
   "execution_count": 53,
   "metadata": {
    "tags": []
   },
   "outputs": [
    {
     "data": {
      "text/plain": [
       "(-10, -20)"
      ]
     },
     "execution_count": 53,
     "metadata": {},
     "output_type": "execute_result"
    }
   ],
   "source": [
    "d, e"
   ]
  },
  {
   "cell_type": "markdown",
   "metadata": {
    "slideshow": {
     "slide_type": "slide"
    },
    "tags": []
   },
   "source": [
    "**Note:** It's generally a good idea to include return statements, even if not returning a value.  \n",
    "\n",
    "This shows that you did not forget to consider the return value.\n",
    "\n",
    "You can use `return` or `return None`."
   ]
  },
  {
   "cell_type": "markdown",
   "metadata": {
    "slideshow": {
     "slide_type": "slide"
    },
    "tags": []
   },
   "source": [
    "**Functions can contain multiple return statements**.\n",
    "\n",
    "These may be used under different logical conditions."
   ]
  },
  {
   "cell_type": "code",
   "execution_count": 54,
   "metadata": {
    "tags": []
   },
   "outputs": [],
   "source": [
    "def absolute_value(num):\n",
    "    if num >= 0:\n",
    "        return num\n",
    "    return -num"
   ]
  },
  {
   "cell_type": "code",
   "execution_count": 57,
   "metadata": {
    "tags": []
   },
   "outputs": [
    {
     "data": {
      "text/plain": [
       "(4, 4)"
      ]
     },
     "execution_count": 57,
     "metadata": {},
     "output_type": "execute_result"
    }
   ],
   "source": [
    "absolute_value(-4), absolute_value(4)"
   ]
  },
  {
   "cell_type": "markdown",
   "metadata": {
    "slideshow": {
     "slide_type": "slide"
    },
    "tags": []
   },
   "source": [
    "## Unpacking List-likes with `*args`\n",
    "\n",
    "The `*` prefix operator can be passed to avoid specifying the arguments individually."
   ]
  },
  {
   "cell_type": "code",
   "execution_count": 91,
   "metadata": {
    "tags": []
   },
   "outputs": [],
   "source": [
    "def show_arg_expansion1(models):\n",
    "    print(models)"
   ]
  },
  {
   "cell_type": "markdown",
   "metadata": {},
   "source": [
    "We can pass a tuple of values to the function ..."
   ]
  },
  {
   "cell_type": "code",
   "execution_count": 92,
   "metadata": {
    "tags": []
   },
   "outputs": [
    {
     "ename": "TypeError",
     "evalue": "show_arg_expansion1() takes 1 positional argument but 3 were given",
     "output_type": "error",
     "traceback": [
      "\u001b[0;31m---------------------------------------------------------------------------\u001b[0m",
      "\u001b[0;31mTypeError\u001b[0m                                 Traceback (most recent call last)",
      "Cell \u001b[0;32mIn[92], line 1\u001b[0m\n\u001b[0;32m----> 1\u001b[0m \u001b[43mshow_arg_expansion1\u001b[49m\u001b[43m(\u001b[49m\u001b[38;5;124;43m\"\u001b[39;49m\u001b[38;5;124;43mlogreg\u001b[39;49m\u001b[38;5;124;43m\"\u001b[39;49m\u001b[43m,\u001b[49m\u001b[43m \u001b[49m\u001b[38;5;124;43m\"\u001b[39;49m\u001b[38;5;124;43mnaive_bayes\u001b[39;49m\u001b[38;5;124;43m\"\u001b[39;49m\u001b[43m,\u001b[49m\u001b[43m \u001b[49m\u001b[38;5;124;43m\"\u001b[39;49m\u001b[38;5;124;43mgbm\u001b[39;49m\u001b[38;5;124;43m\"\u001b[39;49m\u001b[43m)\u001b[49m\n",
      "\u001b[0;31mTypeError\u001b[0m: show_arg_expansion1() takes 1 positional argument but 3 were given"
     ]
    }
   ],
   "source": [
    "show_arg_expansion1(\"logreg\", \"naive_bayes\", \"gbm\")"
   ]
  },
  {
   "cell_type": "code",
   "execution_count": 93,
   "metadata": {
    "tags": []
   },
   "outputs": [],
   "source": [
    "def show_arg_expansion2(*models):\n",
    "    print(models)"
   ]
  },
  {
   "cell_type": "code",
   "execution_count": 94,
   "metadata": {
    "tags": []
   },
   "outputs": [
    {
     "name": "stdout",
     "output_type": "stream",
     "text": [
      "('logreg', 'naive_bayes', 'gbm')\n"
     ]
    }
   ],
   "source": [
    "show_arg_expansion2(\"logreg\", \"naive_bayes\", \"gbm\")"
   ]
  },
  {
   "cell_type": "markdown",
   "metadata": {
    "tags": []
   },
   "source": [
    "This also allows for an unspecified number of arguments, such as how `print()` works."
   ]
  },
  {
   "cell_type": "markdown",
   "metadata": {
    "slideshow": {
     "slide_type": "slide"
    },
    "tags": []
   },
   "source": [
    "You can also pass a list to the function. \n",
    "\n",
    "If you want the elements unpacked, put `*` before the list."
   ]
  },
  {
   "cell_type": "code",
   "execution_count": 97,
   "metadata": {
    "tags": []
   },
   "outputs": [
    {
     "name": "stdout",
     "output_type": "stream",
     "text": [
      "('logreg', 'naive_bayes', 'gbm')\n"
     ]
    }
   ],
   "source": [
    "models = [\"logreg\", \"naive_bayes\", \"gbm\"]\n",
    "show_arg_expansion2(*models)"
   ]
  },
  {
   "cell_type": "markdown",
   "metadata": {},
   "source": [
    "This approach allows your function to accept an arbitrary number of arguments."
   ]
  },
  {
   "cell_type": "markdown",
   "metadata": {
    "slideshow": {
     "slide_type": "slide"
    },
    "tags": []
   },
   "source": [
    "Note you can prefix a string with an asterisk `*`:"
   ]
  },
  {
   "cell_type": "code",
   "execution_count": 98,
   "metadata": {
    "tags": []
   },
   "outputs": [
    {
     "name": "stdout",
     "output_type": "stream",
     "text": [
      "('a', 'b', 'c', 'd', 'e', 'f', 'g')\n"
     ]
    }
   ],
   "source": [
    "show_arg_expansion2(*'abcdefg')"
   ]
  },
  {
   "cell_type": "markdown",
   "metadata": {},
   "source": [
    "Or a string operation that returns a list:"
   ]
  },
  {
   "cell_type": "code",
   "execution_count": 99,
   "metadata": {
    "tags": []
   },
   "outputs": [
    {
     "name": "stdout",
     "output_type": "stream",
     "text": [
      "('a', 'b', 'c', 'd', 'e', 'f', 'g')\n"
     ]
    }
   ],
   "source": [
    "show_arg_expansion2(*'a b c d e f g'.split())"
   ]
  },
  {
   "cell_type": "markdown",
   "metadata": {
    "slideshow": {
     "slide_type": "slide"
    },
    "tags": []
   },
   "source": [
    "You can use the `*` prefix to pass list-like objects to a function with a defined number of arguments."
   ]
  },
  {
   "cell_type": "code",
   "execution_count": 73,
   "metadata": {
    "tags": []
   },
   "outputs": [],
   "source": [
    "def arg_expansion_example(x, y):\n",
    "    return x**y"
   ]
  },
  {
   "cell_type": "code",
   "execution_count": 74,
   "metadata": {
    "tags": []
   },
   "outputs": [
    {
     "data": {
      "text/plain": [
       "256"
      ]
     },
     "execution_count": 74,
     "metadata": {},
     "output_type": "execute_result"
    }
   ],
   "source": [
    "my_args = [2, 8]\n",
    "arg_expansion_example(*my_args)"
   ]
  },
  {
   "cell_type": "markdown",
   "metadata": {},
   "source": [
    "But, the passed object must be the right length."
   ]
  },
  {
   "cell_type": "code",
   "execution_count": 75,
   "metadata": {
    "tags": []
   },
   "outputs": [
    {
     "ename": "TypeError",
     "evalue": "arg_expansion_example() takes 2 positional arguments but 3 were given",
     "output_type": "error",
     "traceback": [
      "\u001b[0;31m---------------------------------------------------------------------------\u001b[0m",
      "\u001b[0;31mTypeError\u001b[0m                                 Traceback (most recent call last)",
      "Cell \u001b[0;32mIn[75], line 2\u001b[0m\n\u001b[1;32m      1\u001b[0m my_args2 \u001b[38;5;241m=\u001b[39m [\u001b[38;5;241m2\u001b[39m, \u001b[38;5;241m8\u001b[39m, \u001b[38;5;241m5\u001b[39m]\n\u001b[0;32m----> 2\u001b[0m \u001b[43marg_expansion_example\u001b[49m\u001b[43m(\u001b[49m\u001b[38;5;241;43m*\u001b[39;49m\u001b[43mmy_args2\u001b[49m\u001b[43m)\u001b[49m\n",
      "\u001b[0;31mTypeError\u001b[0m: arg_expansion_example() takes 2 positional arguments but 3 were given"
     ]
    }
   ],
   "source": [
    "my_args2 = [2, 8, 5]\n",
    "arg_expansion_example(*my_args2)"
   ]
  },
  {
   "cell_type": "markdown",
   "metadata": {
    "slideshow": {
     "slide_type": "slide"
    },
    "tags": []
   },
   "source": [
    "## Function Design\n",
    "\n",
    "A function is **not just a bag of code**!\n",
    "\n",
    "Design a function to **do one thing**.\n",
    "\n",
    "Make them as **simple** as possible. This makes them: \n",
    "\n",
    "- more comprehensible\n",
    "- easier to maintain\n",
    "- reusable\n",
    "\n",
    "This helps avoid situations where a team has 20 variations of similar functions."
   ]
  },
  {
   "cell_type": "markdown",
   "metadata": {
    "slideshow": {
     "slide_type": "slide"
    },
    "tags": []
   },
   "source": [
    "Give your function a good name. \n",
    "\n",
    "- It should reflect the action it performs. \n",
    "- Be consistent in your naming conventions.\n",
    "- A name like `compute_variances_sort_save_print` suggests the function is overworked!\n",
    "\n",
    "If the function `compute_variances` also produces plots and updates variables, it will cause confusion.  "
   ]
  },
  {
   "cell_type": "markdown",
   "metadata": {
    "slideshow": {
     "slide_type": "slide"
    },
    "tags": []
   },
   "source": [
    "Always give your function a docstring\n",
    "\n",
    "- Particularly important since indicating data types is not required.  \n",
    "- As a side note, you can include this information by using **type annotation**.\n",
    "\n",
    "You may be interested to learn some of the formatting languages that have been developed to write docstrings. See [Lutz 2019](https://learning.oreilly.com/library/view/learning-python-5th/9781449355722/ch15.html) and this web page about [Documenting Python Code](https://realpython.com/documenting-python-code/) for more info."
   ]
  }
 ],
 "metadata": {
  "kernelspec": {
   "display_name": "Python 3 (ipykernel)",
   "language": "python",
   "name": "python3"
  },
  "language_info": {
   "codemirror_mode": {
    "name": "ipython",
    "version": 3
   },
   "file_extension": ".py",
   "mimetype": "text/x-python",
   "name": "python",
   "nbconvert_exporter": "python",
   "pygments_lexer": "ipython3",
   "version": "3.11.4"
  }
 },
 "nbformat": 4,
 "nbformat_minor": 4
}
