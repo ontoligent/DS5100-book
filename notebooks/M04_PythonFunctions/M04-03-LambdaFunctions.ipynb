{
 "cells": [
  {
   "cell_type": "markdown",
   "metadata": {
    "slideshow": {
     "slide_type": "slide"
    },
    "tags": []
   },
   "source": [
    "# NB: Lambda Functions\n",
    "\n",
    "Programming for Data Science"
   ]
  },
  {
   "cell_type": "markdown",
   "metadata": {
    "slideshow": {
     "slide_type": "slide"
    },
    "tags": []
   },
   "source": [
    "## What's a Lambda Function?\n",
    "\n",
    "Python lambda functions are small functions that can be written on **one line**.\n",
    "\n",
    "Like the one line if/else statement and comprehensions, they represent Python's **lean** code writing tradition. \n",
    "\n",
    "Lambda functions **don't need to be assigned** to a variable &mdash; you can put them directly in places that expect functions the return, or expressions that evaluate to,\n",
    "values.\n",
    "# what is sentence after the semi-color trying to convey?\n",
    "They sometimes called \"anonymous\" functions because they don't have to have a name."
   ]
  },
  {
   "cell_type": "markdown",
   "metadata": {
    "slideshow": {
     "slide_type": "slide"
    },
    "tags": []
   },
   "source": [
    "## How Do You Define a Lambda Function?\n",
    "\n",
    "The general form of a lambda function is as follows:\n",
    "\n",
    "```python\n",
    "lambda x: x + 1\n",
    "```\n",
    "\n",
    "the first `x` is the argument, and the `x` after the colon is the body of the function. \n",
    "\n",
    "Here we just add one to the argument.\n",
    "\n",
    "There is no return statement; the function just returns what body of the function evaluates to."
   ]
  },
  {
   "cell_type": "markdown",
   "metadata": {
    "slideshow": {
     "slide_type": "slide"
    },
    "tags": []
   },
   "source": [
    "You can call the function like this:"
   ]
  },
  {
   "cell_type": "code",
   "execution_count": 56,
   "metadata": {
    "tags": []
   },
   "outputs": [
    {
     "data": {
      "text/plain": [
       "3"
      ]
     },
     "execution_count": 56,
     "metadata": {},
     "output_type": "execute_result"
    }
   ],
   "source": [
    "(lambda x: x + 1)(2)"
   ]
  },
  {
   "cell_type": "markdown",
   "metadata": {},
   "source": [
    "Note how we treat it as an expression by wrapping it in parentheses.\n",
    "\n",
    "Since it evaluates to a function, we can use function parentheses at the end."
   ]
  },
  {
   "cell_type": "markdown",
   "metadata": {
    "slideshow": {
     "slide_type": "slide"
    },
    "tags": []
   },
   "source": [
    "## Assigning to a Variable\n",
    "\n",
    "You _can_ assign a lambda function to a variable.\n",
    "\n",
    "For example, here are three lambda functions assigned to variables."
   ]
  },
  {
   "cell_type": "code",
   "execution_count": 63,
   "metadata": {
    "tags": []
   },
   "outputs": [],
   "source": [
    "sum_two_vars = lambda x, y: x + y\n",
    "is_non_negative = lambda x: x >= 0\n",
    "is_dirty = lambda txt: 'dirty' in txt"
   ]
  },
  {
   "cell_type": "code",
   "execution_count": 64,
   "metadata": {
    "tags": []
   },
   "outputs": [
    {
     "data": {
      "text/plain": [
       "6"
      ]
     },
     "execution_count": 64,
     "metadata": {},
     "output_type": "execute_result"
    }
   ],
   "source": [
    "sum_two_vars(2, 4)"
   ]
  },
  {
   "cell_type": "code",
   "execution_count": 65,
   "metadata": {
    "tags": []
   },
   "outputs": [
    {
     "data": {
      "text/plain": [
       "False"
      ]
     },
     "execution_count": 65,
     "metadata": {},
     "output_type": "execute_result"
    }
   ],
   "source": [
    "is_non_negative(-9)"
   ]
  },
  {
   "cell_type": "code",
   "execution_count": 66,
   "metadata": {
    "tags": []
   },
   "outputs": [
    {
     "data": {
      "text/plain": [
       "True"
      ]
     },
     "execution_count": 66,
     "metadata": {},
     "output_type": "execute_result"
    }
   ],
   "source": [
    "is_dirty('dirty dishes')"
   ]
  },
  {
   "cell_type": "markdown",
   "metadata": {
    "slideshow": {
     "slide_type": "slide"
    },
    "tags": []
   },
   "source": [
    "Lambda functions let us do things like this:"
   ]
  },
  {
   "cell_type": "code",
   "execution_count": 67,
   "metadata": {
    "tags": []
   },
   "outputs": [
    {
     "name": "stdout",
     "output_type": "stream",
     "text": [
      "5 addone -> 6\n",
      "5 square -> 25\n",
      "5 invert -> 0.2\n"
     ]
    }
   ],
   "source": [
    "foo = {\n",
    "    'addone': lambda x: x + 1,\n",
    "    'square': lambda x: x * x,\n",
    "    'invert': lambda x: 1 / x\n",
    "}\n",
    "\n",
    "bar = 5 \n",
    "\n",
    "for f in foo:\n",
    "    print(bar, f, '->', foo[f](bar))"
   ]
  },
  {
   "cell_type": "markdown",
   "metadata": {
    "slideshow": {
     "slide_type": "slide"
    },
    "tags": []
   },
   "source": [
    "Note, you can also assign function names to variables, but of course you need to define them first."
   ]
  },
  {
   "cell_type": "code",
   "execution_count": 68,
   "metadata": {
    "tags": []
   },
   "outputs": [
    {
     "name": "stdout",
     "output_type": "stream",
     "text": [
      "2\n",
      "1\n",
      "1.0\n"
     ]
    }
   ],
   "source": [
    "def addone(x):\n",
    "    return x + 1\n",
    "def square(x):\n",
    "    return x * x\n",
    "def invert(x):\n",
    "    return 1/x\n",
    "\n",
    "foo2 = [add_one, square, invert]\n",
    "\n",
    "for f in foo2:\n",
    "    print(f(1))"
   ]
  },
  {
   "cell_type": "markdown",
   "metadata": {
    "slideshow": {
     "slide_type": "slide"
    },
    "tags": []
   },
   "source": [
    "## Use Cases for Lambda\n",
    "\n",
    "Lambda functions are often used when you need to use a function only once.\n",
    "\n",
    "Some prefer them for their ability to be part of one-liners.\n",
    "\n",
    "Lambda functions are often used in Pandas. \n",
    "\n",
    "We will discuss their use in more detail when we get to that topic."
   ]
  },
  {
   "cell_type": "code",
   "execution_count": null,
   "metadata": {},
   "outputs": [],
   "source": []
  }
 ],
 "metadata": {
  "anaconda-cloud": {},
  "kernelspec": {
   "display_name": "Python 3 (ipykernel)",
   "language": "python",
   "name": "python3"
  },
  "language_info": {
   "codemirror_mode": {
    "name": "ipython",
    "version": 3
   },
   "file_extension": ".py",
   "mimetype": "text/x-python",
   "name": "python",
   "nbconvert_exporter": "python",
   "pygments_lexer": "ipython3",
   "version": "3.11.4"
  },
  "widgets": {
   "application/vnd.jupyter.widget-state+json": {
    "state": {},
    "version_major": 2,
    "version_minor": 0
   }
  }
 },
 "nbformat": 4,
 "nbformat_minor": 4
}
