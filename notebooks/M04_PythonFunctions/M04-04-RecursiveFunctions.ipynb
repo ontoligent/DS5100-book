{
 "cells": [
  {
   "cell_type": "markdown",
   "metadata": {},
   "source": [
    "# NB: Recursion\n",
    "\n",
    "Programming for Data Science"
   ]
  },
  {
   "cell_type": "markdown",
   "metadata": {
    "slideshow": {
     "slide_type": "slide"
    },
    "tags": []
   },
   "source": [
    "## What is Recursion?\n",
    "\n",
    "Recursion in the context of programming occurs when a function **calls to itself**.\n",
    "\n",
    "This seems strange, since you'd think that to be called, a function must first be defined ... And yet the definition contains the function!\n",
    "\n",
    "This is a bit like having a dictionary definition use the word it's trying to define."
   ]
  },
  {
   "cell_type": "markdown",
   "metadata": {
    "jp-MarkdownHeadingCollapsed": true,
    "slideshow": {
     "slide_type": "slide"
    },
    "tags": []
   },
   "source": [
    "However, **a function definition is not like a dictionary definition**.\n",
    "\n",
    "It does not define a **thing**. It defines a set of **instructions**.\n",
    "\n",
    "So, in effect, when a function calls itself, the instruction is: \n",
    "\n",
    "- \"Go back to the beginning of the code block with a new set of argument values.\"\n",
    "\n",
    "Each time the function goes back to the beginning, Python keeps track of the nested function calls in a **call stack**.\n",
    "\n",
    "This will become clearer with examples."
   ]
  },
  {
   "cell_type": "markdown",
   "metadata": {
    "slideshow": {
     "slide_type": "slide"
    },
    "tags": []
   },
   "source": [
    "## A Formal Definition\n",
    "\n",
    "In mathematics and computer science, a class of objects or methods exhibits *recursive behavior* when it can be defined by two properties:\n",
    "\n",
    "- A **simple base** case or condition: a terminating scenario that does not use recursion to produce an answer. \n",
    "\n",
    "- A **recursive step**: a set of rules that reduces all successive cases toward the base case.\n",
    "\n",
    "Every recursive function must have a base condition that stops the recursion or else the function calls itself **infinitely**."
   ]
  },
  {
   "cell_type": "markdown",
   "metadata": {
    "slideshow": {
     "slide_type": "slide"
    },
    "tags": []
   },
   "source": [
    "## A Note of Caution\n",
    "\n",
    "In practice, the Python interpreter **limits the depths of recursion** to help **avoid infinite recursions**, resulting in stack overflows.\n",
    "\n",
    "When excessive memory consumption occurs on the call stack, it results in a **stack overflow error**.\n",
    "\n",
    "Recursion is cool, but is expensive and complicated.\n",
    "\n",
    "Recursive functions can usually be implemented by traditional loops."
   ]
  },
  {
   "cell_type": "markdown",
   "metadata": {
    "slideshow": {
     "slide_type": "slide"
    },
    "tags": []
   },
   "source": [
    "## Example: Computing Factorials\n",
    "\n",
    "The factorial of a number $n$ is the product of all the integers from $1$ to $n$. \n",
    "\n",
    "For example, the factorial of $5$ (denoted as $5!$) is $1\\times2\\times3\\times4\\times5 = 120$.\n",
    "\n",
    "Let's implement this in code using a recursive function."
   ]
  },
  {
   "cell_type": "code",
   "execution_count": 14,
   "metadata": {},
   "outputs": [],
   "source": [
    "def factorial(x):\n",
    "    \"Finds the factorial of an integer using recursion\"\n",
    "    \n",
    "    # Base condition\n",
    "    if x == 1: \n",
    "        return 1\n",
    "\n",
    "    # Recursive step\n",
    "    else:\n",
    "        return x * factorial(x - 1) # Self-reference"
   ]
  },
  {
   "cell_type": "markdown",
   "metadata": {},
   "source": [
    "Note how `x` gets smaller in the recursive step until it meets the base condition."
   ]
  },
  {
   "cell_type": "code",
   "execution_count": 360,
   "metadata": {},
   "outputs": [
    {
     "data": {
      "text/plain": [
       "120"
      ]
     },
     "execution_count": 360,
     "metadata": {},
     "output_type": "execute_result"
    }
   ],
   "source": [
    "n = 5\n",
    "factorial(n)"
   ]
  },
  {
   "cell_type": "markdown",
   "metadata": {
    "slideshow": {
     "slide_type": "slide"
    },
    "tags": []
   },
   "source": [
    "The same thing can be done as a while loop:"
   ]
  },
  {
   "cell_type": "code",
   "execution_count": 222,
   "metadata": {},
   "outputs": [],
   "source": [
    "def factorial_while(x):\n",
    "    \"Finds the factorial of an integer using a while loop\"\n",
    "    result = x\n",
    "    while x > 1:\n",
    "        x -= 1\n",
    "        result *= x\n",
    "    return result"
   ]
  },
  {
   "cell_type": "code",
   "execution_count": 223,
   "metadata": {},
   "outputs": [
    {
     "data": {
      "text/plain": [
       "120"
      ]
     },
     "execution_count": 223,
     "metadata": {},
     "output_type": "execute_result"
    }
   ],
   "source": [
    "factorial_while(n)"
   ]
  },
  {
   "cell_type": "markdown",
   "metadata": {
    "tags": []
   },
   "source": [
    "And as a for loop:"
   ]
  },
  {
   "cell_type": "code",
   "execution_count": 364,
   "metadata": {},
   "outputs": [],
   "source": [
    "def factorial_for(x):\n",
    "    \"Finds the factorial of an integer using a for loop\"\n",
    "    result = 1\n",
    "    for i in range(1, x+1):\n",
    "        result *= i\n",
    "    return result"
   ]
  },
  {
   "cell_type": "code",
   "execution_count": 365,
   "metadata": {},
   "outputs": [
    {
     "data": {
      "text/plain": [
       "120"
      ]
     },
     "execution_count": 365,
     "metadata": {},
     "output_type": "execute_result"
    }
   ],
   "source": [
    "factorial_for(n)"
   ]
  },
  {
   "cell_type": "markdown",
   "metadata": {
    "slideshow": {
     "slide_type": "slide"
    },
    "tags": []
   },
   "source": [
    "## Example: The Fibonacci sequence\n",
    "\n",
    "The Fibonacci sequence is defined by a series of numbers that equal the sum of the two previous numbers.\n",
    "\n",
    "Mathematically, we define it as follows:\n",
    "\n",
    "$Fib(1) = 0$ (base case 1)\\\n",
    "$Fib(2) = 1$ (base case 2)\n",
    "\n",
    "For all integers $n > 2$, $Fib(n) = Fib(n − 1) + Fib(n − 2)$\n",
    "\n",
    "<!-- or $F_n = F_{n-1} + F_{n-2}$ where $F_1 = 0$ and $F_2$ = 1.\n",
    "\n",
    "where $n$ is the index of the number in the series. -->\n",
    "\n",
    "For $n = 8$ the sequence is $0, 1, 1, 2, 3, 5, 8, 13$.\n",
    "\n",
    "<!--\n",
    "| $n$ |1|2|3|4|5|6|7|8|\n",
    "|-|-|-|-|-|-|-|-|-|\n",
    "| $F_n$ |0|1|1|2|3|5|8|13|\n",
    "-->"
   ]
  },
  {
   "cell_type": "code",
   "execution_count": 313,
   "metadata": {
    "slideshow": {
     "slide_type": "slide"
    },
    "tags": []
   },
   "outputs": [],
   "source": [
    "def fibonacci(n):\n",
    "    \"Compute a Fibonacci value using recursion\"\n",
    "    if n <= 0:\n",
    "        print(\"Incorrect input. Value must be 1 or greater.\")\n",
    "    elif n == 1:\n",
    "        return 0\n",
    "    elif n == 2:\n",
    "        return 1\n",
    "    else:\n",
    "        return fibonacci(n - 1) + fibonacci(n - 2)"
   ]
  },
  {
   "cell_type": "markdown",
   "metadata": {},
   "source": [
    "Here get the F number for a given positive integer:"
   ]
  },
  {
   "cell_type": "code",
   "execution_count": 327,
   "metadata": {
    "tags": []
   },
   "outputs": [
    {
     "data": {
      "text/plain": [
       "13"
      ]
     },
     "execution_count": 327,
     "metadata": {},
     "output_type": "execute_result"
    }
   ],
   "source": [
    "n = 8\n",
    "fibonacci(n)"
   ]
  },
  {
   "cell_type": "markdown",
   "metadata": {},
   "source": [
    "Here we compute the sequence itself:"
   ]
  },
  {
   "cell_type": "code",
   "execution_count": 328,
   "metadata": {
    "tags": []
   },
   "outputs": [
    {
     "name": "stdout",
     "output_type": "stream",
     "text": [
      "0 1 1 2 3 5 8 13\n"
     ]
    }
   ],
   "source": [
    "print(*[fibonacci(i) for i in range(1, n + 1)])"
   ]
  },
  {
   "cell_type": "markdown",
   "metadata": {
    "slideshow": {
     "slide_type": "slide"
    },
    "tags": []
   },
   "source": [
    "As a for loop:"
   ]
  },
  {
   "cell_type": "code",
   "execution_count": 311,
   "metadata": {},
   "outputs": [],
   "source": [
    "def fibber(n):\n",
    "    \"\"\"\n",
    "    Computes a Fibonacci Sequence using a for loop. \n",
    "    Returns a string of the series.\n",
    "    \"\"\"\n",
    "    F = [0,1] \n",
    "    for i in range(2, n):\n",
    "        F.append(F[i-1] + F[i-2])\n",
    "    print(*F)"
   ]
  },
  {
   "cell_type": "code",
   "execution_count": 312,
   "metadata": {},
   "outputs": [
    {
     "name": "stdout",
     "output_type": "stream",
     "text": [
      "0 1 1 2 3 5 8 13\n"
     ]
    }
   ],
   "source": [
    "fibber(n)"
   ]
  },
  {
   "cell_type": "markdown",
   "metadata": {},
   "source": [
    "Note that here, we are letting the data structure do the work."
   ]
  },
  {
   "cell_type": "markdown",
   "metadata": {
    "slideshow": {
     "slide_type": "slide"
    },
    "tags": []
   },
   "source": [
    "## Aside: A General Sequence Function\n",
    "\n",
    "Recursive functions are often used to produce mathematical sequences, but since they have limits on depth, they are of limited use for this purpose.\n",
    "\n",
    "Here is a function that can combine many sequences using two sequence parameters:\n",
    "* The initial state of the sequence, represented as the list `seq`.\n",
    "  * For example, in the Fibonacci sequence, seq is `[0, 1]`\n",
    "* The function to apply to the sequence at each iteration, represneted as a `lambda` function with the arguments `x` and `i` for the the sequence list `seq` and the iteration number respectively.\n",
    "  * For example, in the Fibonacci sequence the kernel function is `lambda x, i: x[i-1] + x[i-2]`"
   ]
  },
  {
   "cell_type": "code",
   "execution_count": 333,
   "metadata": {
    "slideshow": {
     "slide_type": "subslide"
    },
    "tags": []
   },
   "outputs": [],
   "source": [
    "def sequencer(n = 10, seq=[1, 1, 2], kernel=lambda x, i: x[i-1] + x[i-2]):\n",
    "    \"\"\"\n",
    "    Computes a Sequence using a for loop. \n",
    "    \n",
    "    n: an integer which must be > 3. Defaults to 10.\n",
    "    seq: is a list in the initial state of the sequence. \n",
    "        Must have at least one value. Defaults to Fibonacci [1,1,2]\n",
    "    kernel: the function applied to the series at each iteration. \n",
    "        x stands for the seq list, \n",
    "        i to the iteration number. \n",
    "        Defaults to lambda x, i: x[i-1] + x[i-2]\n",
    "    \n",
    "    Prints the series as an undelimited string.\n",
    "    \"\"\"\n",
    "    \n",
    "    for i in range(len(seq), n): \n",
    "        seq.append(kernel(seq, i))\n",
    "        \n",
    "    print(*seq)"
   ]
  },
  {
   "cell_type": "markdown",
   "metadata": {
    "slideshow": {
     "slide_type": "subslide"
    },
    "tags": []
   },
   "source": [
    "**The series of positive integers**"
   ]
  },
  {
   "cell_type": "code",
   "execution_count": 344,
   "metadata": {},
   "outputs": [],
   "source": [
    "n = 8"
   ]
  },
  {
   "cell_type": "code",
   "execution_count": 345,
   "metadata": {},
   "outputs": [
    {
     "name": "stdout",
     "output_type": "stream",
     "text": [
      "1 2 3 4 5 6 7 8\n"
     ]
    }
   ],
   "source": [
    "sequencer(n, [1], lambda x, i: x[i-1] + 1)"
   ]
  },
  {
   "cell_type": "markdown",
   "metadata": {
    "slideshow": {
     "slide_type": "subslide"
    },
    "tags": []
   },
   "source": [
    "**The series of even numbers**"
   ]
  },
  {
   "cell_type": "code",
   "execution_count": 346,
   "metadata": {},
   "outputs": [
    {
     "name": "stdout",
     "output_type": "stream",
     "text": [
      "2 4 6 8 10 12 14 16\n"
     ]
    }
   ],
   "source": [
    "sequencer(n, [2], lambda x, i: x[i-1] + 2)"
   ]
  },
  {
   "cell_type": "markdown",
   "metadata": {
    "slideshow": {
     "slide_type": "subslide"
    },
    "tags": []
   },
   "source": [
    "**The series of odd numbers**"
   ]
  },
  {
   "cell_type": "code",
   "execution_count": 347,
   "metadata": {},
   "outputs": [
    {
     "name": "stdout",
     "output_type": "stream",
     "text": [
      "1 3 5 7 9 11 13 15\n"
     ]
    }
   ],
   "source": [
    "sequencer(n, [1], lambda x, i: x[i-1] + 2)"
   ]
  },
  {
   "cell_type": "markdown",
   "metadata": {
    "slideshow": {
     "slide_type": "subslide"
    },
    "tags": []
   },
   "source": [
    "**The series of Fibonacci numbers**"
   ]
  },
  {
   "cell_type": "code",
   "execution_count": 348,
   "metadata": {},
   "outputs": [
    {
     "name": "stdout",
     "output_type": "stream",
     "text": [
      "0 1 1 2 3 5 8 13\n"
     ]
    }
   ],
   "source": [
    "sequencer(n, [0,1], lambda x, i: x[i-1] + x[i-2])"
   ]
  },
  {
   "cell_type": "markdown",
   "metadata": {
    "slideshow": {
     "slide_type": "subslide"
    },
    "tags": []
   },
   "source": [
    "**The series of Squares**"
   ]
  },
  {
   "cell_type": "code",
   "execution_count": 349,
   "metadata": {
    "tags": []
   },
   "outputs": [
    {
     "name": "stdout",
     "output_type": "stream",
     "text": [
      "2 4 16 256 65536 4294967296 18446744073709551616 340282366920938463463374607431768211456\n"
     ]
    }
   ],
   "source": [
    "sequencer(n, [2], lambda x, i: x[i-1]**2)"
   ]
  }
 ],
 "metadata": {
  "kernelspec": {
   "display_name": "Python 3 (ipykernel)",
   "language": "python",
   "name": "python3"
  },
  "language_info": {
   "codemirror_mode": {
    "name": "ipython",
    "version": 3
   },
   "file_extension": ".py",
   "mimetype": "text/x-python",
   "name": "python",
   "nbconvert_exporter": "python",
   "pygments_lexer": "ipython3",
   "version": "3.11.4"
  }
 },
 "nbformat": 4,
 "nbformat_minor": 4
}
