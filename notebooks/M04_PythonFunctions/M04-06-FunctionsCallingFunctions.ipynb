{
 "cells": [
  {
   "cell_type": "markdown",
   "metadata": {
    "slideshow": {
     "slide_type": "slide"
    },
    "tags": []
   },
   "source": [
    "# NB: Function Groups\n",
    "\n",
    "Programming for Data Science"
   ]
  },
  {
   "cell_type": "markdown",
   "metadata": {
    "slideshow": {
     "slide_type": "slide"
    },
    "tags": []
   },
   "source": [
    "In this notebook, we illustrate an import concept of function design.\n",
    "\n",
    "We show how to design **groups of functions** that can break down a complex process into simple components.\n",
    "\n",
    "Building on the idea that functions should do one thing, or something simple, think of each function as performing a kind of **task** that is part of **a larger problem**.\n",
    "\n",
    "A task may be getting data from a user, applying a formula to some data, connecting to a database, or presenting results to a user.\n",
    "\n",
    "Other functions may perform **integrative** work &mdash; for example, they may call simpler functions and integrate them into a sequence.\n",
    "\n",
    "We can think of this as division of labor, or **separation of concerns**, among functions."
   ]
  },
  {
   "cell_type": "markdown",
   "metadata": {
    "slideshow": {
     "slide_type": "slide"
    },
    "tags": []
   },
   "source": [
    "Groups of functions associated with a common process may **interact** in various ways:\n",
    "\n",
    "By having **functions call functions**. \n",
    "\n",
    "By defining **functions within functions**.\n",
    "\n",
    "By **chaining** &mdash; where the return value of one function becomes the argument of another.\n",
    "\n",
    "By **sharing global varables**. \n",
    "\n",
    "Let's look at some examples to illustrate these points."
   ]
  },
  {
   "cell_type": "markdown",
   "metadata": {
    "slideshow": {
     "slide_type": "slide"
    },
    "tags": []
   },
   "source": [
    "## Example 1: Converting Temperatures\n",
    "\n",
    "Here are three functions that work together to make a temperature converter.\n",
    "\n",
    "Notice how the last function integrates the first two."
   ]
  },
  {
   "cell_type": "code",
   "execution_count": 6,
   "metadata": {},
   "outputs": [],
   "source": [
    "def f_to_c(temp):  \n",
    "    \"\"\"\n",
    "    Converts F to C and returns a rounded result.\n",
    "    Expects an integer and returns an integer.\n",
    "    \"\"\"\n",
    "    return round((temp - 32) * (5/9))\n",
    "    \n",
    "def c_to_f(temp):  \n",
    "    \"\"\"\n",
    "    Converts C to F and returns a rounded result.\n",
    "    Expects an integer and returns an integer.\n",
    "    \"\"\"\n",
    "    return round(temp * (9/5) + 32)\n",
    "    \n",
    "def convert(temp, scale): \n",
    "    \"\"\"\n",
    "    Combines conversion functions into a two-way converter.\n",
    "    Expects a souce temp (int) and a target scale ('f' or 'c').\n",
    "    \"\"\"\n",
    "    if scale.lower() == \"c\":\n",
    "        return f_to_c(temp)  # function call to f_to_c\n",
    "    else:\n",
    "        return c_to_f(temp)  # function call to c_to_f"
   ]
  },
  {
   "cell_type": "markdown",
   "metadata": {
    "slideshow": {
     "slide_type": "slide"
    },
    "tags": []
   },
   "source": [
    "Now, here is function that combines the above functions into a **user-facing interface** to the other functions."
   ]
  },
  {
   "cell_type": "code",
   "execution_count": 7,
   "metadata": {},
   "outputs": [],
   "source": [
    "def convert_app():\n",
    "    \"\"\"\n",
    "    Provides a user-interface to the the conversion functions.\n",
    "    \"\"\"\n",
    "    \n",
    "    # Get user input\n",
    "    temp = int(input(\"Enter a temperature: \"))                \n",
    "    scale = input(\"Enter the scale to convert to: (c or f) \")[0].lower()\n",
    "    \n",
    "    # Infer source scale, to be used in the output message\n",
    "    if scale == 'c':\n",
    "        current_scale = 'f'\n",
    "    else:\n",
    "        current_scale = 'c'\n",
    "    \n",
    "    # Do the conversion\n",
    "    converted = convert(temp, scale)\n",
    "    \n",
    "    # Print results for user\n",
    "    print(f\"{temp}{current_scale.upper()} is equal to {converted}{scale.upper()}.\")"
   ]
  },
  {
   "cell_type": "code",
   "execution_count": 8,
   "metadata": {},
   "outputs": [
    {
     "name": "stdin",
     "output_type": "stream",
     "text": [
      "Enter a temperature:  45\n",
      "Enter the scale to convert to: (c or f)  f\n"
     ]
    },
    {
     "name": "stdout",
     "output_type": "stream",
     "text": [
      "45C is equal to 113F.\n"
     ]
    }
   ],
   "source": [
    "convert_app()"
   ]
  },
  {
   "cell_type": "markdown",
   "metadata": {
    "slideshow": {
     "slide_type": "slide"
    },
    "tags": []
   },
   "source": [
    "### A More Pythonic Solution\n",
    "\n",
    "We replace if/then statements with dictionary keys.\n",
    "\n",
    "The keys represent the target temperature scale to which we are converting.\n",
    "\n",
    "Essentially, we put your logic in the data structure."
   ]
  },
  {
   "cell_type": "code",
   "execution_count": 10,
   "metadata": {},
   "outputs": [],
   "source": [
    "converters = {\n",
    "    'c': lambda t: (t - 32) * (5/9),\n",
    "    'f': lambda t: t * (9/5) + 32\n",
    "}"
   ]
  },
  {
   "cell_type": "code",
   "execution_count": 11,
   "metadata": {},
   "outputs": [],
   "source": [
    "def convert_app2():\n",
    "    \n",
    "    # Input from user\n",
    "    source_temp  = int(input(\"Enter a temperature: \"))                \n",
    "    target_scale = input(\"Enter the scale to convert to: (c or f) \")\n",
    "    \n",
    "    # Convert from one scale to the other\n",
    "    target_temp  = converters[target_scale](source_temp)\n",
    "\n",
    "    # Get the source scale for display purposes\n",
    "    source_scale = list(set(converters.keys()) - set(target_scale))[0]\n",
    "    \n",
    "    # Output to user\n",
    "    print(source_temp, source_scale, \"converted becomes:\" , round(target_temp), target_scale)"
   ]
  },
  {
   "cell_type": "code",
   "execution_count": 12,
   "metadata": {},
   "outputs": [
    {
     "name": "stdin",
     "output_type": "stream",
     "text": [
      "Enter a temperature:  45\n",
      "Enter the scale to convert to: (c or f)  f\n"
     ]
    },
    {
     "name": "stdout",
     "output_type": "stream",
     "text": [
      "45 c converted becomes: 113 f\n"
     ]
    }
   ],
   "source": [
    "convert_app2()"
   ]
  },
  {
   "cell_type": "markdown",
   "metadata": {
    "slideshow": {
     "slide_type": "slide"
    },
    "tags": []
   },
   "source": [
    "## Example 2: Counting Vowels\n",
    "\n",
    "Here is another example of functions calling each other in increasing levels of complexity."
   ]
  },
  {
   "cell_type": "code",
   "execution_count": 13,
   "metadata": {},
   "outputs": [],
   "source": [
    "def is_vowel(letter):\n",
    "    \"Tests if a letter is a vowel.\"\n",
    "    return letter in \"aeiou\"\n",
    "        \n",
    "def num_vowels(my_string):\n",
    "    \"Counts the number of vowels in a string.\"    \n",
    "    my_string = my_string.lower()\n",
    "    count = 0\n",
    "    for i in range(len(my_string)): # for each character\n",
    "        if is_vowel(my_string[i]):  # call function above\n",
    "            count += 1              # increment count if true\n",
    "    return count\n",
    "\n",
    "    # A more concise way:\n",
    "    # return sum([is_vowel(letter) for letter in my_string.lower()])\n",
    "    \n",
    "def vowel_counter():\n",
    "    \"User interface to return the number of vowels in a given string.\"\n",
    "    my_str = input(\"Enter a string: \")\n",
    "    vcount = num_vowels(my_str)\n",
    "    print(f\"There are {vcount} vowels in the string.\")"
   ]
  },
  {
   "cell_type": "code",
   "execution_count": 14,
   "metadata": {},
   "outputs": [
    {
     "name": "stdin",
     "output_type": "stream",
     "text": [
      "Enter a string:  This is a string.\n"
     ]
    },
    {
     "name": "stdout",
     "output_type": "stream",
     "text": [
      "There are 4 vowels in the string.\n"
     ]
    }
   ],
   "source": [
    "vowel_counter()"
   ]
  },
  {
   "cell_type": "markdown",
   "metadata": {
    "slideshow": {
     "slide_type": "slide"
    },
    "tags": []
   },
   "source": [
    "## Example 3: Calculating Tax\n",
    "\n",
    "In this example, we define a group of functions to perform a more complicated task. We want to compute the taxes owed for an income and a tax rate. We want our user to enter an income and to get their tax bill back."
   ]
  },
  {
   "cell_type": "markdown",
   "metadata": {
    "tags": []
   },
   "source": [
    "To compute tax, we have these data:\n",
    "\n",
    "```\n",
    "gross_pay    tax_rate\n",
    "---------------------\n",
    "0   - 240    0%\n",
    "241 - 480    15%\n",
    "481 - more   28% \n",
    "```"
   ]
  },
  {
   "cell_type": "markdown",
   "metadata": {
    "slideshow": {
     "slide_type": "slide"
    },
    "tags": []
   },
   "source": [
    "We write two related functions:\n",
    "\n",
    "* One to compute the **tax** based on a **gross pay** and a **tax rate**.\n",
    "* One to compute the **net pay** using the previous function.\n",
    "\n",
    "In addition, we write functions that use these functions to interact with a user.\n",
    "\n",
    "* One to get the input value of the gross pay and print the tax.\n",
    "* One to print the net pay based on the previous function.\n",
    "\n",
    "Note the division of labor, or \"separation of concerns\", in these functions:\n",
    "\n",
    "* Some do **calculative** work.\n",
    "* Some do **interactive** work."
   ]
  },
  {
   "cell_type": "markdown",
   "metadata": {
    "slideshow": {
     "slide_type": "slide"
    },
    "tags": []
   },
   "source": [
    "To meet these requirements, we create a group of functions that expect some **global** variables to exist and use these instead of return statements."
   ]
  },
  {
   "cell_type": "code",
   "execution_count": 1,
   "metadata": {
    "slideshow": {
     "slide_type": "slide"
    },
    "tags": []
   },
   "outputs": [],
   "source": [
    "def compute_tax():\n",
    "    \"\"\"\n",
    "    Computes tax rate and applies to gross pay to get tax.\n",
    "    Expects gross_pay to be defined globally.\n",
    "    Adds tax_rate and tax to globals for use by other functions.\n",
    "    \"\"\"\n",
    "    global tax_rate, tax\n",
    "    # Get rate by lower bound\n",
    "    if gross_pay > 480:\n",
    "        tax_rate = .28\n",
    "    elif gross_pay > 240:\n",
    "        tax_rate = .15\n",
    "    else:\n",
    "        tax_rate = 0\n",
    "    tax = gross_pay * tax_rate\n",
    "            \n",
    "def compute_net_pay():\n",
    "    \"\"\"\n",
    "    Computes net pay based on globals produced by compute_tax().\n",
    "    Expects gross_pay and tax to be defined globally.\n",
    "    Adds net_pay to to globals.\n",
    "    \"\"\"\n",
    "    global net_pay\n",
    "    net_pay = gross_pay - tax\n",
    "\n",
    "def get_tax():   \n",
    "    \"\"\"\n",
    "    Computes and prints tax based on user input.\n",
    "    Essentially a wrapper around compute_tax().\n",
    "    Adds gross_pay to globals.\n",
    "    \"\"\"\n",
    "    global gross_pay\n",
    "    gross_pay = int(input(\"Enter your gross pay in dollars: \"))                            \n",
    "    compute_tax()\n",
    "    print(f\"Based on a tax rate of {round(tax_rate * 100)}%, the tax you owe on ${gross_pay} is ${round(tax)}.\")\n",
    "    \n",
    "def get_net_pay():\n",
    "    \"\"\"\n",
    "    Computes and prints net pay based on globals.\n",
    "    \"\"\"\n",
    "    compute_net_pay()\n",
    "    print(f\"Your take home (net) pay is ${round(net_pay)}.\")\n",
    "    \n",
    "def do_all():\n",
    "    \"Runs both user-facing functions.\"\n",
    "    get_tax()\n",
    "    get_net_pay()"
   ]
  },
  {
   "cell_type": "code",
   "execution_count": 16,
   "metadata": {
    "slideshow": {
     "slide_type": "slide"
    },
    "tags": []
   },
   "outputs": [
    {
     "name": "stdin",
     "output_type": "stream",
     "text": [
      "Enter your gross pay in dollars:  1000000\n"
     ]
    },
    {
     "name": "stdout",
     "output_type": "stream",
     "text": [
      "Based on a tax rate of 28%, the tax you owe on $1000000 is $280000.\n"
     ]
    }
   ],
   "source": [
    "get_tax()"
   ]
  },
  {
   "cell_type": "code",
   "execution_count": 17,
   "metadata": {
    "tags": []
   },
   "outputs": [
    {
     "name": "stdout",
     "output_type": "stream",
     "text": [
      "Your take home (net) pay is $720000.\n"
     ]
    }
   ],
   "source": [
    "get_net_pay()"
   ]
  },
  {
   "cell_type": "code",
   "execution_count": 18,
   "metadata": {
    "tags": []
   },
   "outputs": [
    {
     "name": "stdin",
     "output_type": "stream",
     "text": [
      "Enter your gross pay in dollars:  1000000\n"
     ]
    },
    {
     "name": "stdout",
     "output_type": "stream",
     "text": [
      "Based on a tax rate of 28%, the tax you owe on $1000000 is $280000.\n",
      "Your take home (net) pay is $720000.\n"
     ]
    }
   ],
   "source": [
    "do_all()"
   ]
  },
  {
   "cell_type": "markdown",
   "metadata": {
    "slideshow": {
     "slide_type": "slide"
    },
    "tags": []
   },
   "source": [
    "Notice how **none of the functions return a value**.\n",
    "\n",
    "Nor do they take **arguments**.\n",
    "\n",
    "Instead, they give and take from **the global namespace**.\n",
    "\n",
    "This is effective when our global environment &mdash; the containing script &mdash; contains only these functions. \n",
    "\n",
    "Later in this course, we will look at mechanisms to segment our code in this way."
   ]
  },
  {
   "cell_type": "markdown",
   "metadata": {
    "slideshow": {
     "slide_type": "slide"
    },
    "tags": []
   },
   "source": [
    "## Concluding Observations\n",
    "\n",
    "Notice how each example has functions that build on each other.\n",
    "\n",
    "These functions share both data and a general goal.\n",
    "\n",
    "The fact that data and functions go together is the motivation for creating classes."
   ]
  }
 ],
 "metadata": {
  "kernelspec": {
   "display_name": "Python 3 (ipykernel)",
   "language": "python",
   "name": "python3"
  },
  "language_info": {
   "codemirror_mode": {
    "name": "ipython",
    "version": 3
   },
   "file_extension": ".py",
   "mimetype": "text/x-python",
   "name": "python",
   "nbconvert_exporter": "python",
   "pygments_lexer": "ipython3",
   "version": "3.11.4"
  }
 },
 "nbformat": 4,
 "nbformat_minor": 4
}
